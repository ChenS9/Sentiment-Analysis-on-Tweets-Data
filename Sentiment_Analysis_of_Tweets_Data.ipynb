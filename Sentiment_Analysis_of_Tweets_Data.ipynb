{
 "cells": [
  {
   "cell_type": "markdown",
   "metadata": {},
   "source": [
    "# Load data and Set Up"
   ]
  },
  {
   "cell_type": "code",
   "execution_count": 1,
   "metadata": {},
   "outputs": [
    {
     "name": "stdout",
     "output_type": "stream",
     "text": [
      "Requirement already satisfied: emoji in /opt/anaconda3/lib/python3.7/site-packages (0.6.0)\n",
      "\u001b[33mWARNING: You are using pip version 20.1; however, version 20.2.4 is available.\n",
      "You should consider upgrading via the '/opt/anaconda3/bin/python -m pip install --upgrade pip' command.\u001b[0m\n",
      "Note: you may need to restart the kernel to use updated packages.\n"
     ]
    }
   ],
   "source": [
    "pip install emoji"
   ]
  },
  {
   "cell_type": "code",
   "execution_count": 2,
   "metadata": {
    "scrolled": true
   },
   "outputs": [
    {
     "name": "stdout",
     "output_type": "stream",
     "text": [
      "Requirement already satisfied: regex in /opt/anaconda3/lib/python3.7/site-packages (2020.11.13)\n",
      "\u001b[33mWARNING: You are using pip version 20.1; however, version 20.2.4 is available.\n",
      "You should consider upgrading via the '/opt/anaconda3/bin/python -m pip install --upgrade pip' command.\u001b[0m\n",
      "Note: you may need to restart the kernel to use updated packages.\n"
     ]
    }
   ],
   "source": [
    "pip install regex"
   ]
  },
  {
   "cell_type": "code",
   "execution_count": 3,
   "metadata": {},
   "outputs": [
    {
     "name": "stdout",
     "output_type": "stream",
     "text": [
      "Requirement already satisfied: emosent-py in /opt/anaconda3/lib/python3.7/site-packages (0.1.6)\n",
      "\u001b[33mWARNING: You are using pip version 20.1; however, version 20.2.4 is available.\n",
      "You should consider upgrading via the '/opt/anaconda3/bin/python -m pip install --upgrade pip' command.\u001b[0m\n",
      "Note: you may need to restart the kernel to use updated packages.\n"
     ]
    }
   ],
   "source": [
    "pip install emosent-py"
   ]
  },
  {
   "cell_type": "markdown",
   "metadata": {},
   "source": [
    "### Load and clean data"
   ]
  },
  {
   "cell_type": "code",
   "execution_count": 4,
   "metadata": {
    "scrolled": true
   },
   "outputs": [],
   "source": [
    "import pandas as pd\n",
    "import numpy as np\n",
    "import matplotlib.pyplot as plt\n",
    "%matplotlib inline\n",
    "import seaborn as sns\n",
    "from textblob import TextBlob\n",
    "import glob\n",
    "import matplotlib.colors as mcolors\n",
    "import re\n",
    "import codecs\n",
    "import functools\n",
    "import operator\n",
    "import emoji\n",
    "import regex\n",
    "from collections import Counter"
   ]
  },
  {
   "cell_type": "code",
   "execution_count": 5,
   "metadata": {
    "scrolled": true
   },
   "outputs": [],
   "source": [
    "# read data\n",
    "tweets_data= pd.read_table(\n",
    "    '/Users/chensong/UW/SecondYear/InfoSeeking_Lab/tweets_1000.csv', \n",
    "    names = ['texts'],\n",
    "#     encoding='utf-8'\n",
    ")"
   ]
  },
  {
   "cell_type": "code",
   "execution_count": 6,
   "metadata": {},
   "outputs": [],
   "source": [
    "tweets_data['texts'] = tweets_data['texts'].apply(lambda x: codecs.escape_decode(x)[0].decode('utf-8'))"
   ]
  },
  {
   "cell_type": "code",
   "execution_count": 7,
   "metadata": {
    "scrolled": true
   },
   "outputs": [
    {
     "data": {
      "text/html": [
       "<div>\n",
       "<style scoped>\n",
       "    .dataframe tbody tr th:only-of-type {\n",
       "        vertical-align: middle;\n",
       "    }\n",
       "\n",
       "    .dataframe tbody tr th {\n",
       "        vertical-align: top;\n",
       "    }\n",
       "\n",
       "    .dataframe thead th {\n",
       "        text-align: right;\n",
       "    }\n",
       "</style>\n",
       "<table border=\"1\" class=\"dataframe\">\n",
       "  <thead>\n",
       "    <tr style=\"text-align: right;\">\n",
       "      <th></th>\n",
       "      <th>texts</th>\n",
       "    </tr>\n",
       "  </thead>\n",
       "  <tbody>\n",
       "    <tr>\n",
       "      <th>0</th>\n",
       "      <td>😑😑😫 y’all suck at social distancing.</td>\n",
       "    </tr>\n",
       "    <tr>\n",
       "      <th>1</th>\n",
       "      <td>Jasmine Strange shares a message of hope durin...</td>\n",
       "    </tr>\n",
       "    <tr>\n",
       "      <th>2</th>\n",
       "      <td>I gotta fight these allergies in public to mak...</td>\n",
       "    </tr>\n",
       "    <tr>\n",
       "      <th>3</th>\n",
       "      <td>https://t.co/57NBQ2XQsG  On Easter please reme...</td>\n",
       "    </tr>\n",
       "    <tr>\n",
       "      <th>4</th>\n",
       "      <td>@lenibriscoe I have a cute one made from recyc...</td>\n",
       "    </tr>\n",
       "    <tr>\n",
       "      <th>5</th>\n",
       "      <td>Told my Mom we should start to work from home ...</td>\n",
       "    </tr>\n",
       "    <tr>\n",
       "      <th>6</th>\n",
       "      <td>💔💔💔🙏🏽🙏🏽🙏🏽</td>\n",
       "    </tr>\n",
       "    <tr>\n",
       "      <th>7</th>\n",
       "      <td>@tracyhutchsgt @dani_cro1 @catmomus @LedionShk...</td>\n",
       "    </tr>\n",
       "    <tr>\n",
       "      <th>8</th>\n",
       "      <td>We are all in deep doo doo 🍸</td>\n",
       "    </tr>\n",
       "    <tr>\n",
       "      <th>9</th>\n",
       "      <td>To be honest, everyone was scared of #coronavi...</td>\n",
       "    </tr>\n",
       "  </tbody>\n",
       "</table>\n",
       "</div>"
      ],
      "text/plain": [
       "                                               texts\n",
       "0               😑😑😫 y’all suck at social distancing.\n",
       "1  Jasmine Strange shares a message of hope durin...\n",
       "2  I gotta fight these allergies in public to mak...\n",
       "3  https://t.co/57NBQ2XQsG  On Easter please reme...\n",
       "4  @lenibriscoe I have a cute one made from recyc...\n",
       "5  Told my Mom we should start to work from home ...\n",
       "6                                          💔💔💔🙏🏽🙏🏽🙏🏽\n",
       "7  @tracyhutchsgt @dani_cro1 @catmomus @LedionShk...\n",
       "8                       We are all in deep doo doo 🍸\n",
       "9  To be honest, everyone was scared of #coronavi..."
      ]
     },
     "execution_count": 7,
     "metadata": {},
     "output_type": "execute_result"
    }
   ],
   "source": [
    "tweets_data.head(10)"
   ]
  },
  {
   "cell_type": "markdown",
   "metadata": {},
   "source": [
    "### Split emojis and texts"
   ]
  },
  {
   "cell_type": "code",
   "execution_count": 8,
   "metadata": {},
   "outputs": [],
   "source": [
    "# Define a function that split emojis funtiondef split_count(text):\n",
    "def split_count(text):\n",
    "\n",
    "    emoji_list = []\n",
    "    data = regex.findall(r'\\X', text)\n",
    "    for word in data:\n",
    "        if any(char in emoji.UNICODE_EMOJI for char in word):\n",
    "            emoji_list.append(word)\n",
    "\n",
    "    return emoji_list"
   ]
  },
  {
   "cell_type": "code",
   "execution_count": 9,
   "metadata": {},
   "outputs": [],
   "source": [
    "full_list = []"
   ]
  },
  {
   "cell_type": "code",
   "execution_count": 10,
   "metadata": {},
   "outputs": [],
   "source": [
    "# add emojis in each tweet into a new list\n",
    "for i in range(len(tweets_data.index)):\n",
    "    full_list.append(split_count(tweets_data.iloc[i]['texts']))\n"
   ]
  },
  {
   "cell_type": "markdown",
   "metadata": {},
   "source": [
    "#### Clean the new dataframe with emojis"
   ]
  },
  {
   "cell_type": "code",
   "execution_count": 11,
   "metadata": {},
   "outputs": [],
   "source": [
    "tweets_data['emoji'] = full_list\n",
    "tweets_data['emojis'] = [','.join(map(str, l)) for l in tweets_data['emoji']]\n",
    "df_tweets = tweets_data.drop(columns=['emoji'])"
   ]
  },
  {
   "cell_type": "code",
   "execution_count": 12,
   "metadata": {
    "scrolled": true
   },
   "outputs": [
    {
     "data": {
      "text/html": [
       "<div>\n",
       "<style scoped>\n",
       "    .dataframe tbody tr th:only-of-type {\n",
       "        vertical-align: middle;\n",
       "    }\n",
       "\n",
       "    .dataframe tbody tr th {\n",
       "        vertical-align: top;\n",
       "    }\n",
       "\n",
       "    .dataframe thead th {\n",
       "        text-align: right;\n",
       "    }\n",
       "</style>\n",
       "<table border=\"1\" class=\"dataframe\">\n",
       "  <thead>\n",
       "    <tr style=\"text-align: right;\">\n",
       "      <th></th>\n",
       "      <th>texts</th>\n",
       "      <th>emojis</th>\n",
       "    </tr>\n",
       "  </thead>\n",
       "  <tbody>\n",
       "    <tr>\n",
       "      <th>0</th>\n",
       "      <td>😑😑😫 y’all suck at social distancing.</td>\n",
       "      <td>😑,😑,😫</td>\n",
       "    </tr>\n",
       "    <tr>\n",
       "      <th>1</th>\n",
       "      <td>Jasmine Strange shares a message of hope durin...</td>\n",
       "      <td></td>\n",
       "    </tr>\n",
       "    <tr>\n",
       "      <th>2</th>\n",
       "      <td>I gotta fight these allergies in public to mak...</td>\n",
       "      <td>💀,🙈</td>\n",
       "    </tr>\n",
       "    <tr>\n",
       "      <th>3</th>\n",
       "      <td>https://t.co/57NBQ2XQsG  On Easter please reme...</td>\n",
       "      <td></td>\n",
       "    </tr>\n",
       "    <tr>\n",
       "      <th>4</th>\n",
       "      <td>@lenibriscoe I have a cute one made from recyc...</td>\n",
       "      <td></td>\n",
       "    </tr>\n",
       "    <tr>\n",
       "      <th>5</th>\n",
       "      <td>Told my Mom we should start to work from home ...</td>\n",
       "      <td></td>\n",
       "    </tr>\n",
       "    <tr>\n",
       "      <th>6</th>\n",
       "      <td>💔💔💔🙏🏽🙏🏽🙏🏽</td>\n",
       "      <td>💔,💔,💔,🙏🏽,🙏🏽,🙏🏽</td>\n",
       "    </tr>\n",
       "    <tr>\n",
       "      <th>7</th>\n",
       "      <td>@tracyhutchsgt @dani_cro1 @catmomus @LedionShk...</td>\n",
       "      <td></td>\n",
       "    </tr>\n",
       "    <tr>\n",
       "      <th>8</th>\n",
       "      <td>We are all in deep doo doo 🍸</td>\n",
       "      <td>🍸</td>\n",
       "    </tr>\n",
       "    <tr>\n",
       "      <th>9</th>\n",
       "      <td>To be honest, everyone was scared of #coronavi...</td>\n",
       "      <td></td>\n",
       "    </tr>\n",
       "  </tbody>\n",
       "</table>\n",
       "</div>"
      ],
      "text/plain": [
       "                                               texts          emojis\n",
       "0               😑😑😫 y’all suck at social distancing.           😑,😑,😫\n",
       "1  Jasmine Strange shares a message of hope durin...                \n",
       "2  I gotta fight these allergies in public to mak...             💀,🙈\n",
       "3  https://t.co/57NBQ2XQsG  On Easter please reme...                \n",
       "4  @lenibriscoe I have a cute one made from recyc...                \n",
       "5  Told my Mom we should start to work from home ...                \n",
       "6                                          💔💔💔🙏🏽🙏🏽🙏🏽  💔,💔,💔,🙏🏽,🙏🏽,🙏🏽\n",
       "7  @tracyhutchsgt @dani_cro1 @catmomus @LedionShk...                \n",
       "8                       We are all in deep doo doo 🍸               🍸\n",
       "9  To be honest, everyone was scared of #coronavi...                "
      ]
     },
     "execution_count": 12,
     "metadata": {},
     "output_type": "execute_result"
    }
   ],
   "source": [
    "df_tweets.head(10)"
   ]
  },
  {
   "cell_type": "markdown",
   "metadata": {},
   "source": [
    "# In-depth Analysis"
   ]
  },
  {
   "cell_type": "markdown",
   "metadata": {},
   "source": [
    "### Tidy the text data"
   ]
  },
  {
   "cell_type": "code",
   "execution_count": 13,
   "metadata": {},
   "outputs": [],
   "source": [
    "from nltk.corpus import stopwords"
   ]
  },
  {
   "cell_type": "code",
   "execution_count": 14,
   "metadata": {},
   "outputs": [],
   "source": [
    "# Convert to lower case\n",
    "df_tweets = df_tweets.apply(lambda x: x.astype(str).str.lower())\n",
    "# Romove punctuation\n",
    "df_tweets = df_tweets.apply(lambda x: x.astype(str).str.replace('[^\\w\\s]',' '))\n",
    "# split the sentence to words\n",
    "df_tokens = df_tweets.apply(lambda x : x.astype(str).str.split())\n",
    "# Romove stopwords\n",
    "stop_words = stopwords.words('english')\n",
    "df_token_tidy = pd.DataFrame(df_tokens['texts'].apply(lambda x: [item for item in x if item not in stop_words]))"
   ]
  },
  {
   "cell_type": "code",
   "execution_count": 15,
   "metadata": {
    "scrolled": true
   },
   "outputs": [
    {
     "data": {
      "text/html": [
       "<div>\n",
       "<style scoped>\n",
       "    .dataframe tbody tr th:only-of-type {\n",
       "        vertical-align: middle;\n",
       "    }\n",
       "\n",
       "    .dataframe tbody tr th {\n",
       "        vertical-align: top;\n",
       "    }\n",
       "\n",
       "    .dataframe thead th {\n",
       "        text-align: right;\n",
       "    }\n",
       "</style>\n",
       "<table border=\"1\" class=\"dataframe\">\n",
       "  <thead>\n",
       "    <tr style=\"text-align: right;\">\n",
       "      <th></th>\n",
       "      <th>texts</th>\n",
       "    </tr>\n",
       "  </thead>\n",
       "  <tbody>\n",
       "    <tr>\n",
       "      <th>0</th>\n",
       "      <td>[suck, social, distancing]</td>\n",
       "    </tr>\n",
       "    <tr>\n",
       "      <th>1</th>\n",
       "      <td>[jasmine, strange, shares, message, hope, life...</td>\n",
       "    </tr>\n",
       "    <tr>\n",
       "      <th>2</th>\n",
       "      <td>[gotta, fight, allergies, public, make, sure, ...</td>\n",
       "    </tr>\n",
       "    <tr>\n",
       "      <th>3</th>\n",
       "      <td>[https, co, 57nbq2xqsg, easter, please, rememb...</td>\n",
       "    </tr>\n",
       "    <tr>\n",
       "      <th>4</th>\n",
       "      <td>[lenibriscoe, cute, one, made, recycled, sari,...</td>\n",
       "    </tr>\n",
       "  </tbody>\n",
       "</table>\n",
       "</div>"
      ],
      "text/plain": [
       "                                               texts\n",
       "0                         [suck, social, distancing]\n",
       "1  [jasmine, strange, shares, message, hope, life...\n",
       "2  [gotta, fight, allergies, public, make, sure, ...\n",
       "3  [https, co, 57nbq2xqsg, easter, please, rememb...\n",
       "4  [lenibriscoe, cute, one, made, recycled, sari,..."
      ]
     },
     "execution_count": 15,
     "metadata": {},
     "output_type": "execute_result"
    }
   ],
   "source": [
    "df_token_tidy.head()"
   ]
  },
  {
   "cell_type": "markdown",
   "metadata": {},
   "source": [
    "### Word Cloud"
   ]
  },
  {
   "cell_type": "code",
   "execution_count": 16,
   "metadata": {},
   "outputs": [],
   "source": [
    "from wordcloud import WordCloud"
   ]
  },
  {
   "cell_type": "code",
   "execution_count": 17,
   "metadata": {},
   "outputs": [],
   "source": [
    "# make a word cloud list\n",
    "cloud_list = []\n",
    "for index, row in df_token_tidy.iterrows():\n",
    "    for word in row[0]:\n",
    "        cloud_list.append(word)\n",
    "# join every word in the list\n",
    "comment = \" \".join(w for w in cloud_list)"
   ]
  },
  {
   "cell_type": "code",
   "execution_count": 18,
   "metadata": {
    "scrolled": true
   },
   "outputs": [
    {
     "data": {
      "image/png": "[encoded data removed]",
      "text/plain": [
       "<Figure size 432x432 with 1 Axes>"
      ]
     },
     "metadata": {
      "needs_background": "light"
     },
     "output_type": "display_data"
    }
   ],
   "source": [
    "# create a word cloud\n",
    "wordcloud_comment = WordCloud(width = 800, height = 500, \n",
    "                background_color ='white',  \n",
    "                min_font_size = 10).generate(comment) \n",
    "# plot the WordCloud image                        \n",
    "plt.figure(figsize = (6, 6), facecolor = None) \n",
    "plt.imshow(wordcloud_comment) \n",
    "plt.axis(\"off\") \n",
    "plt.tight_layout(pad = 0) \n",
    "  \n",
    "plt.show()"
   ]
  },
  {
   "cell_type": "markdown",
   "metadata": {},
   "source": [
    "### Findings from wordcloud"
   ]
  },
  {
   "cell_type": "markdown",
   "metadata": {},
   "source": [
    "    From the word cloud, we can see that people are mostly talking about COVID-19 on tweets. We can also see that people show concerns and worries from words such as \"death\", \"please\", \"help\", and \"fuck\" etc. In addition, people are talking about politics based on the pandemic, we can see some political-related words, like \"china\", \"trump\", and \"califonia\" etc,; Words like \"mask\", \"test\" show that people are talking about the current regulations during the pandemic.\n",
    "    Word cloud provides us a overview of what people are talking about on tweets and what are the popular topics, but since wordcloud only shows limited word and we can only tell by subjectivity of ourselves, we need more in-depth analysis to understand the meaning behind the scene."
   ]
  },
  {
   "cell_type": "markdown",
   "metadata": {},
   "source": [
    "### Lemmatize the data"
   ]
  },
  {
   "cell_type": "code",
   "execution_count": 19,
   "metadata": {},
   "outputs": [],
   "source": [
    "from nltk.stem import WordNetLemmatizer "
   ]
  },
  {
   "cell_type": "code",
   "execution_count": 20,
   "metadata": {},
   "outputs": [
    {
     "data": {
      "text/plain": [
       "0                               suck social distancing\n",
       "1    jasmine strange shares message hope life covid...\n",
       "2    gotta fight allergies public make sure people ...\n",
       "3    https co 57nbq2xqsg easter please remember poo...\n",
       "4    lenibriscoe cute one made recycled sari silk f...\n",
       "Name: texts, dtype: object"
      ]
     },
     "execution_count": 20,
     "metadata": {},
     "output_type": "execute_result"
    }
   ],
   "source": [
    "df_tweets_tidy = df_token_tidy['texts'].apply(lambda x: \" \".join (word for word in x))\n",
    "df_tweets_tidy.head()"
   ]
  },
  {
   "cell_type": "code",
   "execution_count": 21,
   "metadata": {},
   "outputs": [],
   "source": [
    "lemmatizer = WordNetLemmatizer() \n",
    "df_tweets_tidy_lemmatizer = df_tweets_tidy.apply(lambda x: ' '.join([lemmatizer.lemmatize(word) for word in x.split()]))"
   ]
  },
  {
   "cell_type": "markdown",
   "metadata": {},
   "source": [
    "### Tokenize data using unigrams"
   ]
  },
  {
   "cell_type": "code",
   "execution_count": 22,
   "metadata": {},
   "outputs": [],
   "source": [
    "from sklearn.feature_extraction.text import CountVectorizer"
   ]
  },
  {
   "cell_type": "code",
   "execution_count": 23,
   "metadata": {},
   "outputs": [
    {
     "data": {
      "text/plain": [
       "(971, 4860)"
      ]
     },
     "execution_count": 23,
     "metadata": {},
     "output_type": "execute_result"
    }
   ],
   "source": [
    "\n",
    "vectorizer = CountVectorizer()\n",
    "vectorizer.fit(df_tweets_tidy_lemmatizer)\n",
    "counts_tweets = vectorizer.transform(df_tweets_tidy_lemmatizer)\n",
    "counts_tweets = counts_tweets.toarray()\n",
    "counts_tweets.shape"
   ]
  },
  {
   "cell_type": "code",
   "execution_count": 24,
   "metadata": {},
   "outputs": [],
   "source": [
    "counts_tweets = pd.DataFrame(counts_tweets, columns = vectorizer.get_feature_names())"
   ]
  },
  {
   "cell_type": "code",
   "execution_count": 25,
   "metadata": {},
   "outputs": [
    {
     "data": {
      "text/plain": [
       "(971, 4860)"
      ]
     },
     "execution_count": 25,
     "metadata": {},
     "output_type": "execute_result"
    }
   ],
   "source": [
    "counts_tweets.shape"
   ]
  },
  {
   "cell_type": "markdown",
   "metadata": {},
   "source": [
    "### Combine emojis with lemmatized text"
   ]
  },
  {
   "cell_type": "code",
   "execution_count": 26,
   "metadata": {},
   "outputs": [],
   "source": [
    "# reformat the dataframe orignal data frames to combine\n",
    "df_tweets_tidy_lemmatizer = pd.DataFrame(df_tweets_tidy_lemmatizer)\n",
    "tidy_tweets_with_emojis = pd.concat([df_tweets_tidy_lemmatizer, tweets_data], axis = 1, sort = False)\n",
    "tidy_tweets_with_emojis.columns = ['tidy_texts', 'full texts','emoji','emojis']\n",
    "tweets_with_emojis = tidy_tweets_with_emojis.drop(tidy_tweets_with_emojis.columns[[1, 2]], axis=1)"
   ]
  },
  {
   "cell_type": "code",
   "execution_count": 27,
   "metadata": {},
   "outputs": [
    {
     "data": {
      "text/html": [
       "<div>\n",
       "<style scoped>\n",
       "    .dataframe tbody tr th:only-of-type {\n",
       "        vertical-align: middle;\n",
       "    }\n",
       "\n",
       "    .dataframe tbody tr th {\n",
       "        vertical-align: top;\n",
       "    }\n",
       "\n",
       "    .dataframe thead th {\n",
       "        text-align: right;\n",
       "    }\n",
       "</style>\n",
       "<table border=\"1\" class=\"dataframe\">\n",
       "  <thead>\n",
       "    <tr style=\"text-align: right;\">\n",
       "      <th></th>\n",
       "      <th>tidy_texts</th>\n",
       "      <th>emojis</th>\n",
       "    </tr>\n",
       "  </thead>\n",
       "  <tbody>\n",
       "    <tr>\n",
       "      <th>0</th>\n",
       "      <td>suck social distancing</td>\n",
       "      <td>😑,😑,😫</td>\n",
       "    </tr>\n",
       "    <tr>\n",
       "      <th>1</th>\n",
       "      <td>jasmine strange share message hope life covid1...</td>\n",
       "      <td></td>\n",
       "    </tr>\n",
       "    <tr>\n",
       "      <th>2</th>\n",
       "      <td>gotta fight allergy public make sure people th...</td>\n",
       "      <td>💀,🙈</td>\n",
       "    </tr>\n",
       "    <tr>\n",
       "      <th>3</th>\n",
       "      <td>http co 57nbq2xqsg easter please remember poor...</td>\n",
       "      <td></td>\n",
       "    </tr>\n",
       "    <tr>\n",
       "      <th>4</th>\n",
       "      <td>lenibriscoe cute one made recycled sari silk f...</td>\n",
       "      <td></td>\n",
       "    </tr>\n",
       "  </tbody>\n",
       "</table>\n",
       "</div>"
      ],
      "text/plain": [
       "                                          tidy_texts emojis\n",
       "0                             suck social distancing  😑,😑,😫\n",
       "1  jasmine strange share message hope life covid1...       \n",
       "2  gotta fight allergy public make sure people th...    💀,🙈\n",
       "3  http co 57nbq2xqsg easter please remember poor...       \n",
       "4  lenibriscoe cute one made recycled sari silk f...       "
      ]
     },
     "execution_count": 27,
     "metadata": {},
     "output_type": "execute_result"
    }
   ],
   "source": [
    "# check format\n",
    "tweets_with_emojis.head()"
   ]
  },
  {
   "cell_type": "code",
   "execution_count": 28,
   "metadata": {},
   "outputs": [],
   "source": [
    "# Combine two columns\n",
    "tweets_with_emojis[\"full_message\"] = tweets_with_emojis[\"tidy_texts\"] + tweets_with_emojis[\"emojis\"]"
   ]
  },
  {
   "cell_type": "code",
   "execution_count": 29,
   "metadata": {
    "scrolled": true
   },
   "outputs": [
    {
     "data": {
      "text/html": [
       "<div>\n",
       "<style scoped>\n",
       "    .dataframe tbody tr th:only-of-type {\n",
       "        vertical-align: middle;\n",
       "    }\n",
       "\n",
       "    .dataframe tbody tr th {\n",
       "        vertical-align: top;\n",
       "    }\n",
       "\n",
       "    .dataframe thead th {\n",
       "        text-align: right;\n",
       "    }\n",
       "</style>\n",
       "<table border=\"1\" class=\"dataframe\">\n",
       "  <thead>\n",
       "    <tr style=\"text-align: right;\">\n",
       "      <th></th>\n",
       "      <th>tidy_texts</th>\n",
       "      <th>emojis</th>\n",
       "      <th>full_message</th>\n",
       "    </tr>\n",
       "  </thead>\n",
       "  <tbody>\n",
       "    <tr>\n",
       "      <th>0</th>\n",
       "      <td>suck social distancing</td>\n",
       "      <td>😑,😑,😫</td>\n",
       "      <td>suck social distancing😑,😑,😫</td>\n",
       "    </tr>\n",
       "    <tr>\n",
       "      <th>1</th>\n",
       "      <td>jasmine strange share message hope life covid1...</td>\n",
       "      <td></td>\n",
       "      <td>jasmine strange share message hope life covid1...</td>\n",
       "    </tr>\n",
       "    <tr>\n",
       "      <th>2</th>\n",
       "      <td>gotta fight allergy public make sure people th...</td>\n",
       "      <td>💀,🙈</td>\n",
       "      <td>gotta fight allergy public make sure people th...</td>\n",
       "    </tr>\n",
       "    <tr>\n",
       "      <th>3</th>\n",
       "      <td>http co 57nbq2xqsg easter please remember poor...</td>\n",
       "      <td></td>\n",
       "      <td>http co 57nbq2xqsg easter please remember poor...</td>\n",
       "    </tr>\n",
       "    <tr>\n",
       "      <th>4</th>\n",
       "      <td>lenibriscoe cute one made recycled sari silk f...</td>\n",
       "      <td></td>\n",
       "      <td>lenibriscoe cute one made recycled sari silk f...</td>\n",
       "    </tr>\n",
       "    <tr>\n",
       "      <th>5</th>\n",
       "      <td>told mom start work home due corona one else w...</td>\n",
       "      <td></td>\n",
       "      <td>told mom start work home due corona one else w...</td>\n",
       "    </tr>\n",
       "    <tr>\n",
       "      <th>6</th>\n",
       "      <td></td>\n",
       "      <td>💔,💔,💔,🙏🏽,🙏🏽,🙏🏽</td>\n",
       "      <td>💔,💔,💔,🙏🏽,🙏🏽,🙏🏽</td>\n",
       "    </tr>\n",
       "  </tbody>\n",
       "</table>\n",
       "</div>"
      ],
      "text/plain": [
       "                                          tidy_texts          emojis  \\\n",
       "0                             suck social distancing           😑,😑,😫   \n",
       "1  jasmine strange share message hope life covid1...                   \n",
       "2  gotta fight allergy public make sure people th...             💀,🙈   \n",
       "3  http co 57nbq2xqsg easter please remember poor...                   \n",
       "4  lenibriscoe cute one made recycled sari silk f...                   \n",
       "5  told mom start work home due corona one else w...                   \n",
       "6                                                     💔,💔,💔,🙏🏽,🙏🏽,🙏🏽   \n",
       "\n",
       "                                        full_message  \n",
       "0                        suck social distancing😑,😑,😫  \n",
       "1  jasmine strange share message hope life covid1...  \n",
       "2  gotta fight allergy public make sure people th...  \n",
       "3  http co 57nbq2xqsg easter please remember poor...  \n",
       "4  lenibriscoe cute one made recycled sari silk f...  \n",
       "5  told mom start work home due corona one else w...  \n",
       "6                                     💔,💔,💔,🙏🏽,🙏🏽,🙏🏽  "
      ]
     },
     "execution_count": 29,
     "metadata": {},
     "output_type": "execute_result"
    }
   ],
   "source": [
    "tweets_with_emojis.head(7)"
   ]
  },
  {
   "cell_type": "code",
   "execution_count": 30,
   "metadata": {},
   "outputs": [
    {
     "data": {
      "text/html": [
       "<div>\n",
       "<style scoped>\n",
       "    .dataframe tbody tr th:only-of-type {\n",
       "        vertical-align: middle;\n",
       "    }\n",
       "\n",
       "    .dataframe tbody tr th {\n",
       "        vertical-align: top;\n",
       "    }\n",
       "\n",
       "    .dataframe thead th {\n",
       "        text-align: right;\n",
       "    }\n",
       "</style>\n",
       "<table border=\"1\" class=\"dataframe\">\n",
       "  <thead>\n",
       "    <tr style=\"text-align: right;\">\n",
       "      <th></th>\n",
       "      <th>full_message</th>\n",
       "    </tr>\n",
       "  </thead>\n",
       "  <tbody>\n",
       "    <tr>\n",
       "      <th>0</th>\n",
       "      <td>suck social distancing😑,😑,😫</td>\n",
       "    </tr>\n",
       "    <tr>\n",
       "      <th>1</th>\n",
       "      <td>jasmine strange share message hope life covid1...</td>\n",
       "    </tr>\n",
       "    <tr>\n",
       "      <th>2</th>\n",
       "      <td>gotta fight allergy public make sure people th...</td>\n",
       "    </tr>\n",
       "    <tr>\n",
       "      <th>3</th>\n",
       "      <td>http co 57nbq2xqsg easter please remember poor...</td>\n",
       "    </tr>\n",
       "    <tr>\n",
       "      <th>4</th>\n",
       "      <td>lenibriscoe cute one made recycled sari silk f...</td>\n",
       "    </tr>\n",
       "  </tbody>\n",
       "</table>\n",
       "</div>"
      ],
      "text/plain": [
       "                                        full_message\n",
       "0                        suck social distancing😑,😑,😫\n",
       "1  jasmine strange share message hope life covid1...\n",
       "2  gotta fight allergy public make sure people th...\n",
       "3  http co 57nbq2xqsg easter please remember poor...\n",
       "4  lenibriscoe cute one made recycled sari silk f..."
      ]
     },
     "execution_count": 30,
     "metadata": {},
     "output_type": "execute_result"
    }
   ],
   "source": [
    "tweets = tweets_with_emojis['full_message']\n",
    "df_full_tidy_tweets = pd.DataFrame(tweets)\n",
    "df_full_tidy_tweets.head()"
   ]
  },
  {
   "cell_type": "markdown",
   "metadata": {},
   "source": [
    "## Sentiment Analysis on text and emoji"
   ]
  },
  {
   "cell_type": "markdown",
   "metadata": {},
   "source": [
    "### Sentiment Analysis on texts"
   ]
  },
  {
   "cell_type": "markdown",
   "metadata": {},
   "source": [
    "### TextBlob"
   ]
  },
  {
   "cell_type": "code",
   "execution_count": 31,
   "metadata": {},
   "outputs": [],
   "source": [
    "def sentimentscore(x):\n",
    "    return TextBlob(x).sentiment   \n",
    "# sentiment score on tweets data\n",
    "df_tweets_sentiment = pd.DataFrame([sentimentscore(x) for x in tweets])\n"
   ]
  },
  {
   "cell_type": "markdown",
   "metadata": {},
   "source": [
    "df_tweets_sentiment.head()"
   ]
  },
  {
   "cell_type": "markdown",
   "metadata": {},
   "source": [
    "#### Explore the results"
   ]
  },
  {
   "cell_type": "code",
   "execution_count": 32,
   "metadata": {
    "scrolled": true
   },
   "outputs": [
    {
     "data": {
      "text/plain": [
       "<matplotlib.axes._subplots.AxesSubplot at 0x1a23dd6290>"
      ]
     },
     "execution_count": 32,
     "metadata": {},
     "output_type": "execute_result"
    },
    {
     "data": {
      "image/png": "[encoded data removed]",
      "text/plain": [
       "<Figure size 432x288 with 1 Axes>"
      ]
     },
     "metadata": {
      "needs_background": "light"
     },
     "output_type": "display_data"
    }
   ],
   "source": [
    "df_tweets_sentiment['polarity'].hist(log=True, bins=50)"
   ]
  },
  {
   "cell_type": "code",
   "execution_count": 33,
   "metadata": {
    "scrolled": true
   },
   "outputs": [
    {
     "data": {
      "text/plain": [
       "False    619\n",
       "True     352\n",
       "Name: polarity, dtype: int64"
      ]
     },
     "execution_count": 33,
     "metadata": {},
     "output_type": "execute_result"
    }
   ],
   "source": [
    "(df_tweets_sentiment['polarity'] > 0).value_counts()"
   ]
  },
  {
   "cell_type": "code",
   "execution_count": 34,
   "metadata": {
    "scrolled": false
   },
   "outputs": [
    {
     "data": {
      "text/plain": [
       "Text(0.5, 1.0, 'negative subjectivity')"
      ]
     },
     "execution_count": 34,
     "metadata": {},
     "output_type": "execute_result"
    },
    {
     "data": {
      "image/png": "[encoded data removed]",
      "text/plain": [
       "<Figure size 432x288 with 1 Axes>"
      ]
     },
     "metadata": {
      "needs_background": "light"
     },
     "output_type": "display_data"
    }
   ],
   "source": [
    "df_tweets_sentiment[df_tweets_sentiment['polarity'] < 0]['subjectivity']\\\n",
    "    .hist(bins=50)\n",
    "plt.title('negative subjectivity')"
   ]
  },
  {
   "cell_type": "code",
   "execution_count": 35,
   "metadata": {
    "scrolled": false
   },
   "outputs": [
    {
     "data": {
      "text/plain": [
       "Text(0.5, 1.0, 'positive subjectivity')"
      ]
     },
     "execution_count": 35,
     "metadata": {},
     "output_type": "execute_result"
    },
    {
     "data": {
      "image/png": "[encoded data removed]",
      "text/plain": [
       "<Figure size 432x288 with 1 Axes>"
      ]
     },
     "metadata": {
      "needs_background": "light"
     },
     "output_type": "display_data"
    }
   ],
   "source": [
    "df_tweets_sentiment[df_tweets_sentiment['polarity'] > 0]['subjectivity']\\\n",
    "    .hist(bins=50)\n",
    "plt.title('positive subjectivity')"
   ]
  },
  {
   "cell_type": "code",
   "execution_count": 36,
   "metadata": {},
   "outputs": [],
   "source": [
    "tweets_data_with_sentiment = pd.concat([tweets, df_tweets_sentiment], \n",
    "                          axis=1, sort=False)"
   ]
  },
  {
   "cell_type": "code",
   "execution_count": 37,
   "metadata": {
    "scrolled": true
   },
   "outputs": [
    {
     "data": {
      "text/html": [
       "<div>\n",
       "<style scoped>\n",
       "    .dataframe tbody tr th:only-of-type {\n",
       "        vertical-align: middle;\n",
       "    }\n",
       "\n",
       "    .dataframe tbody tr th {\n",
       "        vertical-align: top;\n",
       "    }\n",
       "\n",
       "    .dataframe thead th {\n",
       "        text-align: right;\n",
       "    }\n",
       "</style>\n",
       "<table border=\"1\" class=\"dataframe\">\n",
       "  <thead>\n",
       "    <tr style=\"text-align: right;\">\n",
       "      <th></th>\n",
       "      <th>full_message</th>\n",
       "      <th>polarity</th>\n",
       "      <th>subjectivity</th>\n",
       "    </tr>\n",
       "  </thead>\n",
       "  <tbody>\n",
       "    <tr>\n",
       "      <th>0</th>\n",
       "      <td>suck social distancing😑,😑,😫</td>\n",
       "      <td>0.033333</td>\n",
       "      <td>0.066667</td>\n",
       "    </tr>\n",
       "    <tr>\n",
       "      <th>1</th>\n",
       "      <td>jasmine strange share message hope life covid1...</td>\n",
       "      <td>-0.050000</td>\n",
       "      <td>0.150000</td>\n",
       "    </tr>\n",
       "    <tr>\n",
       "      <th>2</th>\n",
       "      <td>gotta fight allergy public make sure people th...</td>\n",
       "      <td>0.250000</td>\n",
       "      <td>0.477778</td>\n",
       "    </tr>\n",
       "    <tr>\n",
       "      <th>3</th>\n",
       "      <td>http co 57nbq2xqsg easter please remember poor...</td>\n",
       "      <td>-0.400000</td>\n",
       "      <td>0.600000</td>\n",
       "    </tr>\n",
       "    <tr>\n",
       "      <th>4</th>\n",
       "      <td>lenibriscoe cute one made recycled sari silk f...</td>\n",
       "      <td>0.500000</td>\n",
       "      <td>1.000000</td>\n",
       "    </tr>\n",
       "  </tbody>\n",
       "</table>\n",
       "</div>"
      ],
      "text/plain": [
       "                                        full_message  polarity  subjectivity\n",
       "0                        suck social distancing😑,😑,😫  0.033333      0.066667\n",
       "1  jasmine strange share message hope life covid1... -0.050000      0.150000\n",
       "2  gotta fight allergy public make sure people th...  0.250000      0.477778\n",
       "3  http co 57nbq2xqsg easter please remember poor... -0.400000      0.600000\n",
       "4  lenibriscoe cute one made recycled sari silk f...  0.500000      1.000000"
      ]
     },
     "execution_count": 37,
     "metadata": {},
     "output_type": "execute_result"
    }
   ],
   "source": [
    "tweets_data_with_sentiment.head()"
   ]
  },
  {
   "cell_type": "markdown",
   "metadata": {},
   "source": [
    "### NLTK"
   ]
  },
  {
   "cell_type": "code",
   "execution_count": 38,
   "metadata": {},
   "outputs": [],
   "source": [
    "import nltk"
   ]
  },
  {
   "cell_type": "code",
   "execution_count": 39,
   "metadata": {},
   "outputs": [
    {
     "name": "stderr",
     "output_type": "stream",
     "text": [
      "[nltk_data] Downloading package vader_lexicon to\n",
      "[nltk_data]     /Users/chensong/nltk_data...\n",
      "[nltk_data]   Package vader_lexicon is already up-to-date!\n"
     ]
    }
   ],
   "source": [
    "nltk.download('vader_lexicon')\n",
    "from nltk.sentiment.vader import SentimentIntensityAnalyzer\n",
    "sid = SentimentIntensityAnalyzer()\n",
    "df_tweets_sentiment_NLTK = pd.DataFrame([sid.polarity_scores(x) for x in tweets])"
   ]
  },
  {
   "cell_type": "code",
   "execution_count": 40,
   "metadata": {
    "scrolled": true
   },
   "outputs": [
    {
     "data": {
      "text/html": [
       "<div>\n",
       "<style scoped>\n",
       "    .dataframe tbody tr th:only-of-type {\n",
       "        vertical-align: middle;\n",
       "    }\n",
       "\n",
       "    .dataframe tbody tr th {\n",
       "        vertical-align: top;\n",
       "    }\n",
       "\n",
       "    .dataframe thead th {\n",
       "        text-align: right;\n",
       "    }\n",
       "</style>\n",
       "<table border=\"1\" class=\"dataframe\">\n",
       "  <thead>\n",
       "    <tr style=\"text-align: right;\">\n",
       "      <th></th>\n",
       "      <th>neg</th>\n",
       "      <th>neu</th>\n",
       "      <th>pos</th>\n",
       "      <th>compound</th>\n",
       "    </tr>\n",
       "  </thead>\n",
       "  <tbody>\n",
       "    <tr>\n",
       "      <th>0</th>\n",
       "      <td>0.592</td>\n",
       "      <td>0.408</td>\n",
       "      <td>0.000</td>\n",
       "      <td>-0.4404</td>\n",
       "    </tr>\n",
       "    <tr>\n",
       "      <th>1</th>\n",
       "      <td>0.074</td>\n",
       "      <td>0.615</td>\n",
       "      <td>0.311</td>\n",
       "      <td>0.7003</td>\n",
       "    </tr>\n",
       "    <tr>\n",
       "      <th>2</th>\n",
       "      <td>0.202</td>\n",
       "      <td>0.620</td>\n",
       "      <td>0.178</td>\n",
       "      <td>-0.0772</td>\n",
       "    </tr>\n",
       "    <tr>\n",
       "      <th>3</th>\n",
       "      <td>0.168</td>\n",
       "      <td>0.543</td>\n",
       "      <td>0.288</td>\n",
       "      <td>0.2960</td>\n",
       "    </tr>\n",
       "    <tr>\n",
       "      <th>4</th>\n",
       "      <td>0.000</td>\n",
       "      <td>0.563</td>\n",
       "      <td>0.437</td>\n",
       "      <td>0.7351</td>\n",
       "    </tr>\n",
       "  </tbody>\n",
       "</table>\n",
       "</div>"
      ],
      "text/plain": [
       "     neg    neu    pos  compound\n",
       "0  0.592  0.408  0.000   -0.4404\n",
       "1  0.074  0.615  0.311    0.7003\n",
       "2  0.202  0.620  0.178   -0.0772\n",
       "3  0.168  0.543  0.288    0.2960\n",
       "4  0.000  0.563  0.437    0.7351"
      ]
     },
     "execution_count": 40,
     "metadata": {},
     "output_type": "execute_result"
    }
   ],
   "source": [
    "df_tweets_sentiment_NLTK.head()"
   ]
  },
  {
   "cell_type": "markdown",
   "metadata": {},
   "source": [
    "#### Explore the results"
   ]
  },
  {
   "cell_type": "code",
   "execution_count": 41,
   "metadata": {
    "scrolled": true
   },
   "outputs": [
    {
     "data": {
      "text/plain": [
       "False    600\n",
       "True     371\n",
       "Name: compound, dtype: int64"
      ]
     },
     "execution_count": 41,
     "metadata": {},
     "output_type": "execute_result"
    }
   ],
   "source": [
    "(df_tweets_sentiment_NLTK['compound'] > 0).value_counts()"
   ]
  },
  {
   "cell_type": "code",
   "execution_count": 42,
   "metadata": {
    "scrolled": false
   },
   "outputs": [
    {
     "data": {
      "text/plain": [
       "<matplotlib.axes._subplots.AxesSubplot at 0x1a24ca7a90>"
      ]
     },
     "execution_count": 42,
     "metadata": {},
     "output_type": "execute_result"
    },
    {
     "data": {
      "image/png": "[encoded data removed]",
      "text/plain": [
       "<Figure size 432x288 with 1 Axes>"
      ]
     },
     "metadata": {
      "needs_background": "light"
     },
     "output_type": "display_data"
    }
   ],
   "source": [
    "df_tweets_sentiment_NLTK['compound'].hist(bins=50, log=True)"
   ]
  },
  {
   "cell_type": "markdown",
   "metadata": {},
   "source": [
    "### Findings from sentiment analysis on texts using TextBlob and NLTK"
   ]
  },
  {
   "cell_type": "markdown",
   "metadata": {},
   "source": [
    "    Compare the results from NLTK and TextBlob, we can see that they are pretty similar to the TextBlob. Both of them show that there are more nagetive tweets than positive.From the result, we can also see that most negative tweets are subjective. Positive subjectivity is more denser in low subjectivity area than positive subjectivity, this could mean people show more positive comments because they are talking about some facts instead of feelings. But the numbers of total subjectivity(when subjectivity = 1) are relatively large in both analysis."
   ]
  },
  {
   "cell_type": "markdown",
   "metadata": {},
   "source": [
    "### TF-IDF Analysis"
   ]
  },
  {
   "cell_type": "code",
   "execution_count": 43,
   "metadata": {},
   "outputs": [],
   "source": [
    "from sklearn.feature_extraction.text import TfidfVectorizer"
   ]
  },
  {
   "cell_type": "code",
   "execution_count": 44,
   "metadata": {},
   "outputs": [],
   "source": [
    "# Add feature TF-IDF\n",
    "tfidfvec = TfidfVectorizer()\n",
    "tfidf_tweets = tfidfvec.fit_transform(df_tweets_tidy_lemmatizer.values.squeeze())\n",
    "# convert to a dataframe\n",
    "df_tfidf_tweets = pd.DataFrame(tfidf_tweets.toarray(), columns = tfidfvec.get_feature_names())"
   ]
  },
  {
   "cell_type": "code",
   "execution_count": 45,
   "metadata": {},
   "outputs": [
    {
     "data": {
      "text/html": [
       "<div>\n",
       "<style scoped>\n",
       "    .dataframe tbody tr th:only-of-type {\n",
       "        vertical-align: middle;\n",
       "    }\n",
       "\n",
       "    .dataframe tbody tr th {\n",
       "        vertical-align: top;\n",
       "    }\n",
       "\n",
       "    .dataframe thead th {\n",
       "        text-align: right;\n",
       "    }\n",
       "</style>\n",
       "<table border=\"1\" class=\"dataframe\">\n",
       "  <thead>\n",
       "    <tr style=\"text-align: right;\">\n",
       "      <th></th>\n",
       "      <th>00</th>\n",
       "      <th>000</th>\n",
       "      <th>000th</th>\n",
       "      <th>01</th>\n",
       "      <th>03</th>\n",
       "      <th>04</th>\n",
       "      <th>05</th>\n",
       "      <th>0is3qxl4ps</th>\n",
       "      <th>0lgycdf5yc</th>\n",
       "      <th>0lzhuzyepb</th>\n",
       "      <th>...</th>\n",
       "      <th>下滑幅度更大</th>\n",
       "      <th>中に日本のクラブシーンを保存するために署名します</th>\n",
       "      <th>以上</th>\n",
       "      <th>則降了75</th>\n",
       "      <th>加州機場出發的航班整體下降65</th>\n",
       "      <th>洛杉磯國際機場</th>\n",
       "      <th>班機減少了80</th>\n",
       "      <th>疫情爆發以來</th>\n",
       "      <th>而橙縣約翰韋恩機場</th>\n",
       "      <th>自三月份新冠肺炎</th>\n",
       "    </tr>\n",
       "  </thead>\n",
       "  <tbody>\n",
       "    <tr>\n",
       "      <th>0</th>\n",
       "      <td>0.0</td>\n",
       "      <td>0.0</td>\n",
       "      <td>0.0</td>\n",
       "      <td>0.0</td>\n",
       "      <td>0.0</td>\n",
       "      <td>0.0</td>\n",
       "      <td>0.0</td>\n",
       "      <td>0.0</td>\n",
       "      <td>0.0</td>\n",
       "      <td>0.0</td>\n",
       "      <td>...</td>\n",
       "      <td>0.0</td>\n",
       "      <td>0.0</td>\n",
       "      <td>0.0</td>\n",
       "      <td>0.0</td>\n",
       "      <td>0.0</td>\n",
       "      <td>0.0</td>\n",
       "      <td>0.0</td>\n",
       "      <td>0.0</td>\n",
       "      <td>0.0</td>\n",
       "      <td>0.0</td>\n",
       "    </tr>\n",
       "    <tr>\n",
       "      <th>1</th>\n",
       "      <td>0.0</td>\n",
       "      <td>0.0</td>\n",
       "      <td>0.0</td>\n",
       "      <td>0.0</td>\n",
       "      <td>0.0</td>\n",
       "      <td>0.0</td>\n",
       "      <td>0.0</td>\n",
       "      <td>0.0</td>\n",
       "      <td>0.0</td>\n",
       "      <td>0.0</td>\n",
       "      <td>...</td>\n",
       "      <td>0.0</td>\n",
       "      <td>0.0</td>\n",
       "      <td>0.0</td>\n",
       "      <td>0.0</td>\n",
       "      <td>0.0</td>\n",
       "      <td>0.0</td>\n",
       "      <td>0.0</td>\n",
       "      <td>0.0</td>\n",
       "      <td>0.0</td>\n",
       "      <td>0.0</td>\n",
       "    </tr>\n",
       "    <tr>\n",
       "      <th>2</th>\n",
       "      <td>0.0</td>\n",
       "      <td>0.0</td>\n",
       "      <td>0.0</td>\n",
       "      <td>0.0</td>\n",
       "      <td>0.0</td>\n",
       "      <td>0.0</td>\n",
       "      <td>0.0</td>\n",
       "      <td>0.0</td>\n",
       "      <td>0.0</td>\n",
       "      <td>0.0</td>\n",
       "      <td>...</td>\n",
       "      <td>0.0</td>\n",
       "      <td>0.0</td>\n",
       "      <td>0.0</td>\n",
       "      <td>0.0</td>\n",
       "      <td>0.0</td>\n",
       "      <td>0.0</td>\n",
       "      <td>0.0</td>\n",
       "      <td>0.0</td>\n",
       "      <td>0.0</td>\n",
       "      <td>0.0</td>\n",
       "    </tr>\n",
       "    <tr>\n",
       "      <th>3</th>\n",
       "      <td>0.0</td>\n",
       "      <td>0.0</td>\n",
       "      <td>0.0</td>\n",
       "      <td>0.0</td>\n",
       "      <td>0.0</td>\n",
       "      <td>0.0</td>\n",
       "      <td>0.0</td>\n",
       "      <td>0.0</td>\n",
       "      <td>0.0</td>\n",
       "      <td>0.0</td>\n",
       "      <td>...</td>\n",
       "      <td>0.0</td>\n",
       "      <td>0.0</td>\n",
       "      <td>0.0</td>\n",
       "      <td>0.0</td>\n",
       "      <td>0.0</td>\n",
       "      <td>0.0</td>\n",
       "      <td>0.0</td>\n",
       "      <td>0.0</td>\n",
       "      <td>0.0</td>\n",
       "      <td>0.0</td>\n",
       "    </tr>\n",
       "    <tr>\n",
       "      <th>4</th>\n",
       "      <td>0.0</td>\n",
       "      <td>0.0</td>\n",
       "      <td>0.0</td>\n",
       "      <td>0.0</td>\n",
       "      <td>0.0</td>\n",
       "      <td>0.0</td>\n",
       "      <td>0.0</td>\n",
       "      <td>0.0</td>\n",
       "      <td>0.0</td>\n",
       "      <td>0.0</td>\n",
       "      <td>...</td>\n",
       "      <td>0.0</td>\n",
       "      <td>0.0</td>\n",
       "      <td>0.0</td>\n",
       "      <td>0.0</td>\n",
       "      <td>0.0</td>\n",
       "      <td>0.0</td>\n",
       "      <td>0.0</td>\n",
       "      <td>0.0</td>\n",
       "      <td>0.0</td>\n",
       "      <td>0.0</td>\n",
       "    </tr>\n",
       "  </tbody>\n",
       "</table>\n",
       "<p>5 rows × 4860 columns</p>\n",
       "</div>"
      ],
      "text/plain": [
       "    00  000  000th   01   03   04   05  0is3qxl4ps  0lgycdf5yc  0lzhuzyepb  \\\n",
       "0  0.0  0.0    0.0  0.0  0.0  0.0  0.0         0.0         0.0         0.0   \n",
       "1  0.0  0.0    0.0  0.0  0.0  0.0  0.0         0.0         0.0         0.0   \n",
       "2  0.0  0.0    0.0  0.0  0.0  0.0  0.0         0.0         0.0         0.0   \n",
       "3  0.0  0.0    0.0  0.0  0.0  0.0  0.0         0.0         0.0         0.0   \n",
       "4  0.0  0.0    0.0  0.0  0.0  0.0  0.0         0.0         0.0         0.0   \n",
       "\n",
       "   ...  下滑幅度更大  中に日本のクラブシーンを保存するために署名します   以上  則降了75  加州機場出發的航班整體下降65  \\\n",
       "0  ...     0.0                       0.0  0.0    0.0              0.0   \n",
       "1  ...     0.0                       0.0  0.0    0.0              0.0   \n",
       "2  ...     0.0                       0.0  0.0    0.0              0.0   \n",
       "3  ...     0.0                       0.0  0.0    0.0              0.0   \n",
       "4  ...     0.0                       0.0  0.0    0.0              0.0   \n",
       "\n",
       "   洛杉磯國際機場  班機減少了80  疫情爆發以來  而橙縣約翰韋恩機場  自三月份新冠肺炎  \n",
       "0      0.0      0.0     0.0        0.0       0.0  \n",
       "1      0.0      0.0     0.0        0.0       0.0  \n",
       "2      0.0      0.0     0.0        0.0       0.0  \n",
       "3      0.0      0.0     0.0        0.0       0.0  \n",
       "4      0.0      0.0     0.0        0.0       0.0  \n",
       "\n",
       "[5 rows x 4860 columns]"
      ]
     },
     "execution_count": 45,
     "metadata": {},
     "output_type": "execute_result"
    }
   ],
   "source": [
    "df_tfidf_tweets.head()"
   ]
  },
  {
   "cell_type": "markdown",
   "metadata": {},
   "source": [
    "#### top 30 words used in tweets data"
   ]
  },
  {
   "cell_type": "code",
   "execution_count": 46,
   "metadata": {},
   "outputs": [],
   "source": [
    "feature_array = np.array(tfidfvec.get_feature_names())\n",
    "tfidf_sorting = np.argsort(tfidf_tweets.toarray()).flatten()[::-1]\n",
    "\n",
    "n = 30\n",
    "top_n = feature_array[tfidf_sorting][:n]"
   ]
  },
  {
   "cell_type": "code",
   "execution_count": 77,
   "metadata": {
    "scrolled": true
   },
   "outputs": [
    {
     "name": "stdout",
     "output_type": "stream",
     "text": [
      "['4ev3ujq53d' '97' 'top' 'sars' 'kill' 'cnn' 'toll' 'wuhan' 'death' 'day'\n",
      " 'one' 'people' 'coronavirus' 'http' 'co' 'fee' 'federal' 'feed' 'feeding'\n",
      " 'feel' 'feedthefrontline' 'feeling' 'fell' 'fellow' 'fema' 'fed'\n",
      " '自三月份新冠肺炎' 'featuring' 'fear' 'far']\n"
     ]
    }
   ],
   "source": [
    "print(top_n)"
   ]
  },
  {
   "cell_type": "markdown",
   "metadata": {},
   "source": [
    "### Findings from TF-IDF Analysis"
   ]
  },
  {
   "cell_type": "markdown",
   "metadata": {},
   "source": [
    "    From the outputs of the top 30 words used in the tweets data, we know that people are talking about Coronavius, talking about the death cause by the virus, comparing SARS with CORONAVIRUS, and talking about the new reporters .\n",
    "    We also find that there are chinese characters in the tweets data. If we dig a litter deeper, we can find there are chineses characters and japanese characters in the tweets data, one way to deal with these foreign characters is using language detection and tokenize them by thier own rules."
   ]
  },
  {
   "cell_type": "markdown",
   "metadata": {},
   "source": [
    "### Bigram Features"
   ]
  },
  {
   "cell_type": "code",
   "execution_count": 48,
   "metadata": {},
   "outputs": [],
   "source": [
    "from sklearn.feature_extraction.text import CountVectorizer"
   ]
  },
  {
   "cell_type": "code",
   "execution_count": 49,
   "metadata": {},
   "outputs": [
    {
     "data": {
      "text/plain": [
       "(971, 9919)"
      ]
     },
     "execution_count": 49,
     "metadata": {},
     "output_type": "execute_result"
    }
   ],
   "source": [
    "# Getting bigrams\n",
    "vectorizer_bi_tweets = CountVectorizer(ngram_range =(2, 2)) \n",
    "X1 = vectorizer_bi_tweets.fit_transform(tweets)  \n",
    "features = (vectorizer_bi_tweets.get_feature_names()) \n",
    "bi_tweets = pd.DataFrame(X1.toarray(), columns = features)\n",
    "# check dimensions\n",
    "bi_tweets.shape"
   ]
  },
  {
   "cell_type": "markdown",
   "metadata": {},
   "source": [
    "### Topic Model Weights Analysis"
   ]
  },
  {
   "cell_type": "code",
   "execution_count": 50,
   "metadata": {},
   "outputs": [],
   "source": [
    "import gensim\n",
    "from gensim import corpora"
   ]
  },
  {
   "cell_type": "code",
   "execution_count": 51,
   "metadata": {},
   "outputs": [],
   "source": [
    "# data prepare for topic model\n",
    "token_lemm = pd.DataFrame(df_full_tidy_tweets.apply(lambda x: [item.split(\" \") for item in x]))\n",
    "token_list = []\n",
    "t = token_lemm.apply(lambda x: [token_list.append(word)for word in x])\n",
    "token_list = token_lemm['full_message'].to_list()"
   ]
  },
  {
   "cell_type": "code",
   "execution_count": 52,
   "metadata": {},
   "outputs": [],
   "source": [
    "# Create Dictionary\n",
    "dictionary = corpora.Dictionary(token_list)\n",
    "# Create Corpus\n",
    "texts = token_lemm\n",
    "# Term Document Frequency\n",
    "corpus = [dictionary.doc2bow(text) for text in token_list]"
   ]
  },
  {
   "cell_type": "code",
   "execution_count": 53,
   "metadata": {
    "scrolled": false
   },
   "outputs": [
    {
     "name": "stdout",
     "output_type": "stream",
     "text": [
      "(0, '0.017*\"co\" + 0.017*\"http\" + 0.013*\"corona\" + 0.012*\"covid\" + 0.011*\"people\" + 0.009*\"virus\" + 0.007*\"know\" + 0.006*\"19\" + 0.006*\"go\" + 0.005*\"like\" + 0.005*\"fuck\" + 0.004*\"case\"')\n",
      "(1, '0.038*\"http\" + 0.038*\"co\" + 0.014*\"coronavirus\" + 0.014*\"corona\" + 0.011*\"covid19\" + 0.010*\"virus\" + 0.006*\"trump\" + 0.005*\"people\" + 0.004*\"amp\" + 0.004*\"u\" + 0.004*\"via\" + 0.003*\"covid\"')\n",
      "(2, '0.035*\"co\" + 0.035*\"http\" + 0.017*\"coronavirus\" + 0.009*\"corona\" + 0.007*\"time\" + 0.005*\"covid\" + 0.005*\"amp\" + 0.005*\"virus\" + 0.005*\"get\" + 0.004*\"covid19\" + 0.004*\"new\" + 0.004*\"would\"')\n",
      "(3, '0.017*\"http\" + 0.017*\"co\" + 0.011*\"coronavirus\" + 0.011*\"covid\" + 0.009*\"19\" + 0.009*\"get\" + 0.007*\"people\" + 0.006*\"say\" + 0.006*\"like\" + 0.005*\"home\" + 0.004*\"3\" + 0.004*\"u\"')\n",
      "(4, '0.013*\"co\" + 0.012*\"http\" + 0.011*\"coronavirus\" + 0.011*\"covid\" + 0.010*\"corona\" + 0.008*\"covid19\" + 0.006*\"virus\" + 0.005*\"19\" + 0.005*\"day\" + 0.005*\"time\" + 0.005*\"need\" + 0.004*\"one\"')\n",
      "(5, '0.026*\"http\" + 0.026*\"co\" + 0.017*\"coronavirus\" + 0.009*\"covid\" + 0.008*\"amp\" + 0.007*\"19\" + 0.007*\"u\" + 0.007*\"covid19\" + 0.006*\"corona\" + 0.005*\"get\" + 0.004*\"case\" + 0.004*\"like\"')\n",
      "(6, '0.012*\"covid\" + 0.011*\"coronavirus\" + 0.010*\"http\" + 0.010*\"co\" + 0.009*\"19\" + 0.006*\"like\" + 0.005*\"covid19\" + 0.005*\"death\" + 0.005*\"de\" + 0.004*\"day\" + 0.004*\"home\" + 0.004*\"california\"')\n",
      "(7, '0.012*\"amp\" + 0.008*\"covid19\" + 0.006*\"trump\" + 0.006*\"coronavirus\" + 0.006*\"de\" + 0.004*\"000\" + 0.004*\"come\" + 0.004*\"2\" + 0.004*\"death\" + 0.004*\"covid\" + 0.004*\"u\" + 0.004*\"corona\"')\n",
      "(8, '0.032*\"co\" + 0.032*\"http\" + 0.009*\"virus\" + 0.006*\"people\" + 0.006*\"covid\" + 0.006*\"covid19\" + 0.006*\"amp\" + 0.005*\"corona\" + 0.004*\"19\" + 0.004*\"take\" + 0.004*\"new\" + 0.004*\"coronavirus\"')\n"
     ]
    }
   ],
   "source": [
    "# get a overview of topic\n",
    "np.random.seed(123)\n",
    "ldamodel = gensim.models.ldamodel.LdaModel(corpus, num_topics = 9, id2word=dictionary, passes=15)\n",
    "ldamodel.save('model3.gensim')\n",
    "topics = ldamodel.print_topics(num_words=12)\n",
    "for topic in topics:\n",
    "    print(topic)"
   ]
  },
  {
   "cell_type": "markdown",
   "metadata": {},
   "source": [
    "### Apply LDA on tweets data"
   ]
  },
  {
   "cell_type": "code",
   "execution_count": 54,
   "metadata": {},
   "outputs": [],
   "source": [
    "from sklearn.decomposition import LatentDirichletAllocation as LDA"
   ]
  },
  {
   "cell_type": "code",
   "execution_count": 55,
   "metadata": {
    "scrolled": true
   },
   "outputs": [
    {
     "data": {
      "text/plain": [
       "(971, 9)"
      ]
     },
     "execution_count": 55,
     "metadata": {},
     "output_type": "execute_result"
    }
   ],
   "source": [
    "# LDA on tweets data\n",
    "lda = LDA(n_components = 9)\n",
    "lda.fit(counts_tweets)\n",
    "ldaOut_tweets = lda.transform(counts_tweets)\n",
    "# convert to a data frame\n",
    "df_lda_tweets = pd.DataFrame(ldaOut_tweets)\n",
    "# check dimension of ldaOut \n",
    "df_lda_tweets.shape"
   ]
  },
  {
   "cell_type": "markdown",
   "metadata": {},
   "source": [
    "### Data Visualization"
   ]
  },
  {
   "cell_type": "markdown",
   "metadata": {},
   "source": [
    "### pyLDAvis"
   ]
  },
  {
   "cell_type": "code",
   "execution_count": 56,
   "metadata": {},
   "outputs": [],
   "source": [
    "import pyLDAvis.gensim"
   ]
  },
  {
   "cell_type": "code",
   "execution_count": 57,
   "metadata": {
    "scrolled": false
   },
   "outputs": [
    {
     "data": {
      "text/html": [
       "\n",
       "<link rel=\"stylesheet\" type=\"text/css\" href=\"https://cdn.rawgit.com/bmabey/pyLDAvis/files/ldavis.v1.0.0.css\">\n",
       "\n",
       "\n",
       "<div id=\"ldavis_el522501121728250409192153665\"></div>\n",
       "<script type=\"text/javascript\">\n",
       "\n",
       "var ldavis_el522501121728250409192153665_data = {\"mdsDat\": {\"x\": [-0.07637197512349775, -0.0751775439618233, 0.032800102335950695, -0.05107688657310629, -0.03731863735652316, -0.002029976192355693, 0.08944583275679595, 0.015450780283727428, 0.10427830383083204], \"y\": [-0.10015968881531993, 0.10540468408297536, -0.08497888285772888, 0.012439034625324258, 0.03181286315497836, -0.010381899790020938, 0.04063563747589486, -0.007695714043914659, 0.012923966167811364], \"topics\": [1, 2, 3, 4, 5, 6, 7, 8, 9], \"cluster\": [1, 1, 1, 1, 1, 1, 1, 1, 1], \"Freq\": [17.252683639526367, 13.1405029296875, 11.935395240783691, 11.457969665527344, 11.213772773742676, 10.464848518371582, 8.583089828491211, 8.492729187011719, 7.459012985229492]}, \"tinfo\": {\"Term\": [\"http\", \"co\", \"de\", \"amp\", \"coronavirus\", \"covid\", \"know\", \"people\", \"virus\", \"trump\", \"19\", \"go\", \"death\", \"home\", \"get\", \"time\", \"3\", \"say\", \"000\", \"corona\", \"case\", \"may\", \"would\", \"like\", \"el\", \"day\", \"fuck\", \"way\", \"via\", \"que\", \"webinar\", \"travel\", \"desperation\", \"college\", \"fat\", \"drinking\", \"ban\", \"theatre\", \"\\u0930\", \"\\u092f\", \"\\u0926\", \"debated\", \"responder\", \"sharp\", \"sharphealthcare\", \"bringthemhome\", \"realdoctormike\", \"iamintel\", \"democratic\", \"heat\", \"asked\", \"tswift\", \"responsible\", \"self\", \"scene\", \"worry\", \"ish\", \"river\", \"steak\", \"nba\", \"grocery\", \"w\", \"bitch\", \"play\", \"outside\", \"fact\", \"http\", \"co\", \"place\", \"lower\", \"administration\", \"hand\", \"studio\", \"trump\", \"ever\", \"corona\", \"order\", \"really\", \"joke\", \"virus\", \"covid19\", \"store\", \"stayathome\", \"open\", \"coronavirus\", \"via\", \"think\", \"beer\", \"2\", \"thing\", \"u\", \"people\", \"today\", \"amp\", \"due\", \"make\", \"right\", \"california\", \"covid\", \"one\", \"need\", \"day\", \"like\", \"get\", \"weak\", \"cruise\", \"political\", \"aht\", \"levi\", \"roy\", \"alex\", \"pathetic\", \"lead\", \"primarily\", \"appropriation\", \"massive\", \"senate\", \"attended\", \"subcommittee\", \"strong\", \"teamla\", \"hearing\", \"feedthefrontline\", \"firstresponders\", \"dollar\", \"department\", \"eva\", \"besthospital\", \"shift\", \"democrat\", \"endfields\", \"pornographically\", \"general\", \"ha\", \"tweet\", \"act\", \"ship\", \"service\", \"sale\", \"00\", \"coronavirus\", \"http\", \"left\", \"co\", \"u\", \"amp\", \"case\", \"19\", \"covid\", \"want\", \"area\", \"learning\", \"idiot\", \"googlenews\", \"covid19\", \"get\", \"thank\", \"mask\", \"corona\", \"system\", \"family\", \"like\", \"via\", \"go\", \"need\", \"time\", \"year\", \"one\", \"care\", \"virus\", \"people\", \"right\", \"please\", \"day\", \"death\", \"new\", \"type\", \"voting\", \"yes\", \"looked\", \"do\", \"lagos\", \"remember\", \"map\", \"gotta\", \"imagine\", \"exceptionally\", \"traveling\", \"tryna\", \"x\", \"feeling\", \"un\", \"whitehouse\", \"publichealth\", \"iowa\", \"cousin\", \"chicken\", \"measles\", \"pox\", \"\", \"civil\", \"leading\", \"promedio\", \"tragedy\", \"mortalidad\", \"millones\", \"question\", \"pretty\", \"know\", \"best\", \"image\", \"fail\", \"fuck\", \"people\", \"go\", \"make\", \"corona\", \"covid\", \"shit\", \"right\", \"virus\", \"case\", \"damn\", \"http\", \"sense\", \"co\", \"italy\", \"got\", \"like\", \"day\", \"19\", \"back\", \"6\", \"many\", \"get\", \"one\", \"still\", \"good\", \"think\", \"great\", \"work\", \"covid19\", \"coronavirus\", \"stay\", \"need\", \"fucked\", \"complain\", \"plane\", \"handle\", \"notifyla\", \"plz\", \"moderate\", \"reform\", \"charliekirk11\", \"afford\", \"frequently\", \"object\", \"inaction\", \"leaf\", \"fig\", \"gem\", \"giant\", \"fiddle\", \"tree\", \"cagovernor\", \"master\", \"lucky\", \"facemasks\", \"actvre\", \"activerealty\", \"spanish\", \"gopleader\", \"leadership\", \"excuse\", \"govt\", \"expert\", \"relief\", \"le\", \"board\", \"take\", \"donate\", \"challenge\", \"true\", \"http\", \"co\", \"wuhan\", \"wonderful\", \"watch\", \"virus\", \"face\", \"help\", \"chinese\", \"support\", \"people\", \"health\", \"new\", \"said\", \"amp\", \"covid19\", \"covid\", \"home\", \"19\", \"corona\", \"great\", \"california\", \"year\", \"pandemic\", \"u\", \"sign\", \"first\", \"coronavirus\", \"like\", \"get\", \"business\", \"please\", \"world\", \"wow\", \"mad\", \"m\\u00e1s\", \"mortgage\", \"rent\", \"bronx\", \"talking\", \"zoo\", \"pedro\", \"mexico\", \"failed\", \"port\", \"ilhanmn\", \"loss\", \"gentleman\", \"lady\", \"reaction\", \"ho\", \"meet\", \"attorney\", \"judged\", \"senior\", \"payment\", \"francisco\", \"san\", \"confirmamos\", \"eg0fc7oa6z\\ud83d\\udea8,\\u203c\\ufe0f,\\u203c\\ufe0f,\\ud83d\\ude14,\\ud83d\\udfe2,\\ud83d\\udd34\", \"enfermedad\", \"adem\\u00e1s\", \"muerto\", \"salvador\", \"esta\", \"stock\", \"shower\", \"agree\", \"view\", \"thought\", \"symptom\", \"time\", \"http\", \"co\", \"coronavirus\", \"el\", \"corona\", \"new\", \"would\", \"realdonaldtrump\", \"get\", \"look\", \"china\", \"medical\", \"spread\", \"positive\", \"say\", \"amp\", \"4\", \"virus\", \"de\", \"ca\", \"covid\", \"covid19\", \"via\", \"case\", \"people\", \"u\", \"trump\", \"week\", \"19\", \"way\", \"pandemic\", \"test\", \"proning\", \"miramar\", \"scully\", \"cheesecake\", \"serious\", \"rest\", \"worldwide\", \"\\ud83d\\ude33\", \"encourage\", \"agency\", \"mild\", \"practice\", \"fa\", \"inspiration\", \"control\", \"mr\", \"released\", \"nursing\", \"3\", \"employee\", \"mean\", \"sept\", \"pharmaceutical\", \"limousine\", \"21\", \"lap\", \"arizona\", \"pace\", \"unlucky\", \"headline\", \"city\", \"birthday\", \"keeping\", \"staying\", \"may\", \"account\", \"ny\", \"create\", \"factory\", \"vaccine\", \"say\", \"stop\", \"get\", \"dead\", \"head\", \"happy\", \"getting\", \"19\", \"home\", \"covid\", \"please\", \"stay\", \"http\", \"co\", \"coronavirus\", \"like\", \"people\", \"fucking\", \"real\", \"quarantine\", \"look\", \"made\", \"u\", \"good\", \"china\", \"got\", \"corona\", \"covid19\", \"california\", \"one\", \"huh\", \"lng\", \"mtpa\", \"clovis\", \"range\", \"silence\", \"expects\", \"everywhere\", \"guidance\", \"nature\", \"starz\", \"condado\", \"n\\u00famero\", \"brilliant\", \"least\", \"ab5\", \"restricts\", \"speech\", \"freelance\", \"unforeseen\", \"violates\", \"uqol22nif1\", \"darwinaward\", \"signed\", \"repealing\", \"freelancer\", \"coverage\", \"kron4news\", \"countyofla\", \"physical\", \"offering\", \"underestimate\", \"specifically\", \"stuff\", \"im\", \"affected\", \"cannot\", \"ucsf\", \"second\", \"website\", \"distancing\", \"handled\", \"south\", \"protection\", \"tho\", \"texas\", \"lockdown\", \"mom\", \"possible\", \"de\", \"well\", \"death\", \"covid\", \"19\", \"testing\", \"like\", \"coronavirus\", \"way\", \"job\", \"day\", \"would\", \"california\", \"home\", \"http\", \"co\", \"even\", \"give\", \"free\", \"county\", \"see\", \"thank\", \"covid19\", \"need\", \"one\", \"everyone\", \"work\", \"say\", \"amp\", \"corona\", \"new\", \"roadshow\", \"pregnancy\", \"prolly\", \"shutdown\", \"prince\", \"june\", \"coping\", \"location\", \"send\", \"isolate\", \"decision\", \"focus\", \"ask\", \"qxdqbl8z8n\", \"identify\", \"flow\", \"suffering\", \"readily\", \"ig3jbk0jax\", \"double\", \"naturalliving\", \"positivevibes\\ud83d\\ude4f\\ud83c\\udffb\", \"pregnant\", \"pt\", \"std\", \"stepping\", \"tcm\", \"converting\", \"remotework\", \"bulk\", \"reporter\", \"hollywood\", \"donation\", \"stats\", \"report\", \"conservative\", \"two\", \"save\", \"else\", \"briefing\", \"flattenthecurve\", \"sweet\", \"reopen\", \"building\", \"wait\", \"guess\", \"win\", \"listen\", \"covid\", \"day\", \"time\", \"corona\", \"need\", \"hospital\", \"coronavirus\", \"covid19\", \"help\", \"co\", \"http\", \"virus\", \"one\", \"19\", \"year\", \"got\", \"going\", \"test\", \"good\", \"business\", \"trump\", \"realdonaldtrump\", \"pandemic\", \"stay\", \"still\", \"would\", \"go\", \"new\", \"like\", \"8\", \"neighborhood\", \"gas\", \"que\", \"taquero\", \"hayward\", \"2nd\", \"40\", \"eugenegu\", \"premise\", \"bear\", \"led\", \"locked\", \"inhumane\", \"stacked\", \"somestatesjustarentprepared\", \"ewarren\", \"hotspot\", \"stillnoresults\", \"dollargeneral\", \"tomorrow\", \"shutdownmeatfactories\", \"wet\", \"amen\", \"govegan\", \"grandislandne\", \"legislative\", \"insight\", \"hbcu\", \"importantly\", \"oh\", \"del\", \"despicable\", \"killed\", \"shut\", \"metro\", \"hit\", \"survive\", \"changed\", \"omg\", \"failure\", \"natural\", \"000\", \"impact\", \"de\", \"amp\", \"come\", \"kid\", \"staysafe\", \"hoax\", \"market\", \"illegal\", \"trump\", \"already\", \"el\", \"2\", \"death\", \"covid19\", \"pandemic\", \"go\", \"coronavirus\", \"great\", \"one\", \"u\", \"american\", \"would\", \"home\", \"covid\", \"week\", \"19\", \"corona\", \"people\", \"http\", \"co\", \"state\", \"virus\", \"even\"], \"Freq\": [286.0, 286.0, 16.0, 56.0, 135.0, 95.0, 19.0, 55.0, 68.0, 33.0, 61.0, 24.0, 19.0, 25.0, 42.0, 30.0, 9.0, 21.0, 10.0, 98.0, 22.0, 11.0, 23.0, 38.0, 10.0, 28.0, 16.0, 13.0, 20.0, 4.0, 3.137272596359253, 6.2567338943481445, 2.400801181793213, 2.40073823928833, 2.4006593227386475, 2.4003500938415527, 2.400010824203491, 1.6290011405944824, 1.6290010213851929, 1.6290007829666138, 1.6290011405944824, 1.6290010213851929, 1.6290011405944824, 1.62899911403656, 1.6289983987808228, 1.6289974451065063, 1.6289950609207153, 1.6289948225021362, 1.6289944648742676, 1.6289904117584229, 1.628987431526184, 1.6289819478988647, 1.6289780139923096, 1.628966212272644, 1.628962516784668, 1.628987431526184, 1.6289573907852173, 1.6289325952529907, 1.6289151906967163, 1.6288588047027588, 3.1687674522399902, 4.715795993804932, 3.9426445960998535, 3.6909310817718506, 3.943922281265259, 4.6553850173950195, 79.91148376464844, 79.89170837402344, 3.8934879302978516, 2.399104118347168, 2.4004290103912354, 5.368074893951416, 2.400456190109253, 13.208246231079102, 3.1711299419403076, 29.570457458496094, 3.7258400917053223, 5.488046646118164, 2.400803565979004, 21.8222713470459, 23.53883934020996, 2.388263702392578, 2.400810480117798, 3.9441237449645996, 30.35337257385254, 7.870932579040527, 7.2332234382629395, 3.78102970123291, 6.26091194152832, 5.487865447998047, 9.113788604736328, 10.098799705505371, 5.218791961669922, 9.234681129455566, 4.664931774139404, 4.996396541595459, 4.969047546386719, 5.3098225593566895, 7.2792840003967285, 5.115732192993164, 4.756970405578613, 4.714604377746582, 4.744826793670654, 4.736326217651367, 2.315173387527466, 2.314220428466797, 3.7625582218170166, 1.5712071657180786, 1.5712069272994995, 1.571201205253601, 1.5711995363235474, 1.5711978673934937, 1.5711928606033325, 1.5708829164505005, 1.5708487033843994, 1.5707194805145264, 1.5706825256347656, 1.5706398487091064, 1.5706007480621338, 1.5705941915512085, 1.5705710649490356, 1.5704697370529175, 1.5703459978103638, 1.5702757835388184, 1.5702685117721558, 1.5701693296432495, 1.5701581239700317, 1.5701029300689697, 1.570082664489746, 1.5699727535247803, 1.569674015045166, 1.5696369409561157, 1.569169521331787, 1.5668275356292725, 2.3074631690979004, 2.315715789794922, 2.3142263889312744, 2.3146488666534424, 3.0011205673217773, 2.3151490688323975, 26.911453247070312, 41.27252960205078, 3.014895439147949, 41.27025604248047, 10.880600929260254, 12.39345645904541, 6.575432777404785, 10.975048065185547, 14.1434965133667, 5.20375919342041, 2.313072443008423, 2.314192771911621, 3.0599803924560547, 2.3154444694519043, 10.551061630249023, 7.387449264526367, 3.776827096939087, 4.448349952697754, 9.898344993591309, 3.0267632007598877, 3.0595033168792725, 5.855357646942139, 4.428391456604004, 4.368967533111572, 4.408775806427002, 4.548273086547852, 3.8036305904388428, 4.38254451751709, 2.9655871391296387, 4.906064987182617, 4.563382148742676, 3.4060769081115723, 3.405637741088867, 3.3091063499450684, 3.203930139541626, 3.1243059635162354, 2.2371163368225098, 2.228295087814331, 5.077150344848633, 1.5199761390686035, 1.5199733972549438, 1.519973635673523, 1.5199722051620483, 1.5199717283248901, 1.519970178604126, 1.5199693441390991, 1.519966959953308, 1.5199631452560425, 1.5199528932571411, 1.5199241638183594, 1.5195752382278442, 1.5194369554519653, 1.5193930864334106, 1.5193310976028442, 1.519095540046692, 1.518987774848938, 1.5188804864883423, 1.5187221765518188, 1.5187108516693115, 1.518368124961853, 1.5146454572677612, 1.5142793655395508, 1.5137670040130615, 1.5135935544967651, 1.5116562843322754, 1.5038138628005981, 2.9591917991638184, 2.95961332321167, 10.880661010742188, 5.042245388031006, 2.2400903701782227, 2.238508701324463, 6.58466100692749, 15.543004989624023, 8.143771171569824, 6.086114883422852, 19.219797134399414, 18.14449691772461, 3.680631160736084, 5.973163604736328, 12.958271980285645, 6.424940586090088, 2.9557626247406006, 24.89154052734375, 2.24002742767334, 24.895353317260742, 2.2332539558410645, 5.297532558441162, 7.166441440582275, 5.957386016845703, 8.779888153076172, 3.9818031787872314, 2.9574389457702637, 3.2044854164123535, 6.147945404052734, 5.283843040466309, 3.860574245452881, 3.681596040725708, 3.9012229442596436, 3.6808478832244873, 3.7841501235961914, 5.305814743041992, 5.465595722198486, 3.6798508167266846, 3.746027946472168, 2.9366886615753174, 2.226435422897339, 2.225801706314087, 2.2242794036865234, 1.5107218027114868, 1.5107210874557495, 1.5107156038284302, 1.5107156038284302, 1.51071298122406, 1.5106860399246216, 1.5106619596481323, 1.5106576681137085, 1.5106061697006226, 1.5103846788406372, 1.510316252708435, 1.5102757215499878, 1.510251522064209, 1.5102267265319824, 1.5102070569992065, 1.509951114654541, 1.508169174194336, 1.5079784393310547, 1.5079896450042725, 1.5078837871551514, 1.5078487396240234, 1.5077894926071167, 1.5074067115783691, 1.3603098392486572, 2.226310968399048, 2.225586414337158, 2.2256059646606445, 2.9399940967559814, 4.367471218109131, 2.225510597229004, 5.615983486175537, 2.2262065410614014, 2.225660562515259, 3.595696210861206, 44.06843948364258, 44.06888961791992, 4.580310821533203, 2.0736653804779053, 3.474445104598999, 12.306310653686523, 2.9419641494750977, 5.088498592376709, 2.2263150215148926, 2.942366123199463, 8.311271667480469, 3.6473388671875, 5.367477893829346, 2.9363975524902344, 8.036096572875977, 8.087284088134766, 8.196338653564453, 4.446130752563477, 6.162878036499023, 6.785330772399902, 3.657775640487671, 3.9327759742736816, 3.6380667686462402, 3.491492986679077, 4.397488594055176, 2.941882371902466, 2.9422671794891357, 5.209360599517822, 3.7147367000579834, 3.7053141593933105, 3.0728328227996826, 3.1191999912261963, 2.942389726638794, 4.324526309967041, 2.2026925086975098, 2.1989707946777344, 1.4947510957717896, 1.4947509765625, 1.4947479963302612, 1.494747519493103, 1.4947476387023926, 1.4947468042373657, 1.4947428703308105, 1.4947422742843628, 1.494739055633545, 1.4947295188903809, 1.494726300239563, 1.494722604751587, 1.4947218894958496, 1.4947288036346436, 1.494301438331604, 1.4941985607147217, 1.4941760301589966, 1.4936420917510986, 2.202887773513794, 2.2029035091400146, 2.910508871078491, 4.326851844787598, 0.7865690588951111, 0.7865690588951111, 0.7865691184997559, 0.7865690588951111, 0.7865690588951111, 0.7865690588951111, 1.4947484731674194, 1.4945145845413208, 1.4960094690322876, 1.4951375722885132, 1.4947543144226074, 2.9105613231658936, 2.9098942279815674, 9.99331283569336, 48.16965866088867, 48.17101287841797, 23.779016494750977, 3.619248390197754, 12.11880874633789, 5.233232021331787, 5.034509658813477, 4.1606950759887695, 6.2155866622924805, 3.556501626968384, 4.328795909881592, 2.9041695594787598, 2.2021400928497314, 2.9112422466278076, 4.320883750915527, 6.607818603515625, 2.911078453063965, 6.543639659881592, 3.6190264225006104, 2.911106824874878, 6.673378944396973, 6.020330905914307, 3.6193161010742188, 3.6208643913269043, 4.327724933624268, 3.8396761417388916, 3.621868371963501, 3.151078224182129, 3.046175003051758, 2.9123148918151855, 2.9122514724731445, 2.9114391803741455, 2.176551103591919, 1.4768763780593872, 1.4768739938735962, 1.4768730401992798, 1.4768733978271484, 1.4768567085266113, 1.4768434762954712, 1.4766381978988647, 1.476800560951233, 1.4764763116836548, 1.4763591289520264, 1.476151943206787, 1.4756213426589966, 1.4647526741027832, 2.8735766410827637, 2.1758570671081543, 2.176567792892456, 2.876230001449585, 5.672990322113037, 2.874326705932617, 3.575706720352173, 0.777169942855835, 0.7771700620651245, 0.7771696448326111, 0.7771696448326111, 0.7771696448326111, 0.7771691679954529, 0.7771689891815186, 0.7771686911582947, 0.7771681547164917, 4.973996639251709, 1.476874589920044, 1.4768695831298828, 1.4768602848052979, 5.5085625648498535, 1.4766533374786377, 1.476872444152832, 1.4763652086257935, 1.4768809080123901, 3.5759711265563965, 7.054250717163086, 4.395102500915527, 11.27236557006836, 2.176504373550415, 2.1765787601470947, 2.175872325897217, 4.092228889465332, 11.573622703552246, 6.374859809875488, 13.626127243041992, 5.217331886291504, 4.975719928741455, 21.885196685791016, 21.880840301513672, 14.578484535217285, 7.043818473815918, 8.472199440002441, 3.2223918437957764, 3.574368953704834, 3.5752546787261963, 3.574186325073242, 2.875739336013794, 5.63469934463501, 3.57468581199646, 3.573166608810425, 3.5699076652526855, 4.978745937347412, 4.2761969566345215, 3.596627712249756, 3.256643295288086, 2.062377452850342, 1.4011571407318115, 1.4011571407318115, 1.40115487575531, 1.401154637336731, 1.4011532068252563, 1.4011523723602295, 1.4011495113372803, 1.4011467695236206, 1.4010531902313232, 1.401013731956482, 1.4001896381378174, 1.4000513553619385, 1.399728775024414, 2.728753089904785, 0.7373414635658264, 0.7373412847518921, 0.7373411655426025, 0.7373411655426025, 0.737341046333313, 0.7373409271240234, 0.7373409271240234, 0.7373407483100891, 0.737341046333313, 0.7373409271240234, 0.7373409271240234, 0.737341046333313, 0.7373407483100891, 0.7373406887054443, 0.7373406887054443, 0.7373408675193787, 0.7373406887054443, 1.4011569023132324, 1.400220274925232, 1.3978502750396729, 1.4011062383651733, 2.06429386138916, 1.4011696577072144, 1.4008492231369019, 1.4010677337646484, 1.401497721672058, 1.3947231769561768, 1.393295168876648, 1.401291847229004, 1.4011715650558472, 1.401158094406128, 3.3923909664154053, 2.0617589950561523, 2.0649940967559814, 4.71577787399292, 3.391449213027954, 4.7197265625, 12.686725616455078, 9.063252449035645, 2.7262349128723145, 6.048589706420898, 11.787599563598633, 3.391416311264038, 2.7268571853637695, 4.50223445892334, 4.056777000427246, 4.057053089141846, 4.059830665588379, 10.874852180480957, 10.873506546020508, 3.3917174339294434, 2.7291040420532227, 2.729532480239868, 2.7282156944274902, 2.7292239665985107, 2.7295656204223633, 5.385982036590576, 3.394564151763916, 3.393507957458496, 2.7292704582214355, 2.7289726734161377, 2.728935718536377, 2.9071426391601562, 2.7568318843841553, 2.7284786701202393, 1.3936735391616821, 1.3936662673950195, 1.3936445713043213, 1.3936132192611694, 1.39347505569458, 1.3932162523269653, 1.3928475379943848, 1.3927724361419678, 1.3916904926300049, 2.053907871246338, 2.0529603958129883, 2.0530145168304443, 2.050809383392334, 0.7334050536155701, 0.7334049940109253, 0.7334050536155701, 0.7334047555923462, 0.7334028482437134, 0.7334026098251343, 0.7334014773368835, 0.7334012389183044, 0.7334012389183044, 0.7334010601043701, 0.7334011793136597, 0.7334023118019104, 0.7334009408950806, 0.7334007620811462, 0.7334004044532776, 0.7333999872207642, 0.7334001660346985, 1.3930498361587524, 2.0535759925842285, 1.3935737609863281, 1.3929104804992676, 2.0158185958862305, 1.3927303552627563, 2.05342698097229, 2.0539729595184326, 1.393428087234497, 1.3928114175796509, 1.3933995962142944, 1.3923044204711914, 1.3927522897720337, 1.3933610916137695, 1.3936707973480225, 1.3936864137649536, 1.393167495727539, 2.054992914199829, 11.478560447692871, 5.249185085296631, 5.170794486999512, 10.380342483520508, 4.694255828857422, 2.7152504920959473, 11.52519702911377, 7.802398681640625, 3.3743786811828613, 13.285664558410645, 12.604808807373047, 6.175385475158691, 4.385989665985107, 5.473233699798584, 3.3745265007019043, 3.3808109760284424, 2.632664680480957, 2.715352773666382, 2.713879108428955, 2.6306090354919434, 3.3740038871765137, 2.7141005992889404, 2.7125847339630127, 2.7133326530456543, 2.5631778240203857, 2.713711738586426, 2.714782476425171, 2.715545654296875, 2.057065963745117, 2.6132237911224365, 1.9797998666763306, 1.9796152114868164, 3.25307297706604, 1.343537449836731, 1.3434758186340332, 1.3382068872451782, 1.9778954982757568, 0.7074210047721863, 0.707420825958252, 0.7074205875396729, 0.7074206471443176, 0.7074205875396729, 0.7074206471443176, 0.7074204683303833, 0.7074203491210938, 0.7074201107025146, 0.7074201107025146, 0.7074201107025146, 0.7074202299118042, 0.7074201107025146, 0.7074200510978699, 0.7074199318885803, 0.7074198722839355, 0.7074198722839355, 0.7074196934700012, 0.7074191570281982, 0.7074191570281982, 0.707419216632843, 0.707419216632843, 1.9799163341522217, 1.3425400257110596, 1.3429867029190063, 1.344131350517273, 1.3436299562454224, 1.3435767889022827, 1.9796255826950073, 1.3433510065078735, 1.3429930210113525, 1.3442589044570923, 1.34300696849823, 1.3434996604919434, 3.8824524879455566, 1.9811598062515259, 5.227958679199219, 10.717897415161133, 3.8457305431365967, 1.9799572229385376, 1.343956470489502, 1.3441590070724487, 1.3441996574401855, 1.343932032585144, 5.796940326690674, 1.9807255268096924, 2.617753028869629, 3.718022584915161, 3.698930263519287, 7.07571268081665, 3.2528610229492188, 3.1179850101470947, 5.741805553436279, 2.52886700630188, 3.253673791885376, 3.254101276397705, 1.9810932874679565, 2.6176702976226807, 2.6167166233062744, 3.5142953395843506, 2.2839365005493164, 2.949730634689331, 3.2537288665771484, 2.617424249649048, 2.606050968170166, 2.6047003269195557, 1.981319546699524, 1.981147289276123, 1.9811220169067383], \"Total\": [286.0, 286.0, 16.0, 56.0, 135.0, 95.0, 19.0, 55.0, 68.0, 33.0, 61.0, 24.0, 19.0, 25.0, 42.0, 30.0, 9.0, 21.0, 10.0, 98.0, 22.0, 11.0, 23.0, 38.0, 10.0, 28.0, 16.0, 13.0, 20.0, 4.0, 3.783113956451416, 7.575379848480225, 3.0173380374908447, 3.01733136177063, 3.017326831817627, 3.017242193222046, 3.017265558242798, 2.245537757873535, 2.245537519454956, 2.245537281036377, 2.245537757873535, 2.245537519454956, 2.245537757873535, 2.2455356121063232, 2.245534896850586, 2.2455339431762695, 2.2455315589904785, 2.2455313205718994, 2.2455310821533203, 2.2455270290374756, 2.2455239295959473, 2.245518445968628, 2.2455146312713623, 2.2455029487609863, 2.2454991340637207, 2.245535135269165, 2.2455244064331055, 2.2455272674560547, 2.2455315589904785, 2.245511770248413, 4.424463272094727, 6.792152404785156, 6.004032611846924, 5.962812423706055, 6.552059650421143, 8.046313285827637, 286.2845458984375, 286.9419250488281, 6.7140069007873535, 3.653862953186035, 3.6773011684417725, 10.326131820678711, 3.6808745861053467, 33.40921401977539, 5.277344703674316, 98.96238708496094, 6.58976411819458, 11.004422187805176, 3.7167558670043945, 68.91736602783203, 78.04362487792969, 3.723038911819458, 3.7614030838012695, 7.360811233520508, 135.3518829345703, 20.672266006469727, 19.005863189697266, 7.949478626251221, 19.04960060119629, 15.715702056884766, 41.85491180419922, 55.429718017578125, 15.116433143615723, 56.604515075683594, 13.69605541229248, 17.29474639892578, 18.949813842773438, 24.27536964416504, 95.74270629882812, 33.0739860534668, 26.220115661621094, 28.989320755004883, 38.42298126220703, 42.91373062133789, 2.9351930618286133, 2.9350600242614746, 5.137617111206055, 2.190789222717285, 2.190788984298706, 2.1907832622528076, 2.190781593322754, 2.1907799243927, 2.190775156021118, 2.1907501220703125, 2.1907799243927, 2.19077205657959, 2.190772771835327, 2.1907715797424316, 2.190769672393799, 2.190784454345703, 2.19077205657959, 2.1907639503479004, 2.190757989883423, 2.1907594203948975, 2.1907589435577393, 2.1906745433807373, 2.1907522678375244, 2.1907474994659424, 2.1907777786254883, 2.1906814575195312, 2.190617322921753, 2.19061279296875, 2.190610647201538, 2.1905009746551514, 3.5980818271636963, 3.643054723739624, 3.642939567565918, 3.6505634784698486, 5.169933319091797, 3.706550121307373, 135.3518829345703, 286.2845458984375, 5.765765190124512, 286.9419250488281, 41.85491180419922, 56.604515075683594, 22.873859405517578, 61.1348762512207, 95.74270629882812, 17.279006958007812, 4.342341899871826, 4.366339206695557, 7.290034770965576, 4.414439678192139, 78.04362487792969, 42.91373062133789, 12.057523727416992, 17.256772994995117, 98.96238708496094, 8.521900177001953, 9.243034362792969, 38.42298126220703, 20.672266006469727, 24.751754760742188, 26.220115661621094, 30.503812789916992, 19.648202896118164, 33.0739860534668, 9.23641300201416, 68.91736602783203, 55.429718017578125, 18.949813842773438, 19.150676727294922, 28.989320755004883, 19.33967399597168, 24.81806755065918, 2.8617117404937744, 2.8619375228881836, 7.14957332611084, 2.1422557830810547, 2.1422531604766846, 2.1422533988952637, 2.142251968383789, 2.142251491546631, 2.142249822616577, 2.14224910736084, 2.142246961593628, 2.142242908477783, 2.142232894897461, 2.1422042846679688, 2.1422858238220215, 2.142160415649414, 2.142242193222046, 2.1423001289367676, 2.1421878337860107, 2.1422884464263916, 2.1422922611236572, 2.142296075820923, 2.1422970294952393, 2.1420774459838867, 2.1412479877471924, 2.1412205696105957, 2.1414706707000732, 2.1414597034454346, 2.1412243843078613, 2.1403119564056396, 4.242430210113525, 4.281927108764648, 19.91663932800293, 8.485541343688965, 3.5778331756591797, 3.5779130458831787, 16.289527893066406, 55.429718017578125, 24.751754760742188, 17.29474639892578, 98.96238708496094, 95.74270629882812, 8.633122444152832, 18.949813842773438, 68.91736602783203, 22.873859405517578, 6.461152076721191, 286.2845458984375, 4.189724922180176, 286.9419250488281, 4.269265651702881, 20.656551361083984, 38.42298126220703, 28.989320755004883, 61.1348762512207, 13.506789207458496, 7.664607048034668, 9.417097091674805, 42.91373062133789, 33.0739860534668, 16.3846435546875, 15.560188293457031, 19.005863189697266, 15.582823753356934, 17.58080291748047, 78.04362487792969, 135.3518829345703, 18.903724670410156, 26.220115661621094, 3.564213514328003, 2.849203109741211, 2.84920597076416, 2.84890079498291, 2.1334891319274902, 2.133488416671753, 2.1334829330444336, 2.1334829330444336, 2.1334803104400635, 2.133486270904541, 2.1334922313690186, 2.1334924697875977, 2.133493185043335, 2.1335160732269287, 2.133521556854248, 2.133523464202881, 2.13352632522583, 2.133527994155884, 2.1335289478302, 2.133479595184326, 2.1326680183410645, 2.132660388946533, 2.1326780319213867, 2.132689952850342, 2.1326870918273926, 2.132652759552002, 2.132702350616455, 2.1215198040008545, 3.4858450889587402, 3.4859750270843506, 3.5485594272613525, 4.861288070678711, 7.668160438537598, 3.5570995807647705, 12.229840278625488, 3.593250274658203, 3.5932345390319824, 7.14136266708374, 286.2845458984375, 286.9419250488281, 12.160117149353027, 3.5150766372680664, 8.04135799407959, 68.91736602783203, 6.487695693969727, 17.035646438598633, 4.268450736999512, 7.192670822143555, 55.429718017578125, 11.423897743225098, 24.81806755065918, 7.74656867980957, 56.604515075683594, 78.04362487792969, 95.74270629882812, 25.06931495666504, 61.1348762512207, 98.96238708496094, 15.582823753356934, 24.27536964416504, 19.648202896118164, 17.27105712890625, 41.85491180419922, 9.520614624023438, 9.567949295043945, 135.3518829345703, 38.42298126220703, 42.91373062133789, 14.257901191711426, 19.150676727294922, 15.04159164428711, 4.950793743133545, 2.826503038406372, 2.826425313949585, 2.118359327316284, 2.118359327316284, 2.118356227874756, 2.1183557510375977, 2.1183559894561768, 2.1183550357818604, 2.1183512210845947, 2.1183505058288574, 2.118347406387329, 2.118337869644165, 2.1183347702026367, 2.118330955505371, 2.118330478668213, 2.1183488368988037, 2.118361234664917, 2.118349075317383, 2.1183524131774902, 2.118373394012451, 3.490079641342163, 3.541947841644287, 5.023130893707275, 7.7396240234375, 1.410177230834961, 1.410177230834961, 1.4101773500442505, 1.410177230834961, 1.410177230834961, 1.410177230834961, 2.7550277709960938, 2.755031108856201, 2.778480291366577, 2.781938076019287, 2.781930446624756, 5.72258186340332, 6.289958953857422, 30.503812789916992, 286.2845458984375, 286.9419250488281, 135.3518829345703, 10.24067497253418, 98.96238708496094, 24.81806755065918, 23.708532333374023, 16.74812126159668, 42.91373062133789, 13.372474670410156, 20.58245086669922, 8.740592002868652, 4.869390487670898, 9.121546745300293, 21.991891860961914, 56.604515075683594, 9.682917594909668, 68.91736602783203, 16.855934143066406, 10.545112609863281, 95.74270629882812, 78.04362487792969, 20.672266006469727, 22.873859405517578, 55.429718017578125, 41.85491180419922, 33.40921401977539, 17.60877227783203, 61.1348762512207, 13.863929748535156, 17.27105712890625, 15.56887149810791, 2.801100730895996, 2.101426124572754, 2.101423740386963, 2.1014227867126465, 2.1014244556427, 2.1014065742492676, 2.1014201641082764, 2.1011900901794434, 2.101423740386963, 2.1014654636383057, 2.1014397144317627, 2.101435422897339, 2.1013574600219727, 2.1015548706054688, 4.160793781280518, 3.509019613265991, 3.5165414810180664, 4.931983947753906, 9.926674842834473, 5.043933391571045, 6.325580596923828, 1.4017196893692017, 1.4017199277877808, 1.4017194509506226, 1.4017194509506226, 1.4017194509506226, 1.4017189741134644, 1.4017187356948853, 1.4017184972763062, 1.401718020439148, 9.762702941894531, 2.7650070190429688, 2.7650043964385986, 2.764995574951172, 11.364479064941406, 2.809156656265259, 2.8454911708831787, 2.8454439640045166, 2.8728086948394775, 8.503645896911621, 21.991891860961914, 11.911972045898438, 42.91373062133789, 4.818694114685059, 4.840185642242432, 4.841753005981445, 12.447915077209473, 61.1348762512207, 25.06931495666504, 95.74270629882812, 19.150676727294922, 18.903724670410156, 286.2845458984375, 286.9419250488281, 135.3518829345703, 38.42298126220703, 55.429718017578125, 9.23338508605957, 12.019871711730957, 12.79609203338623, 13.372474670410156, 8.614142417907715, 41.85491180419922, 15.560188293457031, 20.58245086669922, 20.656551361083984, 98.96238708496094, 78.04362487792969, 24.27536964416504, 33.0739860534668, 2.6934609413146973, 2.029694080352783, 2.029694080352783, 2.029691696166992, 2.029691457748413, 2.0296900272369385, 2.029689311981201, 2.029686450958252, 2.029683828353882, 2.029691457748413, 2.029691696166992, 2.029655694961548, 2.0296502113342285, 2.0295615196228027, 4.077120304107666, 1.3658782243728638, 1.3658781051635742, 1.3658779859542847, 1.3658779859542847, 1.3658778667449951, 1.3658777475357056, 1.3658777475357056, 1.3658775091171265, 1.3658778667449951, 1.3658777475357056, 1.3658777475357056, 1.3658778667449951, 1.3658775091171265, 1.3658775091171265, 1.3658775091171265, 1.3658777475357056, 1.3658775091171265, 2.6663482189178467, 2.6663923263549805, 2.6665472984313965, 2.6897542476654053, 4.101658821105957, 2.7291760444641113, 2.7376089096069336, 2.7451155185699463, 2.749478340148926, 2.737835645675659, 2.7378101348876953, 2.7735164165496826, 2.7737483978271484, 2.8010735511779785, 7.771364212036133, 4.687273025512695, 4.824289798736572, 16.855934143066406, 11.020614624023438, 19.33967399597168, 95.74270629882812, 61.1348762512207, 8.946348190307617, 38.42298126220703, 135.3518829345703, 13.863929748535156, 10.349955558776855, 28.989320755004883, 23.708532333374023, 24.27536964416504, 25.06931495666504, 286.2845458984375, 286.9419250488281, 16.830638885498047, 10.486932754516602, 10.560516357421875, 10.589227676391602, 11.913442611694336, 12.057523727416992, 78.04362487792969, 26.220115661621094, 33.0739860534668, 14.696746826171875, 17.58080291748047, 21.991891860961914, 56.604515075683594, 98.96238708496094, 24.81806755065918, 2.02260422706604, 2.022597074508667, 2.0225753784179688, 2.022614002227783, 2.02262544631958, 2.022632122039795, 2.0226497650146484, 2.022759199142456, 2.022857189178467, 3.382284641265869, 3.39081072807312, 3.4270286560058594, 3.45461368560791, 1.3623356819152832, 1.3623355627059937, 1.3623356819152832, 1.3623353242874146, 1.362334132194519, 1.3623340129852295, 1.3623321056365967, 1.3623318672180176, 1.3623318672180176, 1.3623316287994385, 1.362331748008728, 1.3623337745666504, 1.362331509590149, 1.3623313903808594, 1.3623309135437012, 1.3623305559158325, 1.362330675125122, 2.686281442642212, 4.169750213623047, 2.7380592823028564, 2.738138437271118, 4.150296688079834, 2.7941524982452393, 5.355015754699707, 5.68997049331665, 3.3856236934661865, 3.385753870010376, 3.40343976020813, 3.406013011932373, 3.421804666519165, 3.4375221729278564, 3.438778877258301, 3.4575536251068115, 3.4576032161712646, 6.242286682128906, 95.74270629882812, 28.989320755004883, 30.503812789916992, 98.96238708496094, 26.220115661621094, 10.633633613586426, 135.3518829345703, 78.04362487792969, 17.035646438598633, 286.9419250488281, 286.2845458984375, 68.91736602783203, 33.0739860534668, 61.1348762512207, 19.648202896118164, 20.656551361083984, 14.101786613464355, 15.56887149810791, 15.560188293457031, 14.257901191711426, 33.40921401977539, 16.74812126159668, 17.27105712890625, 18.903724670410156, 16.3846435546875, 23.708532333374023, 24.751754760742188, 24.81806755065918, 38.42298126220703, 3.249890089035034, 2.612764358520508, 2.6128625869750977, 4.594288349151611, 1.9759076833724976, 1.9759149551391602, 1.9763799905776978, 3.321016788482666, 1.3389523029327393, 1.3389520645141602, 1.338951826095581, 1.3389519453048706, 1.338951826095581, 1.3389519453048706, 1.338951826095581, 1.338951587677002, 1.3389513492584229, 1.3389513492584229, 1.3389513492584229, 1.338951587677002, 1.3389513492584229, 1.3389513492584229, 1.3389512300491333, 1.3389511108398438, 1.3389511108398438, 1.3389509916305542, 1.3389503955841064, 1.3389503955841064, 1.338950514793396, 1.338950514793396, 3.936391830444336, 2.6393871307373047, 2.6752028465270996, 2.68369197845459, 2.6836659908294678, 2.6837899684906006, 4.092130661010742, 2.6914515495300293, 2.6913533210754395, 2.6955792903900146, 2.6957812309265137, 2.7199699878692627, 10.348194122314453, 4.803345203399658, 16.855934143066406, 56.604515075683594, 13.843947410583496, 5.5442609786987305, 3.3513646125793457, 3.3548173904418945, 3.3592779636383057, 3.4035515785217285, 33.40921401977539, 6.264066696166992, 10.24067497253418, 19.04960060119629, 19.33967399597168, 78.04362487792969, 17.27105712890625, 24.751754760742188, 135.3518829345703, 15.582823753356934, 33.0739860534668, 41.85491180419922, 9.325611114501953, 23.708532333374023, 25.06931495666504, 95.74270629882812, 17.60877227783203, 61.1348762512207, 98.96238708496094, 55.429718017578125, 286.2845458984375, 286.9419250488281, 14.016912460327148, 68.91736602783203, 16.830638885498047], \"Category\": [\"Default\", \"Default\", \"Default\", \"Default\", \"Default\", \"Default\", \"Default\", \"Default\", \"Default\", \"Default\", \"Default\", \"Default\", \"Default\", \"Default\", \"Default\", \"Default\", \"Default\", \"Default\", \"Default\", \"Default\", \"Default\", \"Default\", \"Default\", \"Default\", \"Default\", \"Default\", \"Default\", \"Default\", \"Default\", \"Default\", \"Topic1\", \"Topic1\", \"Topic1\", \"Topic1\", \"Topic1\", \"Topic1\", \"Topic1\", \"Topic1\", \"Topic1\", \"Topic1\", \"Topic1\", \"Topic1\", \"Topic1\", \"Topic1\", \"Topic1\", \"Topic1\", \"Topic1\", \"Topic1\", \"Topic1\", \"Topic1\", \"Topic1\", \"Topic1\", \"Topic1\", \"Topic1\", \"Topic1\", \"Topic1\", \"Topic1\", \"Topic1\", \"Topic1\", \"Topic1\", \"Topic1\", \"Topic1\", \"Topic1\", \"Topic1\", \"Topic1\", \"Topic1\", \"Topic1\", \"Topic1\", \"Topic1\", \"Topic1\", \"Topic1\", \"Topic1\", \"Topic1\", \"Topic1\", \"Topic1\", \"Topic1\", \"Topic1\", \"Topic1\", \"Topic1\", \"Topic1\", \"Topic1\", \"Topic1\", \"Topic1\", \"Topic1\", \"Topic1\", \"Topic1\", \"Topic1\", \"Topic1\", \"Topic1\", \"Topic1\", \"Topic1\", \"Topic1\", \"Topic1\", \"Topic1\", \"Topic1\", \"Topic1\", \"Topic1\", \"Topic1\", \"Topic1\", \"Topic1\", \"Topic1\", \"Topic1\", \"Topic1\", \"Topic1\", \"Topic2\", \"Topic2\", \"Topic2\", \"Topic2\", \"Topic2\", \"Topic2\", \"Topic2\", \"Topic2\", \"Topic2\", \"Topic2\", \"Topic2\", \"Topic2\", \"Topic2\", \"Topic2\", \"Topic2\", \"Topic2\", \"Topic2\", \"Topic2\", \"Topic2\", \"Topic2\", \"Topic2\", \"Topic2\", \"Topic2\", \"Topic2\", \"Topic2\", \"Topic2\", \"Topic2\", \"Topic2\", \"Topic2\", \"Topic2\", \"Topic2\", \"Topic2\", \"Topic2\", \"Topic2\", \"Topic2\", \"Topic2\", \"Topic2\", \"Topic2\", \"Topic2\", \"Topic2\", \"Topic2\", \"Topic2\", \"Topic2\", \"Topic2\", \"Topic2\", \"Topic2\", \"Topic2\", \"Topic2\", \"Topic2\", \"Topic2\", \"Topic2\", \"Topic2\", \"Topic2\", \"Topic2\", \"Topic2\", \"Topic2\", \"Topic2\", \"Topic2\", \"Topic2\", \"Topic2\", \"Topic2\", \"Topic2\", \"Topic2\", \"Topic2\", \"Topic2\", \"Topic2\", \"Topic2\", \"Topic2\", \"Topic2\", \"Topic2\", \"Topic2\", \"Topic2\", \"Topic3\", \"Topic3\", \"Topic3\", \"Topic3\", \"Topic3\", \"Topic3\", \"Topic3\", \"Topic3\", \"Topic3\", \"Topic3\", \"Topic3\", \"Topic3\", \"Topic3\", \"Topic3\", \"Topic3\", \"Topic3\", \"Topic3\", \"Topic3\", \"Topic3\", \"Topic3\", \"Topic3\", \"Topic3\", \"Topic3\", \"Topic3\", \"Topic3\", \"Topic3\", \"Topic3\", \"Topic3\", \"Topic3\", \"Topic3\", \"Topic3\", \"Topic3\", \"Topic3\", \"Topic3\", \"Topic3\", \"Topic3\", \"Topic3\", \"Topic3\", \"Topic3\", \"Topic3\", \"Topic3\", \"Topic3\", \"Topic3\", \"Topic3\", \"Topic3\", \"Topic3\", \"Topic3\", \"Topic3\", \"Topic3\", \"Topic3\", \"Topic3\", \"Topic3\", \"Topic3\", \"Topic3\", \"Topic3\", \"Topic3\", \"Topic3\", \"Topic3\", \"Topic3\", \"Topic3\", \"Topic3\", \"Topic3\", \"Topic3\", \"Topic3\", \"Topic3\", \"Topic3\", \"Topic3\", \"Topic3\", \"Topic3\", \"Topic4\", \"Topic4\", \"Topic4\", \"Topic4\", \"Topic4\", \"Topic4\", \"Topic4\", \"Topic4\", \"Topic4\", \"Topic4\", \"Topic4\", \"Topic4\", \"Topic4\", \"Topic4\", \"Topic4\", \"Topic4\", \"Topic4\", \"Topic4\", \"Topic4\", \"Topic4\", \"Topic4\", \"Topic4\", \"Topic4\", \"Topic4\", \"Topic4\", \"Topic4\", \"Topic4\", \"Topic4\", \"Topic4\", \"Topic4\", \"Topic4\", \"Topic4\", \"Topic4\", \"Topic4\", \"Topic4\", \"Topic4\", \"Topic4\", \"Topic4\", \"Topic4\", \"Topic4\", \"Topic4\", \"Topic4\", \"Topic4\", \"Topic4\", \"Topic4\", \"Topic4\", \"Topic4\", \"Topic4\", \"Topic4\", \"Topic4\", \"Topic4\", \"Topic4\", \"Topic4\", \"Topic4\", \"Topic4\", \"Topic4\", \"Topic4\", \"Topic4\", \"Topic4\", \"Topic4\", \"Topic4\", \"Topic4\", \"Topic4\", \"Topic4\", \"Topic4\", \"Topic4\", \"Topic4\", \"Topic4\", \"Topic4\", \"Topic4\", \"Topic4\", \"Topic5\", \"Topic5\", \"Topic5\", \"Topic5\", \"Topic5\", \"Topic5\", \"Topic5\", \"Topic5\", \"Topic5\", \"Topic5\", \"Topic5\", \"Topic5\", \"Topic5\", \"Topic5\", \"Topic5\", \"Topic5\", \"Topic5\", \"Topic5\", \"Topic5\", \"Topic5\", \"Topic5\", \"Topic5\", \"Topic5\", \"Topic5\", \"Topic5\", \"Topic5\", \"Topic5\", \"Topic5\", \"Topic5\", \"Topic5\", \"Topic5\", \"Topic5\", \"Topic5\", \"Topic5\", \"Topic5\", \"Topic5\", \"Topic5\", \"Topic5\", \"Topic5\", \"Topic5\", \"Topic5\", \"Topic5\", \"Topic5\", \"Topic5\", \"Topic5\", \"Topic5\", \"Topic5\", \"Topic5\", \"Topic5\", \"Topic5\", \"Topic5\", \"Topic5\", \"Topic5\", \"Topic5\", \"Topic5\", \"Topic5\", \"Topic5\", \"Topic5\", \"Topic5\", \"Topic5\", \"Topic5\", \"Topic5\", \"Topic5\", \"Topic5\", \"Topic5\", \"Topic5\", \"Topic5\", \"Topic5\", \"Topic5\", \"Topic5\", \"Topic5\", \"Topic6\", \"Topic6\", \"Topic6\", \"Topic6\", \"Topic6\", \"Topic6\", \"Topic6\", \"Topic6\", \"Topic6\", \"Topic6\", \"Topic6\", \"Topic6\", \"Topic6\", \"Topic6\", \"Topic6\", \"Topic6\", \"Topic6\", \"Topic6\", \"Topic6\", \"Topic6\", \"Topic6\", \"Topic6\", \"Topic6\", \"Topic6\", \"Topic6\", \"Topic6\", \"Topic6\", \"Topic6\", \"Topic6\", \"Topic6\", \"Topic6\", \"Topic6\", \"Topic6\", \"Topic6\", \"Topic6\", \"Topic6\", \"Topic6\", \"Topic6\", \"Topic6\", \"Topic6\", \"Topic6\", \"Topic6\", \"Topic6\", \"Topic6\", \"Topic6\", \"Topic6\", \"Topic6\", \"Topic6\", \"Topic6\", \"Topic6\", \"Topic6\", \"Topic6\", \"Topic6\", \"Topic6\", \"Topic6\", \"Topic6\", \"Topic6\", \"Topic6\", \"Topic6\", \"Topic6\", \"Topic6\", \"Topic6\", \"Topic6\", \"Topic6\", \"Topic6\", \"Topic6\", \"Topic6\", \"Topic6\", \"Topic6\", \"Topic6\", \"Topic7\", \"Topic7\", \"Topic7\", \"Topic7\", \"Topic7\", \"Topic7\", \"Topic7\", \"Topic7\", \"Topic7\", \"Topic7\", \"Topic7\", \"Topic7\", \"Topic7\", \"Topic7\", \"Topic7\", \"Topic7\", \"Topic7\", \"Topic7\", \"Topic7\", \"Topic7\", \"Topic7\", \"Topic7\", \"Topic7\", \"Topic7\", \"Topic7\", \"Topic7\", \"Topic7\", \"Topic7\", \"Topic7\", \"Topic7\", \"Topic7\", \"Topic7\", \"Topic7\", \"Topic7\", \"Topic7\", \"Topic7\", \"Topic7\", \"Topic7\", \"Topic7\", \"Topic7\", \"Topic7\", \"Topic7\", \"Topic7\", \"Topic7\", \"Topic7\", \"Topic7\", \"Topic7\", \"Topic7\", \"Topic7\", \"Topic7\", \"Topic7\", \"Topic7\", \"Topic7\", \"Topic7\", \"Topic7\", \"Topic7\", \"Topic7\", \"Topic7\", \"Topic7\", \"Topic7\", \"Topic7\", \"Topic7\", \"Topic7\", \"Topic7\", \"Topic7\", \"Topic7\", \"Topic7\", \"Topic7\", \"Topic7\", \"Topic7\", \"Topic7\", \"Topic7\", \"Topic7\", \"Topic7\", \"Topic7\", \"Topic7\", \"Topic7\", \"Topic7\", \"Topic7\", \"Topic7\", \"Topic8\", \"Topic8\", \"Topic8\", \"Topic8\", \"Topic8\", \"Topic8\", \"Topic8\", \"Topic8\", \"Topic8\", \"Topic8\", \"Topic8\", \"Topic8\", \"Topic8\", \"Topic8\", \"Topic8\", \"Topic8\", \"Topic8\", \"Topic8\", \"Topic8\", \"Topic8\", \"Topic8\", \"Topic8\", \"Topic8\", \"Topic8\", \"Topic8\", \"Topic8\", \"Topic8\", \"Topic8\", \"Topic8\", \"Topic8\", \"Topic8\", \"Topic8\", \"Topic8\", \"Topic8\", \"Topic8\", \"Topic8\", \"Topic8\", \"Topic8\", \"Topic8\", \"Topic8\", \"Topic8\", \"Topic8\", \"Topic8\", \"Topic8\", \"Topic8\", \"Topic8\", \"Topic8\", \"Topic8\", \"Topic8\", \"Topic8\", \"Topic8\", \"Topic8\", \"Topic8\", \"Topic8\", \"Topic8\", \"Topic8\", \"Topic8\", \"Topic8\", \"Topic8\", \"Topic8\", \"Topic8\", \"Topic8\", \"Topic8\", \"Topic8\", \"Topic8\", \"Topic8\", \"Topic8\", \"Topic8\", \"Topic8\", \"Topic8\", \"Topic8\", \"Topic8\", \"Topic8\", \"Topic8\", \"Topic8\", \"Topic8\", \"Topic8\", \"Topic9\", \"Topic9\", \"Topic9\", \"Topic9\", \"Topic9\", \"Topic9\", \"Topic9\", \"Topic9\", \"Topic9\", \"Topic9\", \"Topic9\", \"Topic9\", \"Topic9\", \"Topic9\", \"Topic9\", \"Topic9\", \"Topic9\", \"Topic9\", \"Topic9\", \"Topic9\", \"Topic9\", \"Topic9\", \"Topic9\", \"Topic9\", \"Topic9\", \"Topic9\", \"Topic9\", \"Topic9\", \"Topic9\", \"Topic9\", \"Topic9\", \"Topic9\", \"Topic9\", \"Topic9\", \"Topic9\", \"Topic9\", \"Topic9\", \"Topic9\", \"Topic9\", \"Topic9\", \"Topic9\", \"Topic9\", \"Topic9\", \"Topic9\", \"Topic9\", \"Topic9\", \"Topic9\", \"Topic9\", \"Topic9\", \"Topic9\", \"Topic9\", \"Topic9\", \"Topic9\", \"Topic9\", \"Topic9\", \"Topic9\", \"Topic9\", \"Topic9\", \"Topic9\", \"Topic9\", \"Topic9\", \"Topic9\", \"Topic9\", \"Topic9\", \"Topic9\", \"Topic9\", \"Topic9\", \"Topic9\", \"Topic9\", \"Topic9\", \"Topic9\", \"Topic9\", \"Topic9\", \"Topic9\", \"Topic9\", \"Topic9\", \"Topic9\"], \"logprob\": [30.0, 29.0, 28.0, 27.0, 26.0, 25.0, 24.0, 23.0, 22.0, 21.0, 20.0, 19.0, 18.0, 17.0, 16.0, 15.0, 14.0, 13.0, 12.0, 11.0, 10.0, 9.0, 8.0, 7.0, 6.0, 5.0, 4.0, 3.0, 2.0, 1.0, -6.507900238037109, -5.817599773406982, -6.775400161743164, -6.7754998207092285, -6.7754998207092285, -6.775599956512451, -6.7758002281188965, -7.163300037384033, -7.163300037384033, -7.163300037384033, -7.163300037384033, -7.163300037384033, -7.163300037384033, -7.163300037384033, -7.163300037384033, -7.163300037384033, -7.163300037384033, -7.163300037384033, -7.163300037384033, -7.163300037384033, -7.163300037384033, -7.163300037384033, -7.163300037384033, -7.163300037384033, -7.163300037384033, -7.163300037384033, -7.163300037384033, -7.163300037384033, -7.163300037384033, -7.163400173187256, -6.497900009155273, -6.100299835205078, -6.279399871826172, -6.345399856567383, -6.279099941253662, -6.1132001876831055, -3.2702999114990234, -3.2706000804901123, -6.291900157928467, -6.776199817657471, -6.775599956512451, -5.970799922943115, -6.775599956512451, -5.070400238037109, -6.497200012207031, -4.264500141143799, -6.335999965667725, -5.948699951171875, -6.775400161743164, -4.568299770355225, -4.492599964141846, -6.780700206756592, -6.775400161743164, -6.2789998054504395, -4.23829984664917, -5.588099956512451, -5.672599792480469, -6.321300029754639, -5.81689977645874, -5.948699951171875, -5.441500186920166, -5.338799953460693, -5.999000072479248, -5.428299903869629, -6.111199855804443, -6.042500019073486, -6.047999858856201, -5.9816999435424805, -5.666200160980225, -6.018899917602539, -6.091599941253662, -6.100599765777588, -6.094200134277344, -6.0960001945495605, -6.5395002365112305, -6.539899826049805, -6.053899765014648, -6.92710018157959, -6.92710018157959, -6.92710018157959, -6.92710018157959, -6.92710018157959, -6.92710018157959, -6.927299976348877, -6.9274001121521, -6.9274001121521, -6.927499771118164, -6.927499771118164, -6.927499771118164, -6.927499771118164, -6.927499771118164, -6.927599906921387, -6.927700042724609, -6.927700042724609, -6.927700042724609, -6.927800178527832, -6.927800178527832, -6.927800178527832, -6.9278998374938965, -6.9278998374938965, -6.928100109100342, -6.928100109100342, -6.928400039672852, -6.929900169372559, -6.542799949645996, -6.539299964904785, -6.539899826049805, -6.539700031280518, -6.28000020980835, -6.5395002365112305, -4.086400032043457, -3.658799886703491, -6.275400161743164, -3.658799886703491, -4.992000102996826, -4.861800193786621, -5.49560022354126, -4.983399868011475, -4.729700088500977, -5.729599952697754, -6.54040002822876, -6.539899826049805, -6.2606000900268555, -6.539400100708008, -5.022799968719482, -5.379199981689453, -6.050099849700928, -5.88640022277832, -5.086599826812744, -6.271500110626221, -6.260700225830078, -5.611599922180176, -5.890900135040283, -5.9045000076293945, -5.895400047302246, -5.864200115203857, -6.043000221252441, -5.901400089263916, -6.291900157928467, -5.78849983215332, -5.860899925231934, -6.15339994430542, -6.153600215911865, -6.182300090789795, -6.214600086212158, -6.239799976348877, -6.47760009765625, -6.481599807739258, -5.6579999923706055, -6.864099979400635, -6.864099979400635, -6.864099979400635, -6.864099979400635, -6.864099979400635, -6.864099979400635, -6.864099979400635, -6.864099979400635, -6.864099979400635, -6.864099979400635, -6.864099979400635, -6.8643999099731445, -6.864500045776367, -6.864500045776367, -6.864500045776367, -6.864699840545654, -6.864699840545654, -6.864799976348877, -6.8649001121521, -6.8649001121521, -6.865200042724609, -6.867599964141846, -6.8678998947143555, -6.868199825286865, -6.868299961090088, -6.86959981918335, -6.874800205230713, -6.19789981842041, -6.197700023651123, -4.8958001136779785, -5.664899826049805, -6.47629976272583, -6.4770002365112305, -5.3979997634887695, -4.5391998291015625, -5.185500144958496, -5.476799964904785, -4.326900005340576, -4.384399890899658, -5.979700088500977, -5.495500087738037, -4.721099853515625, -5.422599792480469, -6.198999881744385, -4.068299770355225, -6.47629976272583, -4.0680999755859375, -6.479300022125244, -5.615600109100342, -5.313399791717529, -5.498199939727783, -5.110300064086914, -5.901100158691406, -6.198500156402588, -6.118199825286865, -5.466700077056885, -5.618100166320801, -5.932000160217285, -5.979400157928467, -5.921500205993652, -5.979599952697754, -5.952000141143799, -5.613999843597412, -5.5843000411987305, -5.979899883270264, -5.962100028991699, -6.164700031280518, -6.4415998458862305, -6.44189977645874, -6.442500114440918, -6.829400062561035, -6.829400062561035, -6.829400062561035, -6.829400062561035, -6.829400062561035, -6.829400062561035, -6.829400062561035, -6.829400062561035, -6.829500198364258, -6.829599857330322, -6.829599857330322, -6.829699993133545, -6.829699993133545, -6.829699993133545, -6.829699993133545, -6.829899787902832, -6.831099987030029, -6.831200122833252, -6.831200122833252, -6.831299781799316, -6.831299781799316, -6.831299781799316, -6.831600189208984, -6.934299945831299, -6.4415998458862305, -6.44189977645874, -6.44189977645874, -6.163599967956543, -5.7677998542785645, -6.441999912261963, -5.51639986038208, -6.441699981689453, -6.44189977645874, -5.962200164794922, -3.456199884414673, -3.456199884414673, -5.720200061798096, -6.512700080871582, -5.996500015258789, -4.731900215148926, -6.162899971008301, -5.614999771118164, -6.4415998458862305, -6.162799835205078, -5.1244001388549805, -5.947999954223633, -5.561600208282471, -6.16480016708374, -5.1579999923706055, -5.151700019836426, -5.138299942016602, -5.749899864196777, -5.423399925231934, -5.327199935913086, -5.945099830627441, -5.872600078582764, -5.950500011444092, -5.991600036621094, -5.760900020599365, -6.162899971008301, -6.162799835205078, -5.5914998054504395, -5.929699897766113, -5.932199954986572, -6.1194000244140625, -6.104400157928467, -6.162700176239014, -5.756100177764893, -6.430699825286865, -6.432400226593018, -6.81850004196167, -6.81850004196167, -6.81850004196167, -6.81850004196167, -6.81850004196167, -6.81850004196167, -6.81850004196167, -6.81850004196167, -6.81850004196167, -6.81850004196167, -6.81850004196167, -6.81850004196167, -6.81850004196167, -6.81850004196167, -6.81879997253418, -6.81879997253418, -6.818900108337402, -6.819200038909912, -6.430699825286865, -6.430600166320801, -6.152100086212158, -5.7555999755859375, -7.4604997634887695, -7.4604997634887695, -7.4604997634887695, -7.4604997634887695, -7.4604997634887695, -7.4604997634887695, -6.81850004196167, -6.818600177764893, -6.817599773406982, -6.81820011138916, -6.81850004196167, -6.152100086212158, -6.152299880981445, -4.918499946594238, -3.3457000255584717, -3.3457000255584717, -4.051599979400635, -5.934199810028076, -4.7256999015808105, -5.565400123596191, -5.604100227355957, -5.7947001457214355, -5.393400192260742, -5.951600074768066, -5.755099773406982, -6.154300212860107, -6.431000232696533, -6.151800155639648, -5.756999969482422, -5.332200050354004, -6.151899814605713, -5.341899871826172, -5.934199810028076, -6.151899814605713, -5.322299957275391, -5.425300121307373, -5.934100151062012, -5.933700084686279, -5.75540018081665, -5.875, -5.9334001541137695, -6.072700023651123, -6.106500148773193, -6.151500225067139, -6.151500225067139, -6.151800155639648, -6.373600006103516, -6.76140022277832, -6.76140022277832, -6.76140022277832, -6.76140022277832, -6.76140022277832, -6.76140022277832, -6.761499881744385, -6.76140022277832, -6.761600017547607, -6.76170015335083, -6.761899948120117, -6.762199878692627, -6.769599914550781, -6.095699787139893, -6.373899936676025, -6.373600006103516, -6.094799995422363, -5.415599822998047, -6.0954999923706055, -5.877099990844727, -7.40339994430542, -7.40339994430542, -7.40339994430542, -7.40339994430542, -7.40339994430542, -7.40339994430542, -7.40339994430542, -7.40339994430542, -7.40339994430542, -5.547100067138672, -6.76140022277832, -6.76140022277832, -6.76140022277832, -5.445000171661377, -6.761499881744385, -6.76140022277832, -6.76170015335083, -6.76140022277832, -5.877099990844727, -5.197700023651123, -5.67080020904541, -4.729000091552734, -6.373600006103516, -6.373600006103516, -6.373899936676025, -5.742199897766113, -4.702600002288818, -5.298900127410889, -4.539299964904785, -5.499300003051758, -5.5467000007629395, -4.065499782562256, -4.065700054168701, -4.471799850463867, -5.19920015335083, -5.014500141143799, -5.981200218200684, -5.877500057220459, -5.877299785614014, -5.877600193023682, -6.09499979019165, -5.422399997711182, -5.877399921417236, -5.877900123596191, -5.878799915313721, -5.54610013961792, -5.698200225830078, -5.871300220489502, -5.970600128173828, -6.2291998863220215, -6.615799903869629, -6.615799903869629, -6.615799903869629, -6.615799903869629, -6.615799903869629, -6.615799903869629, -6.615799903869629, -6.615799903869629, -6.615900039672852, -6.615900039672852, -6.616499900817871, -6.616600036621094, -6.616799831390381, -5.94920015335083, -7.257800102233887, -7.257800102233887, -7.257800102233887, -7.257800102233887, -7.257800102233887, -7.257800102233887, -7.257800102233887, -7.257800102233887, -7.257800102233887, -7.257800102233887, -7.257800102233887, -7.257800102233887, -7.257800102233887, -7.257800102233887, -7.257800102233887, -7.257800102233887, -7.257800102233887, -6.615799903869629, -6.616399765014648, -6.618100166320801, -6.615799903869629, -6.228300094604492, -6.615799903869629, -6.616000175476074, -6.615799903869629, -6.615499973297119, -6.6203999519348145, -6.621399879455566, -6.615699768066406, -6.615799903869629, -6.615799903869629, -5.731500148773193, -6.229499816894531, -6.228000164031982, -5.402200222015381, -5.731800079345703, -5.401299953460693, -4.412499904632568, -4.748799800872803, -5.950200080871582, -5.153299808502197, -4.486000061035156, -5.731800079345703, -5.949900150299072, -5.448500156402588, -5.552700042724609, -5.552599906921387, -5.5518999099731445, -4.5665998458862305, -4.566699981689453, -5.7316999435424805, -5.949100017547607, -5.94890022277832, -5.949399948120117, -5.949100017547607, -5.94890022277832, -5.2692999839782715, -5.730899810791016, -5.731200218200684, -5.948999881744385, -5.94920015335083, -5.94920015335083, -5.885900020599365, -5.939000129699707, -5.9492998123168945, -6.610599994659424, -6.610599994659424, -6.610599994659424, -6.610599994659424, -6.6107001304626465, -6.610899925231934, -6.611100196838379, -6.611199855804443, -6.611999988555908, -6.222700119018555, -6.223199844360352, -6.223199844360352, -6.224299907684326, -7.252600193023682, -7.252600193023682, -7.252600193023682, -7.252600193023682, -7.252600193023682, -7.252600193023682, -7.252600193023682, -7.252600193023682, -7.252600193023682, -7.252600193023682, -7.252600193023682, -7.252600193023682, -7.252600193023682, -7.252600193023682, -7.252600193023682, -7.252600193023682, -7.252600193023682, -6.611000061035156, -6.222899913787842, -6.610599994659424, -6.611100196838379, -6.241499900817871, -6.611199855804443, -6.2230000495910645, -6.222700119018555, -6.6107001304626465, -6.611199855804443, -6.6107001304626465, -6.611499786376953, -6.611199855804443, -6.610799789428711, -6.610599994659424, -6.610499858856201, -6.610899925231934, -6.2221999168396, -4.501999855041504, -5.28439998626709, -5.299499988555908, -4.60260009765625, -5.396200180053711, -5.943600177764893, -4.498000144958496, -4.8881001472473145, -5.72629976272583, -4.355800151824951, -4.408400058746338, -5.1219000816345215, -5.464099884033203, -5.242599964141846, -5.726200103759766, -5.724400043487549, -5.9745001792907715, -5.943600177764893, -5.9440999031066895, -5.975299835205078, -5.726399898529053, -5.943999767303467, -5.9446001052856445, -5.944300174713135, -6.001200199127197, -5.944200038909912, -5.94379997253418, -5.94350004196167, -6.221199989318848, -5.852099895477295, -6.129700183868408, -6.129799842834473, -5.6331000328063965, -6.517399787902832, -6.517399787902832, -6.521399974822998, -6.13070011138916, -7.15880012512207, -7.15880012512207, -7.15880012512207, -7.15880012512207, -7.15880012512207, -7.15880012512207, -7.15880012512207, -7.15880012512207, -7.15880012512207, -7.15880012512207, -7.15880012512207, -7.15880012512207, -7.15880012512207, -7.15880012512207, -7.15880012512207, -7.15880012512207, -7.15880012512207, -7.15880012512207, -7.15880012512207, -7.15880012512207, -7.15880012512207, -7.15880012512207, -6.129700183868408, -6.518099784851074, -6.5177998542785645, -6.517000198364258, -6.517300128936768, -6.517399787902832, -6.129799842834473, -6.517499923706055, -6.5177998542785645, -6.516900062561035, -6.5177998542785645, -6.517399787902832, -5.456200122833252, -6.129000186920166, -5.158699989318848, -4.440800189971924, -5.465700149536133, -6.1296000480651855, -6.517099857330322, -6.516900062561035, -6.516900062561035, -6.517099857330322, -5.0553998947143555, -6.129199981689453, -5.850399971008301, -5.499499797821045, -5.504700183868408, -4.855999946594238, -5.633200168609619, -5.67549991607666, -5.064899921417236, -5.884900093078613, -5.632900238037109, -5.632800102233887, -6.1290998458862305, -5.850399971008301, -5.850800037384033, -5.5559000968933105, -5.986800193786621, -5.730999946594238, -5.632900238037109, -5.850500106811523, -5.854899883270264, -5.855400085449219, -6.128900051116943, -6.129000186920166, -6.129000186920166], \"loglift\": [30.0, 29.0, 28.0, 27.0, 26.0, 25.0, 24.0, 23.0, 22.0, 21.0, 20.0, 19.0, 18.0, 17.0, 16.0, 15.0, 14.0, 13.0, 12.0, 11.0, 10.0, 9.0, 8.0, 7.0, 6.0, 5.0, 4.0, 3.0, 2.0, 1.0, 1.5700000524520874, 1.565999984741211, 1.5285999774932861, 1.5285999774932861, 1.5285999774932861, 1.528499960899353, 1.5283000469207764, 1.4362000226974487, 1.4362000226974487, 1.4362000226974487, 1.4362000226974487, 1.4362000226974487, 1.4362000226974487, 1.4362000226974487, 1.4362000226974487, 1.4362000226974487, 1.4362000226974487, 1.4362000226974487, 1.4362000226974487, 1.4362000226974487, 1.4362000226974487, 1.4362000226974487, 1.4362000226974487, 1.4362000226974487, 1.4362000226974487, 1.4362000226974487, 1.4362000226974487, 1.4362000226974487, 1.4362000226974487, 1.4361000061035156, 1.4234000444412231, 1.3924000263214111, 1.3365999460220337, 1.277500033378601, 1.2496000528335571, 1.2100000381469727, 0.4810999929904938, 0.47859999537467957, 1.2122999429702759, 1.3365000486373901, 1.3307000398635864, 1.1030000448226929, 1.329699993133545, 0.829200029373169, 1.2479000091552734, 0.5491999983787537, 1.187000036239624, 1.0614999532699585, 1.320199966430664, 0.607200026512146, 0.5586000084877014, 1.3131999969482422, 1.3082000017166138, 1.1332999467849731, 0.2621999979019165, 0.7915999889373779, 0.791100025177002, 1.0140999555587769, 0.6445000171661377, 0.7050999999046326, 0.23280000686645508, 0.054499998688697815, 0.6937000155448914, -0.05590000003576279, 0.6801999807357788, 0.515500009059906, 0.4185999929904938, 0.23729999363422394, -0.8194000124931335, -0.10920000076293945, 0.0502999983727932, -0.05909999832510948, -0.3343999981880188, -0.44670000672340393, 1.792199969291687, 1.7918000221252441, 1.718000054359436, 1.697100043296814, 1.697100043296814, 1.697100043296814, 1.697100043296814, 1.697100043296814, 1.697100043296814, 1.6969000101089478, 1.6967999935150146, 1.6967999935150146, 1.6966999769210815, 1.6966999769210815, 1.6966999769210815, 1.6966999769210815, 1.6966999769210815, 1.6965999603271484, 1.6964999437332153, 1.6964999437332153, 1.6964999437332153, 1.6964000463485718, 1.6964000463485718, 1.6964000463485718, 1.6963000297546387, 1.6963000297546387, 1.6962000131607056, 1.6960999965667725, 1.6957999467849731, 1.6943999528884888, 1.5851999521255493, 1.5764000415802002, 1.5757999420166016, 1.573799967765808, 1.4855999946594238, 1.5587999820709229, 0.4140999913215637, 0.09269999712705612, 1.381100058555603, 0.09030000120401382, 0.682200014591217, 0.5105999708175659, 0.782800018787384, 0.31200000643730164, 0.11710000038146973, 0.8294000029563904, 1.3996000289916992, 1.3946000337600708, 1.1613999605178833, 1.3841999769210815, 0.0284000001847744, 0.2700999975204468, 0.8687000274658203, 0.673799991607666, -0.2728999853134155, 0.9943000078201294, 0.9239000082015991, 0.14820000529289246, 0.4887000024318695, 0.29510000348091125, 0.24650000035762787, 0.12639999389648438, 0.3874000012874603, 0.00839999970048666, 0.8934000134468079, -0.6129999756813049, -0.4675999879837036, 0.3131999969482422, 0.3025999963283539, -0.14079999923706055, 0.23170000314712524, -0.042899999767541885, 1.8794000148773193, 1.8753999471664429, 1.783400058746338, 1.7825000286102295, 1.7825000286102295, 1.7825000286102295, 1.7825000286102295, 1.7825000286102295, 1.7825000286102295, 1.7825000286102295, 1.7825000286102295, 1.7825000286102295, 1.7825000286102295, 1.7825000286102295, 1.7821999788284302, 1.7821999788284302, 1.782099962234497, 1.782099962234497, 1.7819000482559204, 1.7818000316619873, 1.7818000316619873, 1.7817000150680542, 1.781599998474121, 1.781499981880188, 1.7795000076293945, 1.7791999578475952, 1.7788000106811523, 1.7786999940872192, 1.777500033378601, 1.7726999521255493, 1.7654000520706177, 1.7562999725341797, 1.5211000442504883, 1.6051000356674194, 1.6574000120162964, 1.6567000150680542, 1.2199000120162964, 0.854200005531311, 1.0140000581741333, 1.0813000202178955, 0.4869000017642975, 0.46239998936653137, 1.2731000185012817, 0.9710999727249146, 0.4544999897480011, 0.85589998960495, 1.3436000347137451, -0.31679999828338623, 1.499500036239624, -0.3188999891281128, 1.4776999950408936, 0.7649000287055969, 0.446399986743927, 0.54339998960495, 0.1850000023841858, 0.90420001745224, 1.1734000444412231, 1.047700047492981, 0.1826000064611435, 0.29159998893737793, 0.6801000237464905, 0.6843000054359436, 0.5422000288963318, 0.6826000213623047, 0.5896999835968018, -0.5627999901771545, -1.0836999416351318, 0.48919999599456787, 0.17980000376701355, 1.9728000164031982, 1.919800043106079, 1.919600009918213, 1.9190000295639038, 1.8213000297546387, 1.8213000297546387, 1.8213000297546387, 1.8213000297546387, 1.8213000297546387, 1.8213000297546387, 1.8213000297546387, 1.8213000297546387, 1.8212000131607056, 1.8210999965667725, 1.8209999799728394, 1.8209999799728394, 1.8209999799728394, 1.8209999799728394, 1.8209999799728394, 1.8207999467849731, 1.8200000524520874, 1.8199000358581543, 1.8199000358581543, 1.8198000192642212, 1.8198000192642212, 1.8198000192642212, 1.8194999694824219, 1.722100019454956, 1.7180999517440796, 1.7178000211715698, 1.7000000476837158, 1.663599967956543, 1.603600025177002, 1.6974999904632568, 1.388200044631958, 1.6877000331878662, 1.6875, 1.480299949645996, 0.295199990272522, 0.2930000126361847, 1.1900999546051025, 1.638700008392334, 1.327299952507019, 0.44369998574256897, 1.3756999969482422, 0.9581999778747559, 1.5155999660491943, 1.2726000547409058, 0.26899999380111694, 1.0247999429702759, 0.6352999806404114, 1.1964000463485718, 0.2143000066280365, -0.10050000250339508, -0.2915000021457672, 0.43689998984336853, -0.12809999287128448, -0.5134999752044678, 0.717199981212616, 0.3463999927043915, 0.47999998927116394, 0.567799985408783, -0.08669999986886978, 0.9921000003814697, 0.9872000217437744, -1.09089994430542, -0.16990000009536743, -0.28290000557899475, 0.6317999958992004, 0.3517000079154968, 0.5349000096321106, 2.052799940109253, 1.9386999607086182, 1.937000036239624, 1.8393000364303589, 1.8393000364303589, 1.8393000364303589, 1.8393000364303589, 1.8393000364303589, 1.8393000364303589, 1.8393000364303589, 1.8393000364303589, 1.8393000364303589, 1.8393000364303589, 1.8393000364303589, 1.8393000364303589, 1.8393000364303589, 1.8393000364303589, 1.8389999866485596, 1.8389999866485596, 1.8389999866485596, 1.8386000394821167, 1.7279000282287598, 1.7130999565124512, 1.642300009727478, 1.6065000295639038, 1.604200005531311, 1.604200005531311, 1.604200005531311, 1.604200005531311, 1.604200005531311, 1.604200005531311, 1.5765999555587769, 1.5764000415802002, 1.5688999891281128, 1.5671000480651855, 1.5667999982833862, 1.5119999647140503, 1.417199969291687, 1.072100043296814, 0.4058000147342682, 0.4034999907016754, 0.4490000009536743, 1.1478999853134155, 0.08799999952316284, 0.6315000057220459, 0.6384999752044678, 0.7954000234603882, 0.25589999556541443, 0.8636000156402588, 0.6288999915122986, 1.0861999988555908, 1.3945000171661377, 1.0460000038146973, 0.5608000159263611, 0.04019999876618385, 0.9861999750137329, -0.1664000004529953, 0.6495000123977661, 0.9009000062942505, -0.4754999876022339, -0.374099999666214, 0.445499986410141, 0.34470000863075256, -0.3619999885559082, -0.20080000162124634, -0.033799998462200165, 0.4674000144004822, -0.8112000226974487, 0.6276999711990356, 0.40790000557899475, 0.5113999843597412, 2.0048999786376953, 1.9045000076293945, 1.9045000076293945, 1.9045000076293945, 1.9045000076293945, 1.9045000076293945, 1.9043999910354614, 1.9043999910354614, 1.9043999910354614, 1.9041999578475952, 1.904099941253662, 1.9040000438690186, 1.9035999774932861, 1.8961999416351318, 1.8869999647140503, 1.7791999578475952, 1.777400016784668, 1.717900037765503, 1.69760000705719, 1.6948000192642212, 1.6866999864578247, 1.6674000024795532, 1.6674000024795532, 1.6674000024795532, 1.6674000024795532, 1.6674000024795532, 1.6674000024795532, 1.6674000024795532, 1.6674000024795532, 1.6674000024795532, 1.582800030708313, 1.6299999952316284, 1.6299999952316284, 1.6299999952316284, 1.5329999923706055, 1.6139999628067017, 1.6013000011444092, 1.6009999513626099, 1.5917999744415283, 1.3909000158309937, 1.1201000213623047, 1.26010000705719, 0.9203000068664551, 1.462399959564209, 1.457900047302246, 1.4572999477386475, 1.144700050354004, 0.5928000211715698, 0.8878999948501587, 0.3075000047683716, 0.9567999839782715, 0.9223999977111816, -0.3140000104904175, -0.3165000081062317, 0.02879999950528145, 0.5605999827384949, 0.37880000472068787, 1.2043999433517456, 1.0443999767303467, 0.9819999933242798, 0.9376999735832214, 1.160099983215332, 0.25189998745918274, 0.786300003528595, 0.5062000155448914, 0.5016999840736389, -0.7324000000953674, -0.6470999717712402, 0.34769999980926514, -0.0608999989926815, 2.1884000301361084, 2.0848000049591064, 2.0848000049591064, 2.0848000049591064, 2.0848000049591064, 2.0848000049591064, 2.0848000049591064, 2.0848000049591064, 2.0848000049591064, 2.084700107574463, 2.084700107574463, 2.0841000080108643, 2.0840001106262207, 2.0838000774383545, 2.053800106048584, 1.8388999700546265, 1.8388999700546265, 1.8388999700546265, 1.8388999700546265, 1.8388999700546265, 1.8388999700546265, 1.8388999700546265, 1.8388999700546265, 1.8388999700546265, 1.8388999700546265, 1.8388999700546265, 1.8388999700546265, 1.8388999700546265, 1.8388999700546265, 1.8388999700546265, 1.8388999700546265, 1.8388999700546265, 1.812000036239624, 1.8113000392913818, 1.809499979019165, 1.8032000064849854, 1.7688000202178955, 1.788699984550476, 1.7854000329971313, 1.7827999591827393, 1.781499981880188, 1.780900001525879, 1.7798999547958374, 1.7726999521255493, 1.7725000381469727, 1.7626999616622925, 1.6265000104904175, 1.6340999603271484, 1.6067999601364136, 1.1815999746322632, 1.276900053024292, 1.0449999570846558, 0.4343000054359436, 0.546500027179718, 1.2670999765396118, 0.6065000295639038, 0.014499999582767487, 1.0472999811172485, 1.121500015258789, 0.5929999947547913, 0.6898999810218811, 0.6664000153541565, 0.6348999738693237, -0.8151999711990356, -0.8176000118255615, 0.8535000085830688, 1.1092000007629395, 1.1023999452590942, 1.0992000102996826, 0.9817000031471252, 0.9697999954223633, -0.21809999644756317, 0.41100001335144043, 0.1784999966621399, 0.7717999815940857, 0.5924999713897705, 0.3686000108718872, -0.5134999752044678, -1.1253000497817993, 0.2475000023841858, 2.0934998989105225, 2.0934998989105225, 2.0934998989105225, 2.0934998989105225, 2.093400001525879, 2.0931999683380127, 2.092900037765503, 2.0927999019622803, 2.0920000076293945, 1.9672000408172607, 1.9642000198364258, 1.9536000490188599, 1.9444999694824219, 1.8466999530792236, 1.8466999530792236, 1.8466999530792236, 1.8466999530792236, 1.8466999530792236, 1.8466999530792236, 1.8466999530792236, 1.8466999530792236, 1.8466999530792236, 1.8466999530792236, 1.8466999530792236, 1.8466999530792236, 1.8466999530792236, 1.8466999530792236, 1.8466999530792236, 1.8466999530792236, 1.8466999530792236, 1.8092999458312988, 1.757699966430664, 1.7905999422073364, 1.7900999784469604, 1.7438000440597534, 1.769700050354004, 1.5074000358581543, 1.4470000267028809, 1.5781999826431274, 1.5777000188827515, 1.5729000568389893, 1.5714000463485718, 1.5671000480651855, 1.5628999471664429, 1.5628000497817993, 1.5573999881744385, 1.5570000410079956, 1.3549000024795532, 0.3447999954223633, 0.757099986076355, 0.691100001335144, 0.2110999971628189, 0.7458000183105469, 1.1008000373840332, 0.0026000000070780516, 0.163100004196167, 0.8468999862670898, -0.6065999865531921, -0.6568999886512756, 0.053599998354911804, 0.4456000030040741, 0.05270000174641609, 0.704200029373169, 0.656000018119812, 0.7876999974250793, 0.7196000218391418, 0.7196000218391418, 0.7759000062942505, 0.17319999635219574, 0.6460999846458435, 0.614799976348877, 0.5248000025749207, 0.6108999848365784, 0.29840001463890076, 0.2558000087738037, 0.2533999979496002, -0.46140000224113464, 2.377700090408325, 2.3183000087738037, 2.31820011138916, 2.250499963760376, 2.2100000381469727, 2.2100000381469727, 2.2058000564575195, 2.077500104904175, 1.9577000141143799, 1.9577000141143799, 1.9577000141143799, 1.9577000141143799, 1.9577000141143799, 1.9577000141143799, 1.9577000141143799, 1.9577000141143799, 1.9577000141143799, 1.9577000141143799, 1.9577000141143799, 1.9577000141143799, 1.9577000141143799, 1.9577000141143799, 1.9577000141143799, 1.9577000141143799, 1.9577000141143799, 1.9577000141143799, 1.9577000141143799, 1.9577000141143799, 1.9577000141143799, 1.9577000141143799, 1.9084999561309814, 1.919800043106079, 1.906599998474121, 1.9042999744415283, 1.9039000272750854, 1.9039000272750854, 1.8696000576019287, 1.9007999897003174, 1.9005999565124512, 1.899999976158142, 1.8990000486373901, 1.8904000520706177, 1.615399956703186, 1.7101000547409058, 1.4250999689102173, 0.9315999746322632, 1.3149000406265259, 1.566100001335144, 1.6820000410079956, 1.6811000108718872, 1.679800033569336, 1.6664999723434448, 0.8442000150680542, 1.4443999528884888, 1.2316999435424805, 0.961899995803833, 0.9416000247001648, 0.19509999454021454, 0.9261999726295471, 0.5239999890327454, -0.5644000172615051, 0.7773000001907349, 0.2768000066280365, 0.04149999842047691, 1.0465999841690063, 0.3921999931335449, 0.335999995470047, -0.7091000080108643, 0.5533000230789185, -0.43560001254081726, -0.8191999793052673, -0.45719999074935913, -2.1033999919891357, -2.1061999797821045, 0.63919997215271, -0.953499972820282, 0.4562000036239624]}, \"token.table\": {\"Topic\": [3, 1, 2, 1, 3, 4, 8, 9, 1, 2, 3, 4, 5, 6, 7, 8, 9, 1, 2, 3, 4, 5, 6, 7, 8, 9, 6, 9, 1, 3, 5, 6, 2, 3, 5, 7, 8, 9, 5, 9, 3, 6, 7, 8, 9, 7, 5, 6, 2, 5, 4, 4, 5, 1, 8, 7, 8, 4, 6, 5, 7, 2, 2, 1, 2, 3, 5, 9, 9, 1, 2, 3, 5, 6, 9, 1, 2, 3, 4, 5, 6, 7, 8, 9, 2, 2, 5, 6, 6, 1, 8, 1, 2, 5, 1, 3, 5, 6, 7, 8, 9, 1, 9, 1, 5, 6, 8, 9, 2, 3, 6, 8, 9, 2, 6, 7, 1, 2, 6, 4, 5, 6, 7, 8, 7, 1, 5, 4, 6, 8, 8, 1, 2, 3, 4, 5, 6, 8, 1, 3, 5, 6, 7, 8, 9, 4, 1, 2, 3, 4, 5, 6, 7, 8, 1, 7, 9, 2, 3, 6, 8, 1, 2, 3, 5, 6, 7, 9, 2, 4, 4, 9, 4, 6, 3, 1, 2, 3, 4, 5, 6, 8, 9, 3, 4, 6, 1, 4, 6, 7, 8, 9, 3, 7, 1, 2, 3, 4, 5, 6, 7, 8, 9, 1, 1, 2, 3, 4, 5, 6, 7, 9, 4, 7, 5, 1, 8, 6, 8, 8, 8, 1, 2, 3, 4, 5, 6, 7, 8, 9, 1, 2, 3, 4, 5, 6, 7, 8, 9, 1, 3, 4, 5, 6, 7, 7, 3, 7, 1, 2, 3, 4, 5, 6, 7, 8, 9, 1, 2, 3, 4, 5, 6, 7, 8, 9, 2, 6, 2, 1, 2, 3, 6, 7, 7, 1, 2, 3, 4, 5, 6, 7, 8, 3, 5, 7, 9, 2, 6, 9, 1, 2, 3, 6, 7, 8, 9, 1, 5, 8, 7, 9, 2, 1, 2, 1, 6, 9, 3, 7, 3, 2, 9, 2, 4, 4, 8, 8, 1, 1, 2, 3, 4, 5, 6, 7, 8, 9, 5, 2, 4, 5, 7, 9, 6, 7, 8, 1, 6, 6, 2, 5, 5, 9, 9, 2, 1, 2, 3, 4, 5, 7, 8, 9, 1, 2, 1, 2, 3, 4, 5, 6, 7, 8, 9, 7, 9, 3, 4, 9, 7, 4, 6, 6, 1, 2, 4, 5, 6, 4, 1, 3, 6, 8, 9, 1, 6, 3, 4, 5, 3, 9, 1, 2, 3, 4, 5, 8, 9, 1, 2, 3, 4, 4, 1, 2, 3, 4, 5, 2, 2, 8, 9, 8, 2, 8, 2, 5, 1, 2, 4, 5, 7, 9, 7, 7, 4, 1, 3, 4, 6, 7, 8, 9, 4, 2, 3, 5, 6, 8, 9, 4, 2, 5, 1, 2, 3, 4, 5, 6, 8, 9, 2, 3, 4, 6, 7, 8, 9, 4, 1, 2, 4, 5, 6, 7, 8, 1, 2, 3, 4, 6, 8, 9, 1, 3, 4, 5, 6, 8, 9, 1, 2, 3, 4, 5, 6, 7, 8, 1, 2, 5, 4, 1, 2, 3, 4, 5, 6, 7, 8, 3, 9, 4, 9, 9, 1, 3, 4, 6, 8, 9, 1, 9, 1, 7, 8, 7, 2, 1, 4, 6, 4, 5, 7, 2, 6, 8, 9, 9, 9, 4, 6, 7, 8, 6, 1, 2, 3, 4, 5, 6, 8, 9, 2, 1, 1, 2, 3, 4, 5, 6, 7, 8, 1, 5, 9, 5, 4, 7, 9, 1, 4, 8, 1, 3, 4, 6, 7, 8, 9, 1, 2, 3, 4, 5, 6, 8, 9, 1, 2, 3, 4, 5, 6, 7, 8, 9, 7, 1, 8, 1, 2, 3, 6, 8, 5, 3, 5, 9, 7, 9, 3, 4, 3, 1, 3, 6, 9, 9, 4, 9, 9, 6, 3, 1, 6, 8, 2, 3, 7, 1, 2, 3, 5, 6, 7, 8, 9, 1, 6, 5, 8, 6, 7, 1, 3, 9, 5, 9, 1, 3, 5, 6, 7, 8, 9, 7, 5, 3, 6, 4, 5, 7, 9, 2, 4, 3, 4, 2, 4, 3, 7, 9, 2, 3, 5, 8, 9, 2, 1, 2, 3, 4, 5, 6, 7, 8, 6, 3, 4, 5, 6, 8, 7, 8, 1, 3, 4, 7, 9, 1, 2, 3, 4, 5, 6, 7, 9, 3, 5, 1, 9, 4, 5, 1, 2, 3, 4, 5, 6, 1, 3, 4, 5, 6, 7, 8, 1, 2, 3, 7, 8, 3, 3, 7, 9, 1, 2, 3, 4, 5, 7, 8, 9, 2, 4, 1, 3, 5, 6, 8, 2, 6, 9, 3, 1, 2, 4, 5, 5, 5, 9, 5, 6, 3, 6, 4, 3, 7, 9, 3, 5, 5, 6, 7, 5, 5, 2, 9, 8, 7, 1, 1, 2, 3, 4, 5, 6, 7, 8, 9, 9, 1, 2, 3, 4, 5, 6, 7, 8, 4, 4, 6, 2, 6, 7, 4, 7, 7, 8, 9, 3, 9, 1, 2, 3, 4, 5, 6, 7, 8, 9, 1, 2, 3, 6, 9, 1, 3, 7, 8, 1, 7, 6, 1, 3, 4, 5, 6, 7, 8, 9, 2, 4, 5, 5, 1, 2, 3, 4, 5, 6, 7, 9, 6, 7, 1, 2, 4, 6, 4, 1, 3, 6, 1, 2, 3, 4, 6, 7, 9, 4, 2, 4, 2, 5, 1, 5, 6, 7, 8, 8, 1, 6, 7, 8, 3, 6, 8, 8, 9, 3, 6, 2, 8, 8, 3, 6, 2, 7, 8, 3, 1, 2, 4, 5, 6, 7, 8, 9, 5, 9, 3, 8, 8, 7, 5, 8, 1, 2, 3, 4, 6, 7, 9, 1, 2, 3, 5, 6, 8, 9, 1, 2, 5, 7, 8, 4, 4, 6, 4, 8, 9, 3, 8, 5, 6, 8, 7, 2, 3, 8, 7, 8, 1, 1, 6, 7, 1, 2, 3, 4, 5, 6, 7, 9, 1, 8, 2, 1, 3, 4, 7, 9, 1, 2, 3, 5, 2, 5, 7, 9, 1, 2, 3, 8, 1, 2, 3, 5, 6, 7, 8, 1, 6, 5, 7, 1, 2, 3, 4, 5, 7, 8, 9, 1, 2, 8, 5, 7, 3, 7, 6, 6, 2, 4, 1, 1, 2, 2, 5, 1, 2, 3, 5, 6, 5, 8, 5, 9, 8, 9, 1, 2, 3, 4, 5, 6, 7, 7, 9, 5, 7, 4, 7, 9, 7, 4, 5, 7, 9, 7, 1, 3, 4, 6, 7, 8, 9, 4, 8, 1, 3, 4, 6, 7, 8, 9, 1, 2, 6, 7, 4, 8, 9, 8, 1, 8, 1, 2, 3, 4, 5, 6, 8, 9, 9, 5, 9, 1, 3, 4, 6, 7, 8, 9, 1, 5, 2, 1, 7, 7, 9, 2, 8, 1, 2, 4, 5, 8, 4, 9, 3, 7, 8, 1, 5, 7, 8, 1, 2, 4, 6, 8, 9, 1, 3, 4, 5, 7, 5, 9, 8, 2, 1, 2, 3, 4, 5, 6, 8, 9, 2, 3, 4, 5, 7, 9, 1, 7, 1, 2, 4, 5, 7, 8, 1, 1, 3, 4, 5, 6, 7, 8, 9, 1, 2, 3, 5, 6, 8, 9, 2, 7, 2, 5, 6, 1, 2, 3, 4, 5, 6, 7, 8, 9, 1, 3, 4, 5, 6, 7, 8, 9, 9, 3, 1, 6, 3, 4, 1, 2, 4, 5, 9, 1, 3, 4, 5, 6, 7, 8, 9, 3, 1, 2, 7, 5, 7, 8, 9, 3, 1, 2, 3, 4, 5, 6, 7, 8, 9, 6, 7, 3, 7, 7, 6, 7, 1, 2, 5, 6, 7, 1, 2, 4, 5, 6, 5, 7, 7, 1, 2, 3, 4, 5, 6, 7, 8, 9, 3, 1, 2, 4, 5, 8, 1, 2, 3, 4, 5, 6, 7, 8, 9, 1, 4, 8, 2, 4, 5, 6, 7, 9, 2, 1, 4, 7, 1, 2, 3, 4, 5, 6, 7, 8, 9, 1, 3, 6, 7, 8, 9, 9, 3, 1, 7, 8, 4, 8, 1, 2, 3, 4, 5, 6, 7, 8, 9, 1, 2, 3, 4, 5, 6, 7, 8, 6, 1, 1, 3, 4, 5, 7, 8, 9, 5, 1, 2, 4, 6, 8, 9, 3, 1, 2, 3, 4, 5, 6, 8, 9, 3, 5, 6, 5, 1, 1, 1, 6], \"Freq\": [0.933673083782196, 0.2697926461696625, 0.539585292339325, 0.2899056673049927, 0.09663521498441696, 0.09663521498441696, 0.09663521498441696, 0.38654085993766785, 0.04907182604074478, 0.17993003129959106, 0.14721547067165375, 0.09814365208148956, 0.04907182604074478, 0.19628730416297913, 0.14721547067165375, 0.0817863792181015, 0.04907182604074478, 0.31496724486351013, 0.052494537085294724, 0.052494537085294724, 0.10498907417058945, 0.052494537085294724, 0.052494537085294724, 0.10498907417058945, 0.052494537085294724, 0.2099781483411789, 0.7134095430374146, 0.5059755444526672, 0.10073866695165634, 0.20147733390331268, 0.10073866695165634, 0.6044319868087769, 0.20654931664466858, 0.10327465832233429, 0.3098239600658417, 0.10327465832233429, 0.10327465832233429, 0.20654931664466858, 0.3011125922203064, 0.6022251844406128, 0.3914094865322113, 0.26093965768814087, 0.13046982884407043, 0.13046982884407043, 0.9231081604957581, 0.732129693031311, 0.35597872734069824, 0.35597872734069824, 0.5489898324012756, 0.2744949162006378, 0.9377840757369995, 0.9377828240394592, 0.7091307044029236, 0.543877124786377, 0.2719385623931885, 0.3717811703681946, 0.3717811703681946, 0.9374328255653381, 0.4758583903312683, 0.35946163535118103, 0.35946163535118103, 0.9129130244255066, 0.9129161834716797, 0.15964069962501526, 0.15964069962501526, 0.15964069962501526, 0.15964069962501526, 0.3192813992500305, 0.746853232383728, 0.4289263188838959, 0.10723157972097397, 0.10723157972097397, 0.10723157972097397, 0.10723157972097397, 0.21446315944194794, 0.15899792313575745, 0.21199722588062286, 0.03533286973834038, 0.1413314789533615, 0.12366504967212677, 0.052999306470155716, 0.052999306470155716, 0.01766643486917019, 0.19433078169822693, 0.912916898727417, 0.4605809450149536, 0.2302904725074768, 0.2302904725074768, 0.7134097814559937, 0.2894679605960846, 0.5789359211921692, 0.8906607627868652, 0.912920355796814, 0.4720649719238281, 0.2961473762989044, 0.2961473762989044, 0.0740368440747261, 0.0740368440747261, 0.0740368440747261, 0.0740368440747261, 0.0740368440747261, 0.6628518104553223, 0.7468528747558594, 0.5031776428222656, 0.1257944107055664, 0.1257944107055664, 0.1257944107055664, 0.1257944107055664, 0.1178475171327591, 0.5892375707626343, 0.1178475171327591, 0.1178475171327591, 0.1178475171327591, 0.912930428981781, 0.36166274547576904, 0.36166274547576904, 0.6662188768386841, 0.16655471920967102, 0.16655471920967102, 0.562255859375, 0.2811279296875, 0.2953552007675171, 0.2953552007675171, 0.2953552007675171, 0.49271726608276367, 0.8906567692756653, 0.47206413745880127, 0.29090720415115356, 0.29090720415115356, 0.29090720415115356, 0.7340361475944519, 0.1402730941772461, 0.1402730941772461, 0.1402730941772461, 0.21040965616703033, 0.07013654708862305, 0.07013654708862305, 0.21040965616703033, 0.09483066201210022, 0.28449198603630066, 0.28449198603630066, 0.09483066201210022, 0.09483066201210022, 0.09483066201210022, 0.09483066201210022, 0.9374357461929321, 0.20597009360790253, 0.12358205020427704, 0.041194017976522446, 0.16477607190608978, 0.08238803595304489, 0.16477607190608978, 0.16477607190608978, 0.041194017976522446, 0.24380379915237427, 0.48760759830474854, 0.24380379915237427, 0.32480141520500183, 0.32480141520500183, 0.10826713591814041, 0.21653427183628082, 0.04371802508831024, 0.3060261905193329, 0.26230815052986145, 0.17487210035324097, 0.08743605017662048, 0.04371802508831024, 0.08743605017662048, 0.27830079197883606, 0.5566015839576721, 0.371560275554657, 0.371560275554657, 0.9374353885650635, 0.4758680760860443, 0.9335794448852539, 0.14575523138046265, 0.0971701592206955, 0.0971701592206955, 0.0971701592206955, 0.194340318441391, 0.194340318441391, 0.04858507961034775, 0.0971701592206955, 0.23427703976631165, 0.4685540795326233, 0.23427703976631165, 0.10243064910173416, 0.20486129820346832, 0.5121532678604126, 0.10243064910173416, 0.10243064910173416, 0.10243064910173416, 0.9340347647666931, 0.4926856756210327, 0.2788020670413971, 0.14288605749607086, 0.08712564408779144, 0.1533411294221878, 0.16728124022483826, 0.0766705647110939, 0.03833528235554695, 0.04530533403158188, 0.010455077514052391, 0.6628373861312866, 0.07223373651504517, 0.07223373651504517, 0.14446747303009033, 0.14446747303009033, 0.07223373651504517, 0.14446747303009033, 0.07223373651504517, 0.28893494606018066, 0.7019506692886353, 0.4926944077014923, 0.7091307044029236, 0.3578902781009674, 0.3578902781009674, 0.7210162878036499, 0.2403387576341629, 0.7340360283851624, 0.4944009780883789, 0.30314546823501587, 0.10104849189519882, 0.1919921338558197, 0.070733942091465, 0.1212581917643547, 0.05052424594759941, 0.030314547941088676, 0.10104849189519882, 0.030314547941088676, 0.22164449095726013, 0.19948004186153412, 0.03694074973464012, 0.03694074973464012, 0.1773155927658081, 0.11082224547863007, 0.08865779638290405, 0.08865779638290405, 0.044328898191452026, 0.18887118995189667, 0.18887118995189667, 0.09443559497594833, 0.2833067774772644, 0.09443559497594833, 0.2833067774772644, 0.7321300506591797, 0.9335811138153076, 0.7321298718452454, 0.0731126219034195, 0.146225243806839, 0.18800388276576996, 0.08355727791786194, 0.0731126219034195, 0.146225243806839, 0.13578057289123535, 0.11489126086235046, 0.04177863895893097, 0.3075203001499176, 0.14094680547714233, 0.06406673043966293, 0.10250677168369293, 0.0768800750374794, 0.051253385841846466, 0.06406673043966293, 0.10250677168369293, 0.08969342708587646, 0.3514389991760254, 0.3514389991760254, 0.6814170479774475, 0.15477116405963898, 0.15477116405963898, 0.46431347727775574, 0.15477116405963898, 0.15477116405963898, 0.7321300506591797, 0.17247730493545532, 0.10348638147115707, 0.20697276294231415, 0.06899092346429825, 0.06899092346429825, 0.034495461732149124, 0.17247730493545532, 0.17247730493545532, 0.17797885835170746, 0.237305149435997, 0.29663142561912537, 0.29663142561912537, 0.2075251042842865, 0.415050208568573, 0.2075251042842865, 0.10341435670852661, 0.15512153506278992, 0.10341435670852661, 0.15512153506278992, 0.25853589177131653, 0.051707178354263306, 0.20682871341705322, 0.8906553387641907, 0.29491472244262695, 0.5898294448852539, 0.37887582182884216, 0.37887582182884216, 0.9129579067230225, 0.890657901763916, 0.9129608273506165, 0.6628358960151672, 0.37380343675613403, 0.37380343675613403, 0.3637053668498993, 0.3637053668498993, 0.9335964918136597, 0.912925660610199, 0.7468529939651489, 0.27829957008361816, 0.5565991401672363, 0.36522218585014343, 0.36522218585014343, 0.7340354323387146, 0.662856936454773, 0.36506861448287964, 0.14602744579315186, 0.07301372289657593, 0.14602744579315186, 0.07301372289657593, 0.07301372289657593, 0.07301372289657593, 0.07301372289657593, 0.07301372289657593, 0.7091307044029236, 0.09764981269836426, 0.09764981269836426, 0.39059925079345703, 0.19529962539672852, 0.2929494380950928, 0.2953665554523468, 0.2953665554523468, 0.2953665554523468, 0.39651593565940857, 0.5947738885879517, 0.4758678376674652, 0.9129846692085266, 0.7091306447982788, 0.3629727363586426, 0.3629727363586426, 0.7468525767326355, 0.9129284024238586, 0.11883090436458588, 0.11883090436458588, 0.17824634909629822, 0.11883090436458588, 0.11883090436458588, 0.17824634909629822, 0.05941545218229294, 0.11883090436458588, 0.5684676766395569, 0.3789784610271454, 0.13608454167842865, 0.13608454167842865, 0.06804227083921432, 0.13608454167842865, 0.06804227083921432, 0.06804227083921432, 0.20412680506706238, 0.06804227083921432, 0.06804227083921432, 0.492686927318573, 0.7468531131744385, 0.9335991740226746, 0.5737489461898804, 0.2868744730949402, 0.4926862418651581, 0.5636090040206909, 0.28180450201034546, 0.4758828580379486, 0.15413793921470642, 0.15413793921470642, 0.4624137878417969, 0.15413793921470642, 0.15413793921470642, 0.9377880692481995, 0.6214026212692261, 0.12428051978349686, 0.12428051978349686, 0.12428051978349686, 0.12428051978349686, 0.34809139370918274, 0.34809139370918274, 0.5589850544929504, 0.2794925272464752, 0.47206541895866394, 0.37094998359680176, 0.37094998359680176, 0.10818958282470703, 0.3245687484741211, 0.10818958282470703, 0.21637916564941406, 0.10818958282470703, 0.10818958282470703, 0.10818958282470703, 0.6628383994102478, 0.9129260182380676, 0.9335822463035583, 0.9374144673347473, 0.9374172687530518, 0.3135468065738678, 0.20903120934963226, 0.10451560467481613, 0.3135468065738678, 0.10451560467481613, 0.9129254221916199, 0.2938203811645508, 0.2938203811645508, 0.2938203811645508, 0.734033465385437, 0.2917979657649994, 0.5835959315299988, 0.3981580436229706, 0.5972370505332947, 0.18938468396663666, 0.09469234198331833, 0.09469234198331833, 0.09469234198331833, 0.2840770184993744, 0.09469234198331833, 0.7321298122406006, 0.7321299314498901, 0.937430202960968, 0.18416740000247955, 0.42972394824028015, 0.06138913333415985, 0.18416740000247955, 0.06138913333415985, 0.06138913333415985, 0.1227782666683197, 0.8417004346847534, 0.2166052907705307, 0.10830264538526535, 0.2166052907705307, 0.32490792870521545, 0.10830264538526535, 0.7654439806938171, 0.9374164342880249, 0.9129874110221863, 0.47206977009773254, 0.11651282757520676, 0.16311796009540558, 0.13981539011001587, 0.09321025758981705, 0.13981539011001587, 0.2563282251358032, 0.023302564397454262, 0.046605128794908524, 0.1606694757938385, 0.08033473789691925, 0.1606694757938385, 0.321338951587677, 0.08033473789691925, 0.1606694757938385, 0.08033473789691925, 0.9374151825904846, 0.1907135397195816, 0.0953567698597908, 0.0953567698597908, 0.0953567698597908, 0.1907135397195816, 0.2860702872276306, 0.0953567698597908, 0.08080235123634338, 0.16160470247268677, 0.32320940494537354, 0.04040117561817169, 0.12120352685451508, 0.12120352685451508, 0.12120352685451508, 0.28365200757980347, 0.14182600378990173, 0.07091300189495087, 0.07091300189495087, 0.07091300189495087, 0.2127390056848526, 0.14182600378990173, 0.12853315472602844, 0.12853315472602844, 0.2570663094520569, 0.06426657736301422, 0.06426657736301422, 0.2570663094520569, 0.06426657736301422, 0.19279971718788147, 0.2265293151140213, 0.4530586302280426, 0.2265293151140213, 0.9377773404121399, 0.14523237943649292, 0.09682158380746841, 0.24205395579338074, 0.04841079190373421, 0.04841079190373421, 0.19364316761493683, 0.04841079190373421, 0.14523237943649292, 0.9335979223251343, 0.746853232383728, 0.573727548122406, 0.286863774061203, 0.7468533515930176, 0.1925196647644043, 0.25669288635253906, 0.25669288635253906, 0.12834644317626953, 0.06417322158813477, 0.1925196647644043, 0.6780483722686768, 0.2260161191225052, 0.2892218232154846, 0.2892218232154846, 0.2892218232154846, 0.4926875829696655, 0.913033127784729, 0.48420843482017517, 0.19368337094783783, 0.29052504897117615, 0.7020251750946045, 0.3652520179748535, 0.3652520179748535, 0.20653676986694336, 0.4130735397338867, 0.20653676986694336, 0.20653676986694336, 0.5060946345329285, 0.7468535900115967, 0.20660364627838135, 0.4132072925567627, 0.20660364627838135, 0.20660364627838135, 0.7134102582931519, 0.1750715970993042, 0.0875357985496521, 0.0875357985496521, 0.3501431941986084, 0.0875357985496521, 0.0875357985496521, 0.0875357985496521, 0.0875357985496521, 0.9129235744476318, 0.890659511089325, 0.1174008846282959, 0.1174008846282959, 0.1174008846282959, 0.29350221157073975, 0.05870044231414795, 0.05870044231414795, 0.05870044231414795, 0.17610132694244385, 0.2443714737892151, 0.2443714737892151, 0.4887429475784302, 0.47206300497055054, 0.2980788052082062, 0.2980788052082062, 0.2980788052082062, 0.23982252180576324, 0.23982252180576324, 0.4796450436115265, 0.11966820806264877, 0.11966820806264877, 0.15955761075019836, 0.23933641612529755, 0.15955761075019836, 0.03988940268754959, 0.11966820806264877, 0.18808245658874512, 0.18808245658874512, 0.09404122829437256, 0.09404122829437256, 0.18808245658874512, 0.09404122829437256, 0.2821236848831177, 0.7468531131744385, 0.2794422507286072, 0.143214151263237, 0.08732570707798004, 0.15369324386119843, 0.16766536235809326, 0.07684662193059921, 0.038423310965299606, 0.045409366488456726, 0.010479085147380829, 0.7425390481948853, 0.8906577825546265, 0.7340335249900818, 0.13717356324195862, 0.41152065992355347, 0.27434712648391724, 0.13717356324195862, 0.7340343594551086, 0.4720682203769684, 0.29381072521209717, 0.29381072521209717, 0.29381072521209717, 0.3750167787075043, 0.3750167787075043, 0.5589975714683533, 0.27949878573417664, 0.9335982203483582, 0.2081882506608963, 0.2081882506608963, 0.2081882506608963, 0.4163765013217926, 0.7468535900115967, 0.9374297857284546, 0.7468528151512146, 0.7468536496162415, 0.47583815455436707, 0.9336249232292175, 0.8906605243682861, 0.295658141374588, 0.591316282749176, 0.2342323213815689, 0.4684646427631378, 0.2342323213815689, 0.09661877155303955, 0.09661877155303955, 0.09661877155303955, 0.1932375431060791, 0.09661877155303955, 0.28985631465911865, 0.09661877155303955, 0.09661877155303955, 0.5381036996841431, 0.26905184984207153, 0.47206032276153564, 0.49440526962280273, 0.3616630733013153, 0.3616630733013153, 0.18036669492721558, 0.36073338985443115, 0.36073338985443115, 0.37262099981307983, 0.37262099981307983, 0.10041854530572891, 0.5523020029067993, 0.050209272652864456, 0.10041854530572891, 0.050209272652864456, 0.050209272652864456, 0.050209272652864456, 0.7321300506591797, 0.4720698595046997, 0.9335963726043701, 0.7134095430374146, 0.521637499332428, 0.130409374833107, 0.130409374833107, 0.130409374833107, 0.9129188656806946, 0.4713602066040039, 0.9340466856956482, 0.9374197125434875, 0.45804962515830994, 0.45804962515830994, 0.24527114629745483, 0.7358134388923645, 0.7468528151512146, 0.5203125476837158, 0.17343752086162567, 0.17343752086162567, 0.17343752086162567, 0.7468536496162415, 0.9129131436347961, 0.13013045489788055, 0.1561565399169922, 0.18218263983726501, 0.10410436242818832, 0.05205218121409416, 0.18218263983726501, 0.1561565399169922, 0.05205218121409416, 0.7134095430374146, 0.16019770503044128, 0.16019770503044128, 0.16019770503044128, 0.16019770503044128, 0.32039541006088257, 0.49268507957458496, 0.49437421560287476, 0.25735506415367126, 0.12867753207683563, 0.12867753207683563, 0.3860326111316681, 0.7468528747558594, 0.07478047162294388, 0.07478047162294388, 0.07478047162294388, 0.14956094324588776, 0.2991218864917755, 0.2991218864917755, 0.07478047162294388, 0.07478047162294388, 0.9335953593254089, 0.4720689058303833, 0.5473659038543701, 0.27368295192718506, 0.9377958178520203, 0.7075881361961365, 0.11608816683292389, 0.11608816683292389, 0.11608816683292389, 0.23217633366584778, 0.11608816683292389, 0.3482644855976105, 0.2891051471233368, 0.34692615270614624, 0.05782102793455124, 0.05782102793455124, 0.05782102793455124, 0.05782102793455124, 0.05782102793455124, 0.31856951117515564, 0.10618983954191208, 0.31856951117515564, 0.10618983954191208, 0.10618983954191208, 0.933597207069397, 0.2976830303668976, 0.2976830303668976, 0.2976830303668976, 0.23179304599761963, 0.23179304599761963, 0.05794826149940491, 0.11589652299880981, 0.05794826149940491, 0.11589652299880981, 0.05794826149940491, 0.05794826149940491, 0.9129201769828796, 0.9377924799919128, 0.17598694562911987, 0.08799347281455994, 0.08799347281455994, 0.5279608368873596, 0.08799347281455994, 0.31617650389671326, 0.6323530077934265, 0.15808825194835663, 0.9335777759552002, 0.22881744801998138, 0.11440872400999069, 0.22881744801998138, 0.34322619438171387, 0.4720657169818878, 0.37260740995407104, 0.37260740995407104, 0.4720652401447296, 0.4758642315864563, 0.9344432353973389, 0.47586730122566223, 0.9374342560768127, 0.21334366500377655, 0.4266873300075531, 0.21334366500377655, 0.9340450167655945, 0.47206345200538635, 0.2849798798561096, 0.5699597597122192, 0.49268507957458496, 0.7091307044029236, 0.7076075673103333, 0.367651104927063, 0.367651104927063, 0.7340355515480042, 0.4926857352256775, 0.8906655311584473, 0.19069328904151917, 0.15255463123321533, 0.15255463123321533, 0.07627731561660767, 0.03813865780830383, 0.03813865780830383, 0.1144159734249115, 0.19069328904151917, 0.03813865780830383, 0.7654727697372437, 0.08058644831180573, 0.12087967991828918, 0.08058644831180573, 0.2014661282300949, 0.2014661282300949, 0.04029322415590286, 0.12087967991828918, 0.12087967991828918, 0.9374315142631531, 0.4055163264274597, 0.6082744598388672, 0.3514331877231598, 0.3514331877231598, 0.49269571900367737, 0.9374300837516785, 0.7321299314498901, 0.2540397644042969, 0.2540397644042969, 0.5080795288085938, 0.3709777593612671, 0.3709777593612671, 0.15117621421813965, 0.12094096839427948, 0.15117621421813965, 0.06047048419713974, 0.06047048419713974, 0.09070573002099991, 0.09070573002099991, 0.12094096839427948, 0.09070573002099991, 0.5434183478355408, 0.1358545869588852, 0.1358545869588852, 0.1358545869588852, 0.1358545869588852, 0.6070020198822021, 0.15175050497055054, 0.15175050497055054, 0.15175050497055054, 0.6104950308799744, 0.3052475154399872, 0.7134099006652832, 0.11580067127943039, 0.057900335639715195, 0.17370100319385529, 0.17370100319385529, 0.057900335639715195, 0.057900335639715195, 0.17370100319385529, 0.17370100319385529, 0.912916898727417, 0.2823305130004883, 0.5646610260009766, 0.47206440567970276, 0.18040864169597626, 0.09020432084798813, 0.28865382075309753, 0.14432691037654877, 0.07216345518827438, 0.14432691037654877, 0.018040863797068596, 0.05412259325385094, 0.7134093046188354, 0.7321300506591797, 0.5957694053649902, 0.14894235134124756, 0.14894235134124756, 0.14894235134124756, 0.701949954032898, 0.670824408531189, 0.16770610213279724, 0.16770610213279724, 0.10443495213985443, 0.15665242075920105, 0.10443495213985443, 0.15665242075920105, 0.2610873878002167, 0.052217476069927216, 0.10443495213985443, 0.9374318718910217, 0.7785710692405701, 0.19464276731014252, 0.9129865169525146, 0.47206610441207886, 0.2192610651254654, 0.3288915753364563, 0.1096305325627327, 0.1096305325627327, 0.1096305325627327, 0.7340355515480042, 0.20728439092636108, 0.20728439092636108, 0.41456878185272217, 0.20728439092636108, 0.9335773587226868, 0.4758652150630951, 0.4944138526916504, 0.7340356707572937, 0.7468527555465698, 0.700619101524353, 0.23353970050811768, 0.9129292964935303, 0.49440690875053406, 0.4944191575050354, 0.9339376091957092, 0.7140050530433655, 0.360553115606308, 0.360553115606308, 0.7340356111526489, 0.9335759878158569, 0.1562977135181427, 0.1562977135181427, 0.07814885675907135, 0.07814885675907135, 0.3125954270362854, 0.07814885675907135, 0.07814885675907135, 0.07814885675907135, 0.2176615595817566, 0.6529846787452698, 0.7071418762207031, 0.23571395874023438, 0.734033465385437, 0.4926857352256775, 0.4720657765865326, 0.7340342998504639, 0.08319556713104248, 0.16639113426208496, 0.24958668649196625, 0.08319556713104248, 0.3327822685241699, 0.08319556713104248, 0.08319556713104248, 0.8906577229499817, 0.17912456393241882, 0.11941637843847275, 0.2388327568769455, 0.17912456393241882, 0.17912456393241882, 0.11941637843847275, 0.45436277985572815, 0.09087255597114563, 0.2726176679134369, 0.09087255597114563, 0.09087255597114563, 0.9374342560768127, 0.2843703031539917, 0.5687406063079834, 0.6171203851699829, 0.20570679008960724, 0.20570679008960724, 0.9335969686508179, 0.7340362668037415, 0.47206345200538635, 0.29224345088005066, 0.29224345088005066, 0.7321299314498901, 0.24094663560390472, 0.24094663560390472, 0.48189327120780945, 0.37226182222366333, 0.37226182222366333, 0.8906552791595459, 0.8906643986701965, 0.475871741771698, 0.7321297526359558, 0.26385483145713806, 0.15831290185451508, 0.31662580370903015, 0.05277096852660179, 0.05277096852660179, 0.05277096852660179, 0.05277096852660179, 0.05277096852660179, 0.8906593918800354, 0.4944120943546295, 0.9129155278205872, 0.12908941507339478, 0.12908941507339478, 0.3872682452201843, 0.25817883014678955, 0.12908941507339478, 0.19342608749866486, 0.5802782773971558, 0.19342608749866486, 0.7091307044029236, 0.2584104835987091, 0.5168209671974182, 0.12920524179935455, 0.12920524179935455, 0.3514956831932068, 0.1757478415966034, 0.1757478415966034, 0.3514956831932068, 0.09094260632991791, 0.13641391694545746, 0.09094260632991791, 0.18188521265983582, 0.3182991147041321, 0.13641391694545746, 0.045471303164958954, 0.8906705975532532, 0.4758678376674652, 0.365282267332077, 0.365282267332077, 0.08393879234790802, 0.16787758469581604, 0.16787758469581604, 0.08393879234790802, 0.16787758469581604, 0.25181639194488525, 0.08393879234790802, 0.08393879234790802, 0.890669047832489, 0.9129198789596558, 0.49435028433799744, 0.5730528235435486, 0.2865264117717743, 0.47735831141471863, 0.23867915570735931, 0.713409423828125, 0.47586768865585327, 0.5478606224060059, 0.27393031120300293, 0.8906561136245728, 0.8906564116477966, 0.9129177927970886, 0.5490071773529053, 0.27450358867645264, 0.11583294719457626, 0.11583294719457626, 0.46333178877830505, 0.11583294719457626, 0.11583294719457626, 0.35990896821022034, 0.35990896821022034, 0.37262460589408875, 0.37262460589408875, 0.4944097101688385, 0.7468531131744385, 0.31510570645332336, 0.10503523796796799, 0.10503523796796799, 0.31510570645332336, 0.10503523796796799, 0.10503523796796799, 0.7321298718452454, 0.49268606305122375, 0.7468529939651489, 0.3652554154396057, 0.3652554154396057, 0.9377991557121277, 0.3750447928905487, 0.3750447928905487, 0.7321298122406006, 0.20536451041698456, 0.4107290208339691, 0.20536451041698456, 0.7468528747558594, 0.4926856756210327, 0.21402716636657715, 0.14268477261066437, 0.14268477261066437, 0.21402716636657715, 0.07134238630533218, 0.07134238630533218, 0.14268477261066437, 0.3652116358280182, 0.3652116358280182, 0.10579925775527954, 0.21159851551055908, 0.10579925775527954, 0.26449814438819885, 0.05289962887763977, 0.1586988866329193, 0.05289962887763977, 0.5317164659500122, 0.2658582329750061, 0.3616642355918884, 0.3616642355918884, 0.2983859181404114, 0.2983859181404114, 0.2983859181404114, 0.7340344786643982, 0.8906577229499817, 0.7340357303619385, 0.18309827148914337, 0.06103275716304779, 0.24413102865219116, 0.06103275716304779, 0.12206551432609558, 0.06103275716304779, 0.18309827148914337, 0.06103275716304779, 0.7468531131744385, 0.36297231912612915, 0.36297231912612915, 0.16789831221103668, 0.08394915610551834, 0.08394915610551834, 0.33579662442207336, 0.08394915610551834, 0.08394915610551834, 0.16789831221103668, 0.5371955633163452, 0.2685977816581726, 0.9129149913787842, 0.5433491468429565, 0.27167457342147827, 0.37503859400749207, 0.37503859400749207, 0.9129211902618408, 0.7340336441993713, 0.13903041183948517, 0.27806082367897034, 0.4170912504196167, 0.13903041183948517, 0.13903041183948517, 0.3715467154979706, 0.3715467154979706, 0.2935984134674072, 0.2935984134674072, 0.2935984134674072, 0.15898354351520538, 0.47695064544677734, 0.15898354351520538, 0.15898354351520538, 0.11734472215175629, 0.35203415155410767, 0.11734472215175629, 0.11734472215175629, 0.11734472215175629, 0.11734472215175629, 0.16353443264961243, 0.16353443264961243, 0.4906032979488373, 0.08176721632480621, 0.08176721632480621, 0.47206422686576843, 0.5060965418815613, 0.7340357899665833, 0.9129201769828796, 0.2569229304790497, 0.06423073261976242, 0.06423073261976242, 0.06423073261976242, 0.19269219040870667, 0.06423073261976242, 0.19269219040870667, 0.12846146523952484, 0.11177745461463928, 0.22355490922927856, 0.11177745461463928, 0.11177745461463928, 0.33533236384391785, 0.11177745461463928, 0.3570059835910797, 0.3570059835910797, 0.08293576538562775, 0.331743061542511, 0.08293576538562775, 0.24880731105804443, 0.24880731105804443, 0.08293576538562775, 0.8906552791595459, 0.31815314292907715, 0.19089189171791077, 0.06363062560558319, 0.06363062560558319, 0.06363062560558319, 0.12726125121116638, 0.12726125121116638, 0.06363062560558319, 0.3683074116706848, 0.15784603357315063, 0.21046136319637299, 0.10523068159818649, 0.052615340799093246, 0.052615340799093246, 0.052615340799093246, 0.36052295565605164, 0.36052295565605164, 0.349492609500885, 0.5242388844490051, 0.1747463047504425, 0.09834836423397064, 0.16391393542289734, 0.0655655711889267, 0.09834836423397064, 0.3278278708457947, 0.03278278559446335, 0.03278278559446335, 0.16391393542289734, 0.03278278559446335, 0.33076587319374084, 0.19845952093601227, 0.13230633735656738, 0.13230633735656738, 0.06615316867828369, 0.06615316867828369, 0.06615316867828369, 0.06615316867828369, 0.7468531131744385, 0.9339423775672913, 0.7920395135879517, 0.13200658559799194, 0.9336009621620178, 0.9374140501022339, 0.14002929627895355, 0.14002929627895355, 0.5601171851158142, 0.14002929627895355, 0.14002929627895355, 0.3891142010688782, 0.05986372381448746, 0.05986372381448746, 0.11972744762897491, 0.05986372381448746, 0.02993186190724373, 0.08979558944702148, 0.17959117889404297, 0.9336053133010864, 0.8906629085540771, 0.5558516979217529, 0.27792584896087646, 0.18674081563949585, 0.18674081563949585, 0.3734816312789917, 0.18674081563949585, 0.6988824009895325, 0.2150285243988037, 0.26281264424324036, 0.07167617231607437, 0.0955682322382927, 0.0955682322382927, 0.14335234463214874, 0.023892058059573174, 0.023892058059573174, 0.07167617231607437, 0.3664109408855438, 0.3664109408855438, 0.9336369037628174, 0.7321300506591797, 0.7321298718452454, 0.7134100198745728, 0.7321299314498901, 0.11759661883115768, 0.11759661883115768, 0.23519323766231537, 0.47038647532463074, 0.11759661883115768, 0.3869919180870056, 0.1934959590435028, 0.0967479795217514, 0.1934959590435028, 0.0967479795217514, 0.3594626188278198, 0.3594626188278198, 0.7321299314498901, 0.3192228674888611, 0.07255065441131592, 0.18863169848918915, 0.17412157356739044, 0.10157091915607452, 0.014510130509734154, 0.014510130509734154, 0.08706078678369522, 0.029020261019468307, 0.6988272666931152, 0.7361436486244202, 0.14722873270511627, 0.14722873270511627, 0.29080089926719666, 0.29080089926719666, 0.11574739217758179, 0.28936848044395447, 0.17362108826637268, 0.11574739217758179, 0.11574739217758179, 0.057873696088790894, 0.057873696088790894, 0.057873696088790894, 0.057873696088790894, 0.3730713129043579, 0.3730713129043579, 0.12435710430145264, 0.21638886630535126, 0.1442592442035675, 0.21638886630535126, 0.07212962210178375, 0.21638886630535126, 0.1442592442035675, 0.6813861727714539, 0.7929975390434265, 0.36428338289260864, 0.36428338289260864, 0.17036962509155273, 0.11357975006103516, 0.05678987503051758, 0.05678987503051758, 0.17036962509155273, 0.17036962509155273, 0.05678987503051758, 0.05678987503051758, 0.11357975006103516, 0.1814780831336975, 0.1814780831336975, 0.09073904156684875, 0.27221712470054626, 0.1814780831336975, 0.09073904156684875, 0.7468531727790833, 0.9336012601852417, 0.28921768069267273, 0.28921768069267273, 0.28921768069267273, 0.5689776539802551, 0.28448882699012756, 0.056880224496126175, 0.17064067721366882, 0.2275208979845047, 0.11376044899225235, 0.056880224496126175, 0.11376044899225235, 0.17064067721366882, 0.056880224496126175, 0.056880224496126175, 0.26592931151390076, 0.06648232787847519, 0.06648232787847519, 0.19944697618484497, 0.06648232787847519, 0.19944697618484497, 0.06648232787847519, 0.06648232787847519, 0.47586867213249207, 0.8906562924385071, 0.16871562600135803, 0.12653672695159912, 0.08435781300067902, 0.21089453995227814, 0.16871562600135803, 0.12653672695159912, 0.12653672695159912, 0.8079512715339661, 0.16447210311889648, 0.16447210311889648, 0.4111802577972412, 0.16447210311889648, 0.08223605155944824, 0.08223605155944824, 0.9336177706718445, 0.050895240157842636, 0.20358096063137054, 0.10179048031568527, 0.20358096063137054, 0.10179048031568527, 0.10179048031568527, 0.1526857167482376, 0.10179048031568527, 0.6993424296379089, 0.13986848294734955, 0.13986848294734955, 0.47206419706344604, 0.8906552791595459, 0.8906554579734802, 0.8906553387641907, 0.47592076659202576], \"Term\": [\"\", \"00\", \"00\", \"000\", \"000\", \"000\", \"000\", \"000\", \"19\", \"19\", \"19\", \"19\", \"19\", \"19\", \"19\", \"19\", \"19\", \"2\", \"2\", \"2\", \"2\", \"2\", \"2\", \"2\", \"2\", \"2\", \"21\", \"2nd\", \"3\", \"3\", \"3\", \"3\", \"4\", \"4\", \"4\", \"4\", \"4\", \"4\", \"40\", \"40\", \"6\", \"6\", \"6\", \"6\", \"8\", \"ab5\", \"account\", \"account\", \"act\", \"act\", \"activerealty\", \"actvre\", \"adem\\u00e1s\", \"administration\", \"administration\", \"affected\", \"affected\", \"afford\", \"agency\", \"agree\", \"agree\", \"aht\", \"alex\", \"already\", \"already\", \"already\", \"already\", \"already\", \"amen\", \"american\", \"american\", \"american\", \"american\", \"american\", \"american\", \"amp\", \"amp\", \"amp\", \"amp\", \"amp\", \"amp\", \"amp\", \"amp\", \"amp\", \"appropriation\", \"area\", \"area\", \"area\", \"arizona\", \"ask\", \"ask\", \"asked\", \"attended\", \"attorney\", \"back\", \"back\", \"back\", \"back\", \"back\", \"back\", \"back\", \"ban\", \"bear\", \"beer\", \"beer\", \"beer\", \"beer\", \"beer\", \"best\", \"best\", \"best\", \"best\", \"best\", \"besthospital\", \"birthday\", \"birthday\", \"bitch\", \"bitch\", \"bitch\", \"board\", \"board\", \"briefing\", \"briefing\", \"briefing\", \"brilliant\", \"bringthemhome\", \"bronx\", \"building\", \"building\", \"building\", \"bulk\", \"business\", \"business\", \"business\", \"business\", \"business\", \"business\", \"business\", \"ca\", \"ca\", \"ca\", \"ca\", \"ca\", \"ca\", \"ca\", \"cagovernor\", \"california\", \"california\", \"california\", \"california\", \"california\", \"california\", \"california\", \"california\", \"cannot\", \"cannot\", \"cannot\", \"care\", \"care\", \"care\", \"care\", \"case\", \"case\", \"case\", \"case\", \"case\", \"case\", \"case\", \"challenge\", \"challenge\", \"changed\", \"changed\", \"charliekirk11\", \"cheesecake\", \"chicken\", \"china\", \"china\", \"china\", \"china\", \"china\", \"china\", \"china\", \"china\", \"chinese\", \"chinese\", \"chinese\", \"city\", \"city\", \"city\", \"city\", \"city\", \"city\", \"civil\", \"clovis\", \"co\", \"co\", \"co\", \"co\", \"co\", \"co\", \"co\", \"co\", \"co\", \"college\", \"come\", \"come\", \"come\", \"come\", \"come\", \"come\", \"come\", \"come\", \"complain\", \"condado\", \"confirmamos\", \"conservative\", \"conservative\", \"control\", \"control\", \"converting\", \"coping\", \"corona\", \"corona\", \"corona\", \"corona\", \"corona\", \"corona\", \"corona\", \"corona\", \"corona\", \"coronavirus\", \"coronavirus\", \"coronavirus\", \"coronavirus\", \"coronavirus\", \"coronavirus\", \"coronavirus\", \"coronavirus\", \"coronavirus\", \"county\", \"county\", \"county\", \"county\", \"county\", \"county\", \"countyofla\", \"cousin\", \"coverage\", \"covid\", \"covid\", \"covid\", \"covid\", \"covid\", \"covid\", \"covid\", \"covid\", \"covid\", \"covid19\", \"covid19\", \"covid19\", \"covid19\", \"covid19\", \"covid19\", \"covid19\", \"covid19\", \"covid19\", \"create\", \"create\", \"cruise\", \"damn\", \"damn\", \"damn\", \"damn\", \"damn\", \"darwinaward\", \"day\", \"day\", \"day\", \"day\", \"day\", \"day\", \"day\", \"day\", \"de\", \"de\", \"de\", \"de\", \"dead\", \"dead\", \"dead\", \"death\", \"death\", \"death\", \"death\", \"death\", \"death\", \"death\", \"debated\", \"decision\", \"decision\", \"del\", \"del\", \"democrat\", \"democratic\", \"department\", \"desperation\", \"despicable\", \"despicable\", \"distancing\", \"distancing\", \"do\", \"dollar\", \"dollargeneral\", \"donate\", \"donate\", \"donation\", \"donation\", \"double\", \"drinking\", \"due\", \"due\", \"due\", \"due\", \"due\", \"due\", \"due\", \"due\", \"due\", \"eg0fc7oa6z\\ud83d\\udea8,\\u203c\\ufe0f,\\u203c\\ufe0f,\\ud83d\\ude14,\\ud83d\\udfe2,\\ud83d\\udd34\", \"el\", \"el\", \"el\", \"el\", \"el\", \"else\", \"else\", \"else\", \"employee\", \"employee\", \"encourage\", \"endfields\", \"enfermedad\", \"esta\", \"esta\", \"eugenegu\", \"eva\", \"even\", \"even\", \"even\", \"even\", \"even\", \"even\", \"even\", \"even\", \"ever\", \"ever\", \"everyone\", \"everyone\", \"everyone\", \"everyone\", \"everyone\", \"everyone\", \"everyone\", \"everyone\", \"everyone\", \"everywhere\", \"ewarren\", \"exceptionally\", \"excuse\", \"excuse\", \"expects\", \"expert\", \"expert\", \"fa\", \"face\", \"face\", \"face\", \"face\", \"face\", \"facemasks\", \"fact\", \"fact\", \"fact\", \"fact\", \"fact\", \"factory\", \"factory\", \"fail\", \"fail\", \"failed\", \"failure\", \"failure\", \"family\", \"family\", \"family\", \"family\", \"family\", \"family\", \"family\", \"fat\", \"feedthefrontline\", \"feeling\", \"fiddle\", \"fig\", \"first\", \"first\", \"first\", \"first\", \"first\", \"firstresponders\", \"flattenthecurve\", \"flattenthecurve\", \"flattenthecurve\", \"flow\", \"focus\", \"focus\", \"francisco\", \"francisco\", \"free\", \"free\", \"free\", \"free\", \"free\", \"free\", \"freelance\", \"freelancer\", \"frequently\", \"fuck\", \"fuck\", \"fuck\", \"fuck\", \"fuck\", \"fuck\", \"fuck\", \"fucked\", \"fucking\", \"fucking\", \"fucking\", \"fucking\", \"fucking\", \"gas\", \"gem\", \"general\", \"gentleman\", \"get\", \"get\", \"get\", \"get\", \"get\", \"get\", \"get\", \"get\", \"getting\", \"getting\", \"getting\", \"getting\", \"getting\", \"getting\", \"getting\", \"giant\", \"give\", \"give\", \"give\", \"give\", \"give\", \"give\", \"give\", \"go\", \"go\", \"go\", \"go\", \"go\", \"go\", \"go\", \"going\", \"going\", \"going\", \"going\", \"going\", \"going\", \"going\", \"good\", \"good\", \"good\", \"good\", \"good\", \"good\", \"good\", \"good\", \"googlenews\", \"googlenews\", \"googlenews\", \"gopleader\", \"got\", \"got\", \"got\", \"got\", \"got\", \"got\", \"got\", \"got\", \"gotta\", \"govegan\", \"govt\", \"govt\", \"grandislandne\", \"great\", \"great\", \"great\", \"great\", \"great\", \"great\", \"grocery\", \"grocery\", \"guess\", \"guess\", \"guess\", \"guidance\", \"ha\", \"hand\", \"hand\", \"hand\", \"handle\", \"handled\", \"handled\", \"happy\", \"happy\", \"happy\", \"happy\", \"hayward\", \"hbcu\", \"head\", \"head\", \"head\", \"head\", \"headline\", \"health\", \"health\", \"health\", \"health\", \"health\", \"health\", \"health\", \"health\", \"hearing\", \"heat\", \"help\", \"help\", \"help\", \"help\", \"help\", \"help\", \"help\", \"help\", \"hit\", \"hit\", \"hit\", \"ho\", \"hoax\", \"hoax\", \"hoax\", \"hollywood\", \"hollywood\", \"hollywood\", \"home\", \"home\", \"home\", \"home\", \"home\", \"home\", \"home\", \"hospital\", \"hospital\", \"hospital\", \"hospital\", \"hospital\", \"hospital\", \"hospital\", \"hotspot\", \"http\", \"http\", \"http\", \"http\", \"http\", \"http\", \"http\", \"http\", \"http\", \"huh\", \"iamintel\", \"identify\", \"idiot\", \"idiot\", \"idiot\", \"idiot\", \"ig3jbk0jax\", \"ilhanmn\", \"illegal\", \"illegal\", \"illegal\", \"im\", \"im\", \"image\", \"image\", \"imagine\", \"impact\", \"impact\", \"impact\", \"impact\", \"importantly\", \"inaction\", \"inhumane\", \"insight\", \"inspiration\", \"iowa\", \"ish\", \"isolate\", \"isolate\", \"italy\", \"italy\", \"italy\", \"job\", \"job\", \"job\", \"job\", \"job\", \"job\", \"job\", \"job\", \"joke\", \"joke\", \"judged\", \"june\", \"keeping\", \"keeping\", \"kid\", \"kid\", \"kid\", \"killed\", \"killed\", \"know\", \"know\", \"know\", \"know\", \"know\", \"know\", \"know\", \"kron4news\", \"lady\", \"lagos\", \"lap\", \"le\", \"le\", \"le\", \"le\", \"lead\", \"leadership\", \"leading\", \"leaf\", \"learning\", \"learning\", \"least\", \"least\", \"led\", \"left\", \"left\", \"left\", \"left\", \"legislative\", \"levi\", \"like\", \"like\", \"like\", \"like\", \"like\", \"like\", \"like\", \"like\", \"limousine\", \"listen\", \"listen\", \"listen\", \"listen\", \"listen\", \"lng\", \"location\", \"lockdown\", \"lockdown\", \"lockdown\", \"lockdown\", \"locked\", \"look\", \"look\", \"look\", \"look\", \"look\", \"look\", \"look\", \"look\", \"looked\", \"loss\", \"lower\", \"lower\", \"lucky\", \"mad\", \"made\", \"made\", \"made\", \"made\", \"made\", \"made\", \"make\", \"make\", \"make\", \"make\", \"make\", \"make\", \"make\", \"many\", \"many\", \"many\", \"many\", \"many\", \"map\", \"market\", \"market\", \"market\", \"mask\", \"mask\", \"mask\", \"mask\", \"mask\", \"mask\", \"mask\", \"mask\", \"massive\", \"master\", \"may\", \"may\", \"may\", \"may\", \"may\", \"mean\", \"mean\", \"mean\", \"measles\", \"medical\", \"medical\", \"medical\", \"medical\", \"meet\", \"metro\", \"metro\", \"mexico\", \"mild\", \"millones\", \"miramar\", \"moderate\", \"mom\", \"mom\", \"mom\", \"mortalidad\", \"mortgage\", \"mr\", \"mr\", \"mtpa\", \"muerto\", \"m\\u00e1s\", \"natural\", \"natural\", \"naturalliving\", \"nature\", \"nba\", \"need\", \"need\", \"need\", \"need\", \"need\", \"need\", \"need\", \"need\", \"need\", \"neighborhood\", \"new\", \"new\", \"new\", \"new\", \"new\", \"new\", \"new\", \"new\", \"notifyla\", \"nursing\", \"nursing\", \"ny\", \"ny\", \"n\\u00famero\", \"object\", \"offering\", \"oh\", \"oh\", \"oh\", \"omg\", \"omg\", \"one\", \"one\", \"one\", \"one\", \"one\", \"one\", \"one\", \"one\", \"one\", \"open\", \"open\", \"open\", \"open\", \"open\", \"order\", \"order\", \"order\", \"order\", \"outside\", \"outside\", \"pace\", \"pandemic\", \"pandemic\", \"pandemic\", \"pandemic\", \"pandemic\", \"pandemic\", \"pandemic\", \"pandemic\", \"pathetic\", \"payment\", \"payment\", \"pedro\", \"people\", \"people\", \"people\", \"people\", \"people\", \"people\", \"people\", \"people\", \"pharmaceutical\", \"physical\", \"place\", \"place\", \"place\", \"place\", \"plane\", \"play\", \"play\", \"play\", \"please\", \"please\", \"please\", \"please\", \"please\", \"please\", \"please\", \"plz\", \"political\", \"political\", \"pornographically\", \"port\", \"positive\", \"positive\", \"positive\", \"positive\", \"positive\", \"positivevibes\\ud83d\\ude4f\\ud83c\\udffb\", \"possible\", \"possible\", \"possible\", \"possible\", \"pox\", \"practice\", \"pregnancy\", \"pregnant\", \"premise\", \"pretty\", \"pretty\", \"primarily\", \"prince\", \"prolly\", \"promedio\", \"proning\", \"protection\", \"protection\", \"pt\", \"publichealth\", \"quarantine\", \"quarantine\", \"quarantine\", \"quarantine\", \"quarantine\", \"quarantine\", \"quarantine\", \"quarantine\", \"que\", \"que\", \"question\", \"question\", \"qxdqbl8z8n\", \"range\", \"reaction\", \"readily\", \"real\", \"real\", \"real\", \"real\", \"real\", \"real\", \"real\", \"realdoctormike\", \"realdonaldtrump\", \"realdonaldtrump\", \"realdonaldtrump\", \"realdonaldtrump\", \"realdonaldtrump\", \"realdonaldtrump\", \"really\", \"really\", \"really\", \"really\", \"really\", \"reform\", \"released\", \"released\", \"relief\", \"relief\", \"relief\", \"remember\", \"remotework\", \"rent\", \"reopen\", \"reopen\", \"repealing\", \"report\", \"report\", \"report\", \"reporter\", \"reporter\", \"responder\", \"responsible\", \"rest\", \"restricts\", \"right\", \"right\", \"right\", \"right\", \"right\", \"right\", \"right\", \"right\", \"river\", \"roadshow\", \"roy\", \"said\", \"said\", \"said\", \"said\", \"said\", \"sale\", \"sale\", \"sale\", \"salvador\", \"san\", \"san\", \"san\", \"san\", \"save\", \"save\", \"save\", \"save\", \"say\", \"say\", \"say\", \"say\", \"say\", \"say\", \"say\", \"scene\", \"scully\", \"second\", \"second\", \"see\", \"see\", \"see\", \"see\", \"see\", \"see\", \"see\", \"see\", \"self\", \"senate\", \"send\", \"senior\", \"senior\", \"sense\", \"sense\", \"sept\", \"serious\", \"service\", \"service\", \"sharp\", \"sharphealthcare\", \"shift\", \"ship\", \"ship\", \"shit\", \"shit\", \"shit\", \"shit\", \"shit\", \"shower\", \"shower\", \"shut\", \"shut\", \"shutdown\", \"shutdownmeatfactories\", \"sign\", \"sign\", \"sign\", \"sign\", \"sign\", \"sign\", \"signed\", \"silence\", \"somestatesjustarentprepared\", \"south\", \"south\", \"spanish\", \"specifically\", \"specifically\", \"speech\", \"spread\", \"spread\", \"spread\", \"stacked\", \"starz\", \"state\", \"state\", \"state\", \"state\", \"state\", \"state\", \"state\", \"stats\", \"stats\", \"stay\", \"stay\", \"stay\", \"stay\", \"stay\", \"stay\", \"stay\", \"stayathome\", \"stayathome\", \"staying\", \"staying\", \"staysafe\", \"staysafe\", \"staysafe\", \"std\", \"steak\", \"stepping\", \"still\", \"still\", \"still\", \"still\", \"still\", \"still\", \"still\", \"still\", \"stillnoresults\", \"stock\", \"stock\", \"stop\", \"stop\", \"stop\", \"stop\", \"stop\", \"stop\", \"stop\", \"store\", \"store\", \"strong\", \"studio\", \"studio\", \"stuff\", \"stuff\", \"subcommittee\", \"suffering\", \"support\", \"support\", \"support\", \"support\", \"support\", \"survive\", \"survive\", \"sweet\", \"sweet\", \"sweet\", \"symptom\", \"symptom\", \"symptom\", \"symptom\", \"system\", \"system\", \"system\", \"system\", \"system\", \"system\", \"take\", \"take\", \"take\", \"take\", \"take\", \"talking\", \"taquero\", \"tcm\", \"teamla\", \"test\", \"test\", \"test\", \"test\", \"test\", \"test\", \"test\", \"test\", \"testing\", \"testing\", \"testing\", \"testing\", \"testing\", \"testing\", \"texas\", \"texas\", \"thank\", \"thank\", \"thank\", \"thank\", \"thank\", \"thank\", \"theatre\", \"thing\", \"thing\", \"thing\", \"thing\", \"thing\", \"thing\", \"thing\", \"thing\", \"think\", \"think\", \"think\", \"think\", \"think\", \"think\", \"think\", \"tho\", \"tho\", \"thought\", \"thought\", \"thought\", \"time\", \"time\", \"time\", \"time\", \"time\", \"time\", \"time\", \"time\", \"time\", \"today\", \"today\", \"today\", \"today\", \"today\", \"today\", \"today\", \"today\", \"tomorrow\", \"tragedy\", \"travel\", \"travel\", \"traveling\", \"tree\", \"true\", \"true\", \"true\", \"true\", \"true\", \"trump\", \"trump\", \"trump\", \"trump\", \"trump\", \"trump\", \"trump\", \"trump\", \"tryna\", \"tswift\", \"tweet\", \"tweet\", \"two\", \"two\", \"two\", \"two\", \"type\", \"u\", \"u\", \"u\", \"u\", \"u\", \"u\", \"u\", \"u\", \"u\", \"ucsf\", \"ucsf\", \"un\", \"underestimate\", \"unforeseen\", \"unlucky\", \"uqol22nif1\", \"vaccine\", \"vaccine\", \"vaccine\", \"vaccine\", \"vaccine\", \"via\", \"via\", \"via\", \"via\", \"via\", \"view\", \"view\", \"violates\", \"virus\", \"virus\", \"virus\", \"virus\", \"virus\", \"virus\", \"virus\", \"virus\", \"virus\", \"voting\", \"w\", \"w\", \"w\", \"wait\", \"wait\", \"want\", \"want\", \"want\", \"want\", \"want\", \"want\", \"want\", \"want\", \"want\", \"watch\", \"watch\", \"watch\", \"way\", \"way\", \"way\", \"way\", \"way\", \"way\", \"weak\", \"webinar\", \"website\", \"website\", \"week\", \"week\", \"week\", \"week\", \"week\", \"week\", \"week\", \"week\", \"week\", \"well\", \"well\", \"well\", \"well\", \"well\", \"well\", \"wet\", \"whitehouse\", \"win\", \"win\", \"win\", \"wonderful\", \"wonderful\", \"work\", \"work\", \"work\", \"work\", \"work\", \"work\", \"work\", \"work\", \"work\", \"world\", \"world\", \"world\", \"world\", \"world\", \"world\", \"world\", \"world\", \"worldwide\", \"worry\", \"would\", \"would\", \"would\", \"would\", \"would\", \"would\", \"would\", \"wow\", \"wuhan\", \"wuhan\", \"wuhan\", \"wuhan\", \"wuhan\", \"wuhan\", \"x\", \"year\", \"year\", \"year\", \"year\", \"year\", \"year\", \"year\", \"year\", \"yes\", \"yes\", \"yes\", \"zoo\", \"\\u0926\", \"\\u092f\", \"\\u0930\", \"\\ud83d\\ude33\"]}, \"R\": 30, \"lambda.step\": 0.01, \"plot.opts\": {\"xlab\": \"PC1\", \"ylab\": \"PC2\"}, \"topic.order\": [2, 6, 1, 9, 3, 4, 7, 5, 8]};\n",
       "\n",
       "function LDAvis_load_lib(url, callback){\n",
       "  var s = document.createElement('script');\n",
       "  s.src = url;\n",
       "  s.async = true;\n",
       "  s.onreadystatechange = s.onload = callback;\n",
       "  s.onerror = function(){console.warn(\"failed to load library \" + url);};\n",
       "  document.getElementsByTagName(\"head\")[0].appendChild(s);\n",
       "}\n",
       "\n",
       "if(typeof(LDAvis) !== \"undefined\"){\n",
       "   // already loaded: just create the visualization\n",
       "   !function(LDAvis){\n",
       "       new LDAvis(\"#\" + \"ldavis_el522501121728250409192153665\", ldavis_el522501121728250409192153665_data);\n",
       "   }(LDAvis);\n",
       "}else if(typeof define === \"function\" && define.amd){\n",
       "   // require.js is available: use it to load d3/LDAvis\n",
       "   require.config({paths: {d3: \"https://cdnjs.cloudflare.com/ajax/libs/d3/3.5.5/d3.min\"}});\n",
       "   require([\"d3\"], function(d3){\n",
       "      window.d3 = d3;\n",
       "      LDAvis_load_lib(\"https://cdn.rawgit.com/bmabey/pyLDAvis/files/ldavis.v1.0.0.js\", function(){\n",
       "        new LDAvis(\"#\" + \"ldavis_el522501121728250409192153665\", ldavis_el522501121728250409192153665_data);\n",
       "      });\n",
       "    });\n",
       "}else{\n",
       "    // require.js not available: dynamically load d3 & LDAvis\n",
       "    LDAvis_load_lib(\"https://cdnjs.cloudflare.com/ajax/libs/d3/3.5.5/d3.min.js\", function(){\n",
       "         LDAvis_load_lib(\"https://cdn.rawgit.com/bmabey/pyLDAvis/files/ldavis.v1.0.0.js\", function(){\n",
       "                 new LDAvis(\"#\" + \"ldavis_el522501121728250409192153665\", ldavis_el522501121728250409192153665_data);\n",
       "            })\n",
       "         });\n",
       "}\n",
       "</script>"
      ],
      "text/plain": [
       "PreparedData(topic_coordinates=              x         y  topics  cluster       Freq\n",
       "topic                                                \n",
       "1     -0.076372 -0.100160       1        1  17.252684\n",
       "5     -0.075178  0.105405       2        1  13.140503\n",
       "0      0.032800 -0.084979       3        1  11.935395\n",
       "8     -0.051077  0.012439       4        1  11.457970\n",
       "2     -0.037319  0.031813       5        1  11.213773\n",
       "3     -0.002030 -0.010382       6        1  10.464849\n",
       "6      0.089446  0.040636       7        1   8.583090\n",
       "4      0.015451 -0.007696       8        1   8.492729\n",
       "7      0.104278  0.012924       9        1   7.459013, topic_info=            Term        Freq       Total Category  logprob  loglift\n",
       "8           http  286.000000  286.000000  Default  30.0000  30.0000\n",
       "3             co  286.000000  286.000000  Default  29.0000  29.0000\n",
       "697           de   16.000000   16.000000  Default  28.0000  28.0000\n",
       "238          amp   56.000000   56.000000  Default  27.0000  27.0000\n",
       "4    coronavirus  135.000000  135.000000  Default  26.0000  26.0000\n",
       "..           ...         ...         ...      ...      ...      ...\n",
       "8           http    2.606051  286.284546   Topic9  -5.8549  -2.1034\n",
       "3             co    2.604700  286.941925   Topic9  -5.8554  -2.1062\n",
       "264        state    1.981320   14.016912   Topic9  -6.1289   0.6392\n",
       "216        virus    1.981147   68.917366   Topic9  -6.1290  -0.9535\n",
       "390         even    1.981122   16.830639   Topic9  -6.1290   0.4562\n",
       "\n",
       "[691 rows x 6 columns], token_table=      Topic      Freq Term\n",
       "term                      \n",
       "1034      3  0.933673     \n",
       "2406      1  0.269793   00\n",
       "2406      2  0.539585   00\n",
       "66        1  0.289906  000\n",
       "66        3  0.096635  000\n",
       "...     ...       ...  ...\n",
       "2393      5  0.472064  zoo\n",
       "4926      1  0.890655    द\n",
       "4928      1  0.890655    य\n",
       "4929      1  0.890655    र\n",
       "1164      6  0.475921    😳\n",
       "\n",
       "[1351 rows x 3 columns], R=30, lambda_step=0.01, plot_opts={'xlab': 'PC1', 'ylab': 'PC2'}, topic_order=[2, 6, 1, 9, 3, 4, 7, 5, 8])"
      ]
     },
     "execution_count": 57,
     "metadata": {},
     "output_type": "execute_result"
    }
   ],
   "source": [
    "\n",
    "pyLDAvis.enable_notebook()\n",
    "vis = pyLDAvis.gensim.prepare(ldamodel, corpus, dictionary=ldamodel.id2word)\n",
    "vis"
   ]
  },
  {
   "cell_type": "markdown",
   "metadata": {},
   "source": [
    "### Top 30 keywords for the 9 topics "
   ]
  },
  {
   "cell_type": "code",
   "execution_count": 58,
   "metadata": {
    "scrolled": true
   },
   "outputs": [
    {
     "name": "stdout",
     "output_type": "stream",
     "text": [
      "Topic: 0 \n",
      "Words: co|http|corona|covid|people|virus|know|19|go|like|fuck|case|get|make|right|day|coronavirus|covid19|got|one|yes|best|back|think|still|work|need|good|great|shit\n",
      "Topic: 1 \n",
      "Words: http|co|coronavirus|corona|covid19|virus|trump|people|amp|u|via|covid|think|2|travel|really|thing|hand|california|today|one|make|right|need|like|get|w|day|due|fact\n",
      "Topic: 2 \n",
      "Words: co|http|coronavirus|corona|time|covid|amp|virus|get|covid19|new|would|china|people|san|wow|say|realdonaldtrump|u|trump|case|via|el|de|look|week|19|way|pandemic|test\n",
      "Topic: 3 \n",
      "Words: http|co|coronavirus|covid|19|get|people|say|like|home|3|u|may|please|corona|stay|city|stop|covid19|getting|california|vaccine|mean|quarantine|good|real|look|china|got|one\n",
      "Topic: 4 \n",
      "Words: co|http|coronavirus|covid|corona|covid19|virus|19|day|time|need|one|got|year|help|trump|new|test|hospital|go|realdonaldtrump|good|would|stay|pandemic|going|business|still|like|listen\n",
      "Topic: 5 \n",
      "Words: http|co|coronavirus|covid|amp|19|u|covid19|corona|get|case|like|want|virus|people|time|mask|via|need|one|go|year|thank|political|right|please|day|death|new|idiot\n",
      "Topic: 6 \n",
      "Words: covid|coronavirus|http|co|19|like|covid19|death|de|day|home|california|would|need|one|lockdown|even|well|way|amp|corona|thank|free|everyone|see|give|work|say|least|new\n",
      "Topic: 7 \n",
      "Words: amp|covid19|trump|coronavirus|de|000|come|2|death|covid|u|corona|one|que|pandemic|go|19|el|would|people|home|8|http|co|great|week|state|impact|virus|even\n",
      "Topic: 8 \n",
      "Words: co|http|virus|people|covid|covid19|amp|corona|19|take|new|coronavirus|help|wuhan|home|u|le|california|like|get|great|health|year|true|pandemic|watch|please|business|world|support\n"
     ]
    }
   ],
   "source": [
    "for idx, topic in ldamodel.show_topics(formatted=False, num_words= 30):\n",
    "    print('Topic: {} \\nWords: {}'.format(idx, '|'.join([w[0] for w in topic])))"
   ]
  },
  {
   "cell_type": "markdown",
   "metadata": {},
   "source": [
    "### Findings from LDA Analysis"
   ]
  },
  {
   "cell_type": "markdown",
   "metadata": {},
   "source": [
    "    Taking a closer look at the popular words in each topic, we can see that different topics have different main focuses, but some of them have overlapped focus, which we can also tell from the dynamic pyLDAvis plots. For example, topic 7 mainly focus on the lockdown policy and the cities that are experiencing lockdown because of covid-19, and topic 9 mainly focus on covid-19 itself and the impact of it. Clearly, topic 7 and topic 9 have different focuses, but they do have overlap."
   ]
  },
  {
   "cell_type": "markdown",
   "metadata": {},
   "source": [
    "### Wordcloud of Top 30 words in each topic"
   ]
  },
  {
   "cell_type": "code",
   "execution_count": 59,
   "metadata": {
    "scrolled": true
   },
   "outputs": [
    {
     "data": {
      "image/png": "[encoded data removed]",
      "text/plain": [
       "<Figure size 720x720 with 9 Axes>"
      ]
     },
     "metadata": {
      "needs_background": "light"
     },
     "output_type": "display_data"
    }
   ],
   "source": [
    "cols = [color for name, color in mcolors.TABLEAU_COLORS.items()] \n",
    "total_stopwords = stop_words\n",
    "cloud = WordCloud(stopwords=total_stopwords,\n",
    "                  background_color='white',\n",
    "                  width=2500,\n",
    "                  height=1800,\n",
    "                  max_words=30,\n",
    "                  colormap='tab10',\n",
    "                  color_func=lambda *args, **kwargs: cols[i],\n",
    "                  prefer_horizontal=1.0)\n",
    "\n",
    "topics = ldamodel.show_topics(formatted=False)\n",
    "\n",
    "fig, axes = plt.subplots(3, 3, figsize=(10,10), sharex=True, sharey=True)\n",
    "\n",
    "for i, ax in enumerate(axes.flatten()):\n",
    "    fig.add_subplot(ax)\n",
    "    topic_words = dict(topics[i][1])\n",
    "    cloud.generate_from_frequencies(topic_words, max_font_size=300)\n",
    "    plt.gca().imshow(cloud)\n",
    "    plt.gca().set_title('Topic ' + str(i), fontdict=dict(size=16))\n",
    "    plt.gca().axis('off')\n",
    "\n",
    "\n",
    "plt.subplots_adjust(wspace=0, hspace=0)\n",
    "plt.axis('off')\n",
    "plt.margins(x=0, y=0)\n",
    "plt.tight_layout()\n",
    "plt.show()"
   ]
  },
  {
   "cell_type": "markdown",
   "metadata": {},
   "source": [
    "### Sentiment Analysis on Emoji"
   ]
  },
  {
   "cell_type": "code",
   "execution_count": 60,
   "metadata": {
    "scrolled": false
   },
   "outputs": [
    {
     "data": {
      "text/html": [
       "<div>\n",
       "<style scoped>\n",
       "    .dataframe tbody tr th:only-of-type {\n",
       "        vertical-align: middle;\n",
       "    }\n",
       "\n",
       "    .dataframe tbody tr th {\n",
       "        vertical-align: top;\n",
       "    }\n",
       "\n",
       "    .dataframe thead th {\n",
       "        text-align: right;\n",
       "    }\n",
       "</style>\n",
       "<table border=\"1\" class=\"dataframe\">\n",
       "  <thead>\n",
       "    <tr style=\"text-align: right;\">\n",
       "      <th></th>\n",
       "      <th>emojis</th>\n",
       "    </tr>\n",
       "  </thead>\n",
       "  <tbody>\n",
       "    <tr>\n",
       "      <th>0</th>\n",
       "      <td>😑,😑,😫</td>\n",
       "    </tr>\n",
       "    <tr>\n",
       "      <th>1</th>\n",
       "      <td></td>\n",
       "    </tr>\n",
       "    <tr>\n",
       "      <th>2</th>\n",
       "      <td>💀,🙈</td>\n",
       "    </tr>\n",
       "    <tr>\n",
       "      <th>3</th>\n",
       "      <td></td>\n",
       "    </tr>\n",
       "    <tr>\n",
       "      <th>4</th>\n",
       "      <td></td>\n",
       "    </tr>\n",
       "  </tbody>\n",
       "</table>\n",
       "</div>"
      ],
      "text/plain": [
       "  emojis\n",
       "0  😑,😑,😫\n",
       "1       \n",
       "2    💀,🙈\n",
       "3       \n",
       "4       "
      ]
     },
     "execution_count": 60,
     "metadata": {},
     "output_type": "execute_result"
    }
   ],
   "source": [
    "df_tweets_emoji = pd.DataFrame(tweets_with_emojis['emojis'])\n",
    "df_tweets_emoji.head()"
   ]
  },
  {
   "cell_type": "code",
   "execution_count": 61,
   "metadata": {},
   "outputs": [],
   "source": [
    "# def extract_emojis(s):\n",
    "#   return ''.join(c for c in s if c in emoji.UNICODE_EMOJI)"
   ]
  },
  {
   "cell_type": "code",
   "execution_count": 62,
   "metadata": {},
   "outputs": [],
   "source": [
    "# combined_emoji_list = []\n",
    "# for i in range(len(df_tweets_emoji.index)):\n",
    "#     combined_emoji_list.append(extract_emojis(df_tweets_emoji.iloc[i]['emojis']))\n",
    "# df_tweets_emoji['combined_emoji'] = combined_emoji_list"
   ]
  },
  {
   "cell_type": "code",
   "execution_count": 63,
   "metadata": {},
   "outputs": [],
   "source": [
    "# df_tweets_emoji.head()"
   ]
  },
  {
   "cell_type": "code",
   "execution_count": 64,
   "metadata": {
    "scrolled": true
   },
   "outputs": [],
   "source": [
    "# define emoji sentiment score function\n",
    "from emosent import get_emoji_sentiment_rank\n",
    "def emoji_sentiment(text):\n",
    "    return get_emoji_sentiment_rank(text)[\"sentiment_score\"] if not pd.isna(text) else np.NaN"
   ]
  },
  {
   "cell_type": "markdown",
   "metadata": {},
   "source": [
    "### Find the popolar emojis in different sentiment types"
   ]
  },
  {
   "cell_type": "markdown",
   "metadata": {},
   "source": [
    "#### Add sentiment labels according to compoound"
   ]
  },
  {
   "cell_type": "code",
   "execution_count": 65,
   "metadata": {},
   "outputs": [],
   "source": [
    "df_emojis_in_sentiment_type = pd.concat([df_tweets_sentiment_NLTK, df_tweets_emoji], axis = 1)"
   ]
  },
  {
   "cell_type": "code",
   "execution_count": 66,
   "metadata": {
    "scrolled": true
   },
   "outputs": [
    {
     "data": {
      "text/html": [
       "<div>\n",
       "<style scoped>\n",
       "    .dataframe tbody tr th:only-of-type {\n",
       "        vertical-align: middle;\n",
       "    }\n",
       "\n",
       "    .dataframe tbody tr th {\n",
       "        vertical-align: top;\n",
       "    }\n",
       "\n",
       "    .dataframe thead th {\n",
       "        text-align: right;\n",
       "    }\n",
       "</style>\n",
       "<table border=\"1\" class=\"dataframe\">\n",
       "  <thead>\n",
       "    <tr style=\"text-align: right;\">\n",
       "      <th></th>\n",
       "      <th>neg</th>\n",
       "      <th>neu</th>\n",
       "      <th>pos</th>\n",
       "      <th>compound</th>\n",
       "      <th>emojis</th>\n",
       "    </tr>\n",
       "  </thead>\n",
       "  <tbody>\n",
       "    <tr>\n",
       "      <th>0</th>\n",
       "      <td>0.592</td>\n",
       "      <td>0.408</td>\n",
       "      <td>0.000</td>\n",
       "      <td>-0.4404</td>\n",
       "      <td>😑,😑,😫</td>\n",
       "    </tr>\n",
       "    <tr>\n",
       "      <th>1</th>\n",
       "      <td>0.074</td>\n",
       "      <td>0.615</td>\n",
       "      <td>0.311</td>\n",
       "      <td>0.7003</td>\n",
       "      <td></td>\n",
       "    </tr>\n",
       "    <tr>\n",
       "      <th>2</th>\n",
       "      <td>0.202</td>\n",
       "      <td>0.620</td>\n",
       "      <td>0.178</td>\n",
       "      <td>-0.0772</td>\n",
       "      <td>💀,🙈</td>\n",
       "    </tr>\n",
       "    <tr>\n",
       "      <th>3</th>\n",
       "      <td>0.168</td>\n",
       "      <td>0.543</td>\n",
       "      <td>0.288</td>\n",
       "      <td>0.2960</td>\n",
       "      <td></td>\n",
       "    </tr>\n",
       "    <tr>\n",
       "      <th>4</th>\n",
       "      <td>0.000</td>\n",
       "      <td>0.563</td>\n",
       "      <td>0.437</td>\n",
       "      <td>0.7351</td>\n",
       "      <td></td>\n",
       "    </tr>\n",
       "  </tbody>\n",
       "</table>\n",
       "</div>"
      ],
      "text/plain": [
       "     neg    neu    pos  compound emojis\n",
       "0  0.592  0.408  0.000   -0.4404  😑,😑,😫\n",
       "1  0.074  0.615  0.311    0.7003       \n",
       "2  0.202  0.620  0.178   -0.0772    💀,🙈\n",
       "3  0.168  0.543  0.288    0.2960       \n",
       "4  0.000  0.563  0.437    0.7351       "
      ]
     },
     "execution_count": 66,
     "metadata": {},
     "output_type": "execute_result"
    }
   ],
   "source": [
    "df_emojis_in_sentiment_type.head()"
   ]
  },
  {
   "cell_type": "code",
   "execution_count": 67,
   "metadata": {},
   "outputs": [],
   "source": [
    "# add sentiment labels according to the score of compound\n",
    "sentiment_label_list = []\n",
    "for i in range(len(df_emojis_in_sentiment_type.index)):\n",
    "    if df_emojis_in_sentiment_type.iloc[i]['compound'] == 0.0 or df_emojis_in_sentiment_type.iloc[i]['compound'] == -0.0 : \n",
    "        sentiment_label_list.append('neural')\n",
    "    elif df_emojis_in_sentiment_type.iloc[i]['compound'] < 0.0:\n",
    "        sentiment_label_list.append('negative')\n",
    "    else:\n",
    "        sentiment_label_list.append('positive')"
   ]
  },
  {
   "cell_type": "code",
   "execution_count": 68,
   "metadata": {
    "scrolled": true
   },
   "outputs": [
    {
     "data": {
      "text/html": [
       "<div>\n",
       "<style scoped>\n",
       "    .dataframe tbody tr th:only-of-type {\n",
       "        vertical-align: middle;\n",
       "    }\n",
       "\n",
       "    .dataframe tbody tr th {\n",
       "        vertical-align: top;\n",
       "    }\n",
       "\n",
       "    .dataframe thead th {\n",
       "        text-align: right;\n",
       "    }\n",
       "</style>\n",
       "<table border=\"1\" class=\"dataframe\">\n",
       "  <thead>\n",
       "    <tr style=\"text-align: right;\">\n",
       "      <th></th>\n",
       "      <th>neg</th>\n",
       "      <th>neu</th>\n",
       "      <th>pos</th>\n",
       "      <th>compound</th>\n",
       "      <th>emojis</th>\n",
       "      <th>sentiment_labels</th>\n",
       "    </tr>\n",
       "  </thead>\n",
       "  <tbody>\n",
       "    <tr>\n",
       "      <th>0</th>\n",
       "      <td>0.592</td>\n",
       "      <td>0.408</td>\n",
       "      <td>0.000</td>\n",
       "      <td>-0.4404</td>\n",
       "      <td>😑,😑,😫</td>\n",
       "      <td>negative</td>\n",
       "    </tr>\n",
       "    <tr>\n",
       "      <th>1</th>\n",
       "      <td>0.074</td>\n",
       "      <td>0.615</td>\n",
       "      <td>0.311</td>\n",
       "      <td>0.7003</td>\n",
       "      <td></td>\n",
       "      <td>positive</td>\n",
       "    </tr>\n",
       "    <tr>\n",
       "      <th>2</th>\n",
       "      <td>0.202</td>\n",
       "      <td>0.620</td>\n",
       "      <td>0.178</td>\n",
       "      <td>-0.0772</td>\n",
       "      <td>💀,🙈</td>\n",
       "      <td>negative</td>\n",
       "    </tr>\n",
       "    <tr>\n",
       "      <th>3</th>\n",
       "      <td>0.168</td>\n",
       "      <td>0.543</td>\n",
       "      <td>0.288</td>\n",
       "      <td>0.2960</td>\n",
       "      <td></td>\n",
       "      <td>positive</td>\n",
       "    </tr>\n",
       "    <tr>\n",
       "      <th>4</th>\n",
       "      <td>0.000</td>\n",
       "      <td>0.563</td>\n",
       "      <td>0.437</td>\n",
       "      <td>0.7351</td>\n",
       "      <td></td>\n",
       "      <td>positive</td>\n",
       "    </tr>\n",
       "  </tbody>\n",
       "</table>\n",
       "</div>"
      ],
      "text/plain": [
       "     neg    neu    pos  compound emojis sentiment_labels\n",
       "0  0.592  0.408  0.000   -0.4404  😑,😑,😫         negative\n",
       "1  0.074  0.615  0.311    0.7003                positive\n",
       "2  0.202  0.620  0.178   -0.0772    💀,🙈         negative\n",
       "3  0.168  0.543  0.288    0.2960                positive\n",
       "4  0.000  0.563  0.437    0.7351                positive"
      ]
     },
     "execution_count": 68,
     "metadata": {},
     "output_type": "execute_result"
    }
   ],
   "source": [
    "df_emojis_in_sentiment_type['sentiment_labels'] = sentiment_label_list\n",
    "df_emojis_in_sentiment_type.head()"
   ]
  },
  {
   "cell_type": "markdown",
   "metadata": {},
   "source": [
    "#### Group by each sentiment label and add to an dictionary"
   ]
  },
  {
   "cell_type": "code",
   "execution_count": 69,
   "metadata": {},
   "outputs": [],
   "source": [
    "# sentiment_labels_dict\n",
    "sentiment_labels_dict = df_emojis_in_sentiment_type.groupby('sentiment_labels')['emojis'].apply(list).to_dict()"
   ]
  },
  {
   "cell_type": "code",
   "execution_count": 70,
   "metadata": {
    "scrolled": true
   },
   "outputs": [],
   "source": [
    "# Remove empty strings\n",
    "positive_list = list(filter(None, sentiment_labels_dict.get(\"positive\")))\n",
    "negative_list = list(filter(None, sentiment_labels_dict.get(\"negative\")))\n",
    "neural_list = list(filter(None, sentiment_labels_dict.get(\"neural\")))\n",
    "sentiment_labels_dict['positive'] = positive_list\n",
    "sentiment_labels_dict['negative'] = negative_list\n",
    "sentiment_labels_dict['neural'] = neural_list"
   ]
  },
  {
   "cell_type": "code",
   "execution_count": 71,
   "metadata": {
    "scrolled": false
   },
   "outputs": [
    {
     "data": {
      "text/plain": [
       "{'negative': ['😑,😑,😫',\n",
       "  '💀,🙈',\n",
       "  '❤️,❤️,❤️,❤️,❤️,❤️,❤️,❤️,❤️,❤️,❤️,❤️,❤️',\n",
       "  '😡,😡',\n",
       "  '‼️,🗣,‼️',\n",
       "  '😭,😭,😭,😭,😭,😭,😭',\n",
       "  '🤬,🤬,🤬,🤯',\n",
       "  '🥴',\n",
       "  '🦠,🤔,🤔,🤔,🤔,🤔,🤔,🤔',\n",
       "  '🥴,🥴,🥴',\n",
       "  '✌🏼,❤️,🇺🇸',\n",
       "  '🥺',\n",
       "  '👇🏼',\n",
       "  '🧐',\n",
       "  '🙄',\n",
       "  '😥',\n",
       "  '🧐,🧐,🧐,🧐',\n",
       "  '👁,🌎,👁',\n",
       "  '🤔',\n",
       "  '😟,😷',\n",
       "  '💯',\n",
       "  '😮,🦠',\n",
       "  '🤬,🤯,📛,🆘,📛,🛑,📛,🆘,🛑,📛,🆘,📛,🛑',\n",
       "  '😤',\n",
       "  '😩,😷',\n",
       "  '🗽,👀,😳',\n",
       "  '🤔',\n",
       "  '😳',\n",
       "  '🤪,😛,😜,🤢',\n",
       "  '😂,😂',\n",
       "  '❤️,🇺🇸,🇲🇽',\n",
       "  '😑',\n",
       "  '🥔,🥔,🥔,🥔',\n",
       "  '🛑,🛑,🙏,🇺🇸,✔,⚖',\n",
       "  '😒',\n",
       "  '🤷\\u200d♂️',\n",
       "  '👍🏽,👌🏽,😁',\n",
       "  '🥴',\n",
       "  '😩',\n",
       "  '🙃,🚨,😂,🙄,👀,👀,👏,👏,😎'],\n",
       " 'neural': ['💔,💔,💔,🙏🏽,🙏🏽,🙏🏽',\n",
       "  '🍸',\n",
       "  '🐾',\n",
       "  '📢,📌,❓,❗',\n",
       "  '🥺,🤯',\n",
       "  '😐',\n",
       "  '🍺,😷',\n",
       "  '❗️',\n",
       "  '😢',\n",
       "  '😷,🐝',\n",
       "  '🍆,😍,💦',\n",
       "  '👏🏼,👏🏼,👏🏼',\n",
       "  '🙄,🤣,🤣',\n",
       "  '🤣,🤣,🤣',\n",
       "  '🤦🏽\\u200d♂️',\n",
       "  '🍻',\n",
       "  '😍',\n",
       "  '🤔',\n",
       "  '🤔,🇺🇸,🙏,🇺🇸',\n",
       "  '😳',\n",
       "  '💀,💀,💀',\n",
       "  '😳',\n",
       "  '🤷🏻\\u200d♂️,🤷🏻\\u200d♂️',\n",
       "  '👉',\n",
       "  '🥺',\n",
       "  '😳',\n",
       "  '💀,💀,💀',\n",
       "  '😂',\n",
       "  '😢,😢,😢',\n",
       "  '😂,😂,😂',\n",
       "  '🥺',\n",
       "  '😬',\n",
       "  '🇺🇸',\n",
       "  '😏,🤝',\n",
       "  '🥺',\n",
       "  '😽',\n",
       "  '💀',\n",
       "  '🧫',\n",
       "  '🦠,😵',\n",
       "  '🐾,🐾',\n",
       "  '🇦🇨,🇦🇩,🇦🇪,🇦🇫,🇦🇬,🇦🇮,🇦🇱,🇦🇲,🇦🇴,🇦🇶,🇦🇷,🇦🇸,🇦🇹,🇦🇺,🇦🇼,🇦🇽,🇦🇿,🇧🇦,🇧🇧,🇧🇩,🇧🇪,🇧🇫,🇧🇬,🇧🇭,🇧🇮,🇧🇯,🇧🇱,🇧🇲,🇧🇳,🇧🇴,🇧🇶,🇧🇷,🇧🇸,🇧🇹,🇧🇼,🇧🇾,🇧🇿,🇨🇦,🇨🇨,🇨🇩,🇨🇫,🇨🇬,🇨🇭,🇨🇮,🇨🇰,🇨🇱,🇨🇲,🇨🇳,🇨🇴,🇨🇷,🇨🇺,🇨🇻,🇨🇼,🇨🇽,🇨🇾,🇨🇿,🇩🇪,🇩🇯,🇩🇰,🇩🇲,🇩🇴,🇩🇿,🇪🇨,🇪🇪,🇪🇬,🇪🇭,🇪🇷,🇪🇸,🇪🇹,🇪🇺,🇫🇮,🇫🇯,🇫🇰,🇫🇲,🇫🇴,🇫🇷,🇬🇦,🇬🇧,🇬🇩,🇬🇪,🇬🇫,🇬🇬,🇬🇭,🇬🇮,🇬🇱,🇬🇲,🇬🇳,🇬🇵,🇬🇶,🇬🇷,🇬🇸,🇬🇹,🇬🇺,🇬🇼,🇬🇾,🇭🇰,🇭🇲,🇭🇳,🇭🇷,🇭🇹,🇭🇺,🇮🇨,🇮🇩,🇮🇪,🇮🇱,🇮🇲,🇮🇳,🇮🇴,🇮🇶,🇮🇷,🇮🇸,🇮🇹,🇯🇪,🇯🇲,🇯🇴,🇯🇵,🇰🇪,🇰🇬,🇰🇭,🇰🇮,🇰🇲,🇰🇳,🇰🇵,🇰🇷,🇰🇼,🇰🇾,🇰🇿,🇱🇦',\n",
       "  '😳,😳,😳',\n",
       "  '🤪',\n",
       "  '🚨,‼️,‼️,😔,\\U0001f7e2,🔴',\n",
       "  '🤔,🤣',\n",
       "  '❗️,❗️,❗️,❗️,❗️,🔥,🔥,🔥,🔥,🔥,🔥,🔥,🔥,🔥,🔥,🔥,🔥,🔥,🔥',\n",
       "  '👇,👇,👇,👇,👇',\n",
       "  '👀,😎',\n",
       "  '👏🏻,👏🏻,👏🏻,👏🏻,👏🏻,👏🏻',\n",
       "  '👏',\n",
       "  '😉,😉,😉,🦇',\n",
       "  '😱,😱,😱,😱,😱,😱',\n",
       "  '😂',\n",
       "  '🙌🏽,🙌🏽,🙌🏽',\n",
       "  '😔',\n",
       "  '🤪,🙄,🤧',\n",
       "  '💞,🙏🏻,💞,🙏🏻,💞,🙏🏻,💞',\n",
       "  '😇',\n",
       "  '✨,😂,🔮,😎',\n",
       "  '😭,🖕,🙏,🅰️',\n",
       "  '😕,😕,😕',\n",
       "  '👇,👇,👇,👇',\n",
       "  '🤔',\n",
       "  '♥️,♥️',\n",
       "  '😀',\n",
       "  '😏',\n",
       "  '😭',\n",
       "  '🙏🏻,😢',\n",
       "  '🤦\\u200d♂️'],\n",
       " 'positive': ['✈️,🙏🏻,💲,💲,💲',\n",
       "  '👉🏼',\n",
       "  '🤞🏻,🤞🏻,🤞🏻,🤞🏻,🤞🏻',\n",
       "  '😂,☁️',\n",
       "  '🙏',\n",
       "  '🙏🏼,🙌🏼,🙌🏼,🙌🏼,🙏🏼,🙏🏼,🙏🏼',\n",
       "  '🤣,🙏',\n",
       "  '❤️',\n",
       "  '😡,🤥,😡,🤥,😡,🤥',\n",
       "  '✨,✨',\n",
       "  '🍊',\n",
       "  '😭',\n",
       "  '🤷,😅',\n",
       "  '😷,🤦🏾\\u200d♂️',\n",
       "  '🙏🏻',\n",
       "  '👌,👌,👌',\n",
       "  '👨🏽\\u200d⚕️,❤️,🚑,🧑🏻\\u200d⚕️',\n",
       "  '🙄',\n",
       "  '🙄,😷,🤧,🤢,🤦🏻\\u200d♂️',\n",
       "  '😬',\n",
       "  '🙄',\n",
       "  '❤️',\n",
       "  '🐯,🐯,🐯,🐯,🐯,🐯,🐯,🐯,🐯,🐯,🐯,🐯,🐯',\n",
       "  '✊🏽,💯',\n",
       "  '💪,💕',\n",
       "  '🌻,🗽',\n",
       "  '❤',\n",
       "  '😂,😂',\n",
       "  '❤',\n",
       "  '😭,😭,😭',\n",
       "  '🙏🏻,🙏🏻,🙏🏻',\n",
       "  '🎻,🎸,🎺,🎷,🥁,🎤',\n",
       "  '😩',\n",
       "  '🌯,🚌',\n",
       "  '😂',\n",
       "  '😢',\n",
       "  '🙏',\n",
       "  '⬇',\n",
       "  '🦠',\n",
       "  '🤗',\n",
       "  '👇🏻,👇🏻,👇🏻,👇🏻,👇🏻',\n",
       "  '🌝,🌟,📷',\n",
       "  '🍻',\n",
       "  '😒',\n",
       "  '🙏',\n",
       "  '🤮,🤢',\n",
       "  '😬',\n",
       "  '👉🏾',\n",
       "  '😳',\n",
       "  '😀',\n",
       "  '®',\n",
       "  '🤦\\u200d♂️',\n",
       "  '🤷\\u200d♂️',\n",
       "  '💖,☮',\n",
       "  '😐',\n",
       "  '🙏🏼',\n",
       "  '💜',\n",
       "  '🍺',\n",
       "  '🙏',\n",
       "  '🙏🏻,😂',\n",
       "  '😟',\n",
       "  '🤧',\n",
       "  '🙄,➡️',\n",
       "  '🦠',\n",
       "  '🎶,🎶',\n",
       "  '😭,😒,😷',\n",
       "  '😂']}"
      ]
     },
     "execution_count": 71,
     "metadata": {},
     "output_type": "execute_result"
    }
   ],
   "source": [
    "sentiment_labels_dict"
   ]
  },
  {
   "cell_type": "markdown",
   "metadata": {},
   "source": [
    "#### Count occurance numbers of each emoji in each sentiment label"
   ]
  },
  {
   "cell_type": "code",
   "execution_count": 72,
   "metadata": {},
   "outputs": [
    {
     "data": {
      "text/plain": [
       "228"
      ]
     },
     "execution_count": 72,
     "metadata": {},
     "output_type": "execute_result"
    }
   ],
   "source": [
    "# key: emoji, value: occurance counts\n",
    "count_pos = Counter(emoji for string in positive_list for emoji in string)\n",
    "count_neg = Counter(emoji for string in negative_list for emoji in string)\n",
    "count_neu = Counter(emoji for string in neural_list for emoji in string)\n",
    "# remove the ',' in the dict\n",
    "count_pos.pop(',', None)\n",
    "count_neg.pop(',', None)\n",
    "count_neu.pop(',', None)"
   ]
  },
  {
   "cell_type": "code",
   "execution_count": 73,
   "metadata": {
    "scrolled": true
   },
   "outputs": [],
   "source": [
    "# sort the dictionary by value(occurances of each emoji)\n",
    "# sort count_pos\n",
    "sorted_count_pos = {k: v for k, v in sorted(count_pos.items(), key=lambda item: item[1], reverse=True)}\n",
    "# sort count_neg\n",
    "sorted_count_neg = {k: v for k, v in sorted(count_neg.items(), key=lambda item: item[1], reverse=True)}\n",
    "# sort count_neu\n",
    "sorted_count_neu = {k: v for k, v in sorted(count_neu.items(), key=lambda item: item[1], reverse=True)}"
   ]
  },
  {
   "cell_type": "markdown",
   "metadata": {},
   "source": [
    "#### Popular emojis in positive sentiment category"
   ]
  },
  {
   "cell_type": "code",
   "execution_count": 74,
   "metadata": {
    "scrolled": false
   },
   "outputs": [
    {
     "data": {
      "text/plain": [
       "{'🏻': 18,\n",
       " '🙏': 16,\n",
       " '🐯': 13,\n",
       " '️': 12,\n",
       " '🏼': 9,\n",
       " '😂': 6,\n",
       " '\\u200d': 6,\n",
       " '🤞': 5,\n",
       " '❤': 5,\n",
       " '😭': 5,\n",
       " '👇': 5,\n",
       " '♂': 4,\n",
       " '🙄': 4,\n",
       " '💲': 3,\n",
       " '🙌': 3,\n",
       " '😡': 3,\n",
       " '🤥': 3,\n",
       " '😷': 3,\n",
       " '🤦': 3,\n",
       " '👌': 3,\n",
       " '👉': 2,\n",
       " '✨': 2,\n",
       " '🤷': 2,\n",
       " '🏾': 2,\n",
       " '🏽': 2,\n",
       " '⚕': 2,\n",
       " '🤧': 2,\n",
       " '🤢': 2,\n",
       " '😬': 2,\n",
       " '🦠': 2,\n",
       " '😒': 2,\n",
       " '🎶': 2,\n",
       " '✈': 1,\n",
       " '☁': 1,\n",
       " '🤣': 1,\n",
       " '🍊': 1,\n",
       " '😅': 1,\n",
       " '👨': 1,\n",
       " '🚑': 1,\n",
       " '🧑': 1,\n",
       " '✊': 1,\n",
       " '💯': 1,\n",
       " '💪': 1,\n",
       " '💕': 1,\n",
       " '🌻': 1,\n",
       " '🗽': 1,\n",
       " '🎻': 1,\n",
       " '🎸': 1,\n",
       " '🎺': 1,\n",
       " '🎷': 1,\n",
       " '🥁': 1,\n",
       " '🎤': 1,\n",
       " '😩': 1,\n",
       " '🌯': 1,\n",
       " '🚌': 1,\n",
       " '😢': 1,\n",
       " '⬇': 1,\n",
       " '🤗': 1,\n",
       " '🌝': 1,\n",
       " '🌟': 1,\n",
       " '📷': 1,\n",
       " '🍻': 1,\n",
       " '🤮': 1,\n",
       " '😳': 1,\n",
       " '😀': 1,\n",
       " '®': 1,\n",
       " '💖': 1,\n",
       " '☮': 1,\n",
       " '😐': 1,\n",
       " '💜': 1,\n",
       " '🍺': 1,\n",
       " '😟': 1,\n",
       " '➡': 1}"
      ]
     },
     "execution_count": 74,
     "metadata": {},
     "output_type": "execute_result"
    }
   ],
   "source": [
    "sorted_count_pos"
   ]
  },
  {
   "cell_type": "markdown",
   "metadata": {},
   "source": [
    "#### Popular emojis in negative sentiment category"
   ]
  },
  {
   "cell_type": "code",
   "execution_count": 75,
   "metadata": {
    "scrolled": false
   },
   "outputs": [
    {
     "data": {
      "text/plain": [
       "{'️': 18,\n",
       " '❤': 15,\n",
       " '🤔': 9,\n",
       " '😭': 7,\n",
       " '🥴': 5,\n",
       " '🧐': 5,\n",
       " '📛': 5,\n",
       " '🛑': 5,\n",
       " '🤬': 4,\n",
       " '🥔': 4,\n",
       " '😑': 3,\n",
       " '🇺': 3,\n",
       " '🇸': 3,\n",
       " '🆘': 3,\n",
       " '👀': 3,\n",
       " '😂': 3,\n",
       " '😡': 2,\n",
       " '‼': 2,\n",
       " '🤯': 2,\n",
       " '🦠': 2,\n",
       " '🏼': 2,\n",
       " '🙄': 2,\n",
       " '👁': 2,\n",
       " '😷': 2,\n",
       " '😩': 2,\n",
       " '😳': 2,\n",
       " '🏽': 2,\n",
       " '👏': 2,\n",
       " '😫': 1,\n",
       " '💀': 1,\n",
       " '🙈': 1,\n",
       " '🗣': 1,\n",
       " '✌': 1,\n",
       " '🥺': 1,\n",
       " '👇': 1,\n",
       " '😥': 1,\n",
       " '🌎': 1,\n",
       " '😟': 1,\n",
       " '💯': 1,\n",
       " '😮': 1,\n",
       " '😤': 1,\n",
       " '🗽': 1,\n",
       " '🤪': 1,\n",
       " '😛': 1,\n",
       " '😜': 1,\n",
       " '🤢': 1,\n",
       " '🇲': 1,\n",
       " '🇽': 1,\n",
       " '🙏': 1,\n",
       " '✔': 1,\n",
       " '⚖': 1,\n",
       " '😒': 1,\n",
       " '🤷': 1,\n",
       " '\\u200d': 1,\n",
       " '♂': 1,\n",
       " '👍': 1,\n",
       " '👌': 1,\n",
       " '😁': 1,\n",
       " '🙃': 1,\n",
       " '🚨': 1,\n",
       " '😎': 1}"
      ]
     },
     "execution_count": 75,
     "metadata": {},
     "output_type": "execute_result"
    }
   ],
   "source": [
    "sorted_count_neg"
   ]
  },
  {
   "cell_type": "markdown",
   "metadata": {},
   "source": [
    "#### Popular emojis in neural sentiment category"
   ]
  },
  {
   "cell_type": "code",
   "execution_count": 76,
   "metadata": {
    "scrolled": true
   },
   "outputs": [
    {
     "data": {
      "text/plain": [
       "{'🇬': 25,\n",
       " '🇨': 23,\n",
       " '🇧': 22,\n",
       " '🇦': 21,\n",
       " '🇮': 17,\n",
       " '🇪': 16,\n",
       " '️': 15,\n",
       " '🇰': 15,\n",
       " '🔥': 14,\n",
       " '🏻': 12,\n",
       " '🇩': 11,\n",
       " '🇭': 11,\n",
       " '👏': 10,\n",
       " '🇫': 10,\n",
       " '🇲': 10,\n",
       " '🙏': 9,\n",
       " '🇷': 9,\n",
       " '👇': 9,\n",
       " '🇺': 8,\n",
       " '🇸': 8,\n",
       " '🏽': 7,\n",
       " '❗': 7,\n",
       " '💀': 7,\n",
       " '🇴': 7,\n",
       " '🇯': 7,\n",
       " '🤣': 6,\n",
       " '😳': 6,\n",
       " '😂': 6,\n",
       " '🇱': 6,\n",
       " '🇹': 6,\n",
       " '🇳': 6,\n",
       " '😱': 6,\n",
       " '😢': 5,\n",
       " '🇼': 5,\n",
       " '🇿': 5,\n",
       " '🥺': 4,\n",
       " '\\u200d': 4,\n",
       " '♂': 4,\n",
       " '🤔': 4,\n",
       " '🇶': 4,\n",
       " '🇾': 4,\n",
       " '💞': 4,\n",
       " '💔': 3,\n",
       " '🐾': 3,\n",
       " '🏼': 3,\n",
       " '🇵': 3,\n",
       " '😉': 3,\n",
       " '🙌': 3,\n",
       " '😕': 3,\n",
       " '😷': 2,\n",
       " '😍': 2,\n",
       " '🙄': 2,\n",
       " '🤦': 2,\n",
       " '🤷': 2,\n",
       " '😏': 2,\n",
       " '🇽': 2,\n",
       " '🤪': 2,\n",
       " '‼': 2,\n",
       " '😔': 2,\n",
       " '😎': 2,\n",
       " '😭': 2,\n",
       " '♥': 2,\n",
       " '🍸': 1,\n",
       " '📢': 1,\n",
       " '📌': 1,\n",
       " '❓': 1,\n",
       " '🤯': 1,\n",
       " '😐': 1,\n",
       " '🍺': 1,\n",
       " '🐝': 1,\n",
       " '🍆': 1,\n",
       " '💦': 1,\n",
       " '🍻': 1,\n",
       " '👉': 1,\n",
       " '😬': 1,\n",
       " '🤝': 1,\n",
       " '😽': 1,\n",
       " '🧫': 1,\n",
       " '🦠': 1,\n",
       " '😵': 1,\n",
       " '🇻': 1,\n",
       " '🚨': 1,\n",
       " '\\U0001f7e2': 1,\n",
       " '🔴': 1,\n",
       " '👀': 1,\n",
       " '🦇': 1,\n",
       " '🤧': 1,\n",
       " '😇': 1,\n",
       " '✨': 1,\n",
       " '🔮': 1,\n",
       " '🖕': 1,\n",
       " '🅰': 1,\n",
       " '😀': 1}"
      ]
     },
     "execution_count": 76,
     "metadata": {},
     "output_type": "execute_result"
    }
   ],
   "source": [
    "sorted_count_neu"
   ]
  },
  {
   "cell_type": "markdown",
   "metadata": {},
   "source": [
    "### Findings from sentiment analysis on emojis"
   ]
  },
  {
   "cell_type": "markdown",
   "metadata": {},
   "source": [
    "    Personally, I think analyzing emojis are becoming more important nowadays because in the internet world, people increasingly love to use emojis to show their feelings and emotions. But from my own experience, I feel sometimes challenging to conduct sentiment analysis on emojis because people have different criteria/feelings on different emojis, and sometimes people like to use emojis in a vice versa way.\n",
    "    From the tweets data, we can see that 🙏 ,🐯, 😂, 🤞, ❤, 🙄, 💲 occurs many times in positive sentiment category; ❤, 🤔, 😭, 🥴, 🤬, 😑 are very popular in negative sentiment category; some letter emojis, such as 🇬, 🇨, 🇧, 🇦, occurs the most in the neural sentiment category.\n",
    "    From the results, we can see that in a very straight way that the category of emojis in the real world can approxiately reflectly how people react and use these emojis on tweets. "
   ]
  }
 ],
 "metadata": {
  "kernelspec": {
   "display_name": "Python 3",
   "language": "python",
   "name": "python3"
  },
  "language_info": {
   "codemirror_mode": {
    "name": "ipython",
    "version": 3
   },
   "file_extension": ".py",
   "mimetype": "text/x-python",
   "name": "python",
   "nbconvert_exporter": "python",
   "pygments_lexer": "ipython3",
   "version": "3.7.4"
  }
 },
 "nbformat": 4,
 "nbformat_minor": 4
}
